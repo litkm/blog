{
  "nbformat": 4,
  "nbformat_minor": 0,
  "metadata": {
    "colab": {
      "name": "2022-02-07-Test.ipynb",
      "provenance": [],
      "collapsed_sections": []
    },
    "kernelspec": {
      "name": "python3",
      "display_name": "Python 3"
    },
    "language_info": {
      "name": "python"
    }
  },
  "cells": [
    {
      "cell_type": "markdown",
      "source": [
        "# Test\n",
        "> Testing\n",
        "\n",
        "- toc: true \n",
        "- badges: true\n",
        "- comments: true\n",
        "- image: images/social_logo.png\n",
        "- author: Charles Dobson\n",
        "- categories: [python, artificial intelligence, machine learning, scikit-learn, logistic regression, law, litigation, analytics]"
      ],
      "metadata": {
        "id": "NNjcgVAuVFXn"
      }
    },
    {
      "cell_type": "markdown",
      "source": [
        "# Test\n",
        "\n",
        "Test post."
      ],
      "metadata": {
        "id": "z0HsDv_lVGzj"
      }
    },
    {
      "cell_type": "code",
      "source": [
        "print(\"Hello, world. Is this working?\")"
      ],
      "metadata": {
        "colab": {
          "base_uri": "https://localhost:8080/"
        },
        "id": "xfSxdRUIVJBI",
        "outputId": "9e67ed9d-d4ff-4e69-a751-a0f0a12beb37"
      },
      "execution_count": 1,
      "outputs": [
        {
          "output_type": "stream",
          "name": "stdout",
          "text": [
            "Hello, world. Is this working?\n"
          ]
        }
      ]
    }
  ]
}