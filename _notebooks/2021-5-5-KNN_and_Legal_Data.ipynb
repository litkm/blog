{
  "nbformat": 4,
  "nbformat_minor": 0,
  "metadata": {
    "colab": {
      "name": "2021-5-5-KNN and Legal Data.ipynb",
      "provenance": [],
      "collapsed_sections": []
    },
    "kernelspec": {
      "name": "python3",
      "display_name": "Python 3"
    },
    "language_info": {
      "name": "python"
    }
  },
  "cells": [
    {
      "cell_type": "markdown",
      "metadata": {
        "id": "kjDP8sXVt5cF"
      },
      "source": [
        "# \"K-Nearest Neighbor: Using Machine Learning to Find Analogues in Legal Data\"\n",
        "> A brief intro to `NearestNeighbors()` from scikit-learn\n",
        "\n",
        "- toc: true \n",
        "- badges: true\n",
        "- comments: true\n",
        "- image: images/social_logo.png\n",
        "- author: Charles Dobson\n",
        "- categories: [python, machine learning, scikit-learn, KNN, law]"
      ]
    },
    {
      "cell_type": "markdown",
      "metadata": {
        "id": "JdsHHugGj5Q6"
      },
      "source": [
        "# Introduction\n",
        "\n",
        "*Have we done a budget for a case like this before?* *What other matters have we handled with a similar profile to this one?* *In which other files with characteristics like this one have we brought a summary judgment motion?*\n",
        "\n",
        "This type of question arises regularly in a law firm. Answers can sometimes be challenging. Searching databases via keywords or filters is often inefficient at best, and inadequate at worst. Hence the impetus to apply machine learning to this problem.\n",
        "\n",
        "One approach worth exploring is the *k*-nearest neighbor algorithm. This is among the oldest and simplest machine learning algorithms. It is typically used for regression and classification problems. But it can also be used just to find analogues in a dataset.\n",
        "\n",
        "In this post, I introduce the `NearestNeighbors()` class from the scikit-learn library. This class takes an example, `x`, and simply returns the element(s) in the dataset that most closely resembles it. \n",
        "\n",
        "# The K-Nearest Neighbor Algorithm\n",
        "\n",
        "In a nutshell, KNN processes the elements of a dataset and plots each of them in a multi-dimensional space. The algorithm calculates the location of each element based on its features. The distances between these elements are then used to make predictions.\n",
        "\n",
        "There is no shortage of excellent tutorials on the KNN algorithm. My favourites include [*Develop k-Nearest Neighbors in Python from Scratch*](https://machinelearningmastery.com/tutorial-to-implement-k-nearest-neighbors-in-python-from-scratch/) on [Machine Learning Mastery](https://machinelearningmastery.com/) and [*The k-Nearest Neighbors Algorithm in Python*](https://realpython.com/knn-python/) on [Real Python](https://realpython.com/). [Codecademy](https://www.codecademy.com) also addresses KNN in its [*Build a Machine Learning Model with Python*](https://www.codecademy.com/learn/paths/machine-learning) skills path.\n",
        "\n",
        "All of the tutorials I have studied address using KNN for classification or regression problems. For instance,\n",
        "* Classification: what kind of flower is this example likely to be given the measurements of particular features?\n",
        "* Regression: what is the likely market price of this example of real estate given its various features? (square footage, number of bedrooms, etc.)\n",
        "\n",
        "These tutorials also tend either to focus on coding the KNN algorithm from scratch in Python, or using the `KNeighborsClassifier()` and `KNeighborsRegressor()` classes from scikit-learn. All of these approaches rely on calculating \"nearest neighbors\", but this is not the output the algorithm provides. Rather, the algorithm provides a prediction regarding a classification (`x` is an example of category `y`) or a value for regression (`x` is valued at $`y`).\n",
        "\n",
        "But what if the output you want is simply to know which elements in the dataset are the nearest neighbors to `x`? You could code this from scratch. Or you could use the `NearestNeighbor()` class from scikit-learn.\n",
        "\n",
        "# NearestNeighbors in Action\n",
        "\n",
        "The code below illustrates `NearestNeighbor()` using a very simple dataset.\n",
        "\n",
        "In the below snippet, we import our dependencies and create our sample dataset: five elements (rows), each with five features (columns). To create this dataset, we first define a dictionary with five keys (`A` to `E`), with each key associated with a list containing five values. This dictionary is then converted into a pandas DataFrame."
      ]
    },
    {
      "cell_type": "code",
      "metadata": {
        "colab": {
          "base_uri": "https://localhost:8080/"
        },
        "id": "v3WmY760zaOp",
        "outputId": "fb7d2f91-5b38-401a-8d81-3ddb0cd221b0"
      },
      "source": [
        "import pandas as pd\n",
        "from sklearn.neighbors import NearestNeighbors\n",
        "   \n",
        "samples = {'A': [10, 20, 30, 40, 50],\n",
        "        'B': [10, 20, 30, 40, 50],\n",
        "        'C': [10, 20, 30, 40, 50],\n",
        "        'D': [10, 20, 30, 40, 50],\n",
        "        'E': [10, 20, 30, 40, 50]}\n",
        "  \n",
        "dataset = pd.DataFrame(samples)\n",
        "print(dataset)"
      ],
      "execution_count": 1,
      "outputs": [
        {
          "output_type": "stream",
          "text": [
            "    A   B   C   D   E\n",
            "0  10  10  10  10  10\n",
            "1  20  20  20  20  20\n",
            "2  30  30  30  30  30\n",
            "3  40  40  40  40  40\n",
            "4  50  50  50  50  50\n"
          ],
          "name": "stdout"
        }
      ]
    },
    {
      "cell_type": "markdown",
      "metadata": {
        "id": "1R8hG-lkomBQ"
      },
      "source": [
        "Now suppose we have a new element, `x`, and we want to know which element in our dataset is the most similar (or nearest neighbor) to it. In this example, `x` has a value of 9 across the board (i.e. features `A`, `B`, `C`, `D`, and `E`).\n",
        "\n",
        "In the next snippet, we create a new DataFrame comprising the features for `x`. Then, we instantiate an instance of `NearestNeighbor()`, assign it to the variable `neigh`, and load the dataset.\n",
        "\n",
        "Finally, we run our query using the `kneighbors()` method to find the nearest neighbor to `x`, and print the result."
      ]
    },
    {
      "cell_type": "code",
      "metadata": {
        "colab": {
          "base_uri": "https://localhost:8080/"
        },
        "id": "pSZFRONsoNbv",
        "outputId": "942d5cff-b086-4749-c6c2-6a3861848e66"
      },
      "source": [
        "x = {'A': [9],\n",
        "     'B': [9],\n",
        "     'C': [9],\n",
        "     'D': [9],\n",
        "     'E': [9]}\n",
        "\n",
        "x = pd.DataFrame(x)\n",
        "\n",
        "neigh = NearestNeighbors(n_neighbors=1)\n",
        "neigh.fit(dataset)\n",
        "\n",
        "print(neigh.kneighbors(x))"
      ],
      "execution_count": 2,
      "outputs": [
        {
          "output_type": "stream",
          "text": [
            "(array([[2.23606798]]), array([[0]]))\n"
          ],
          "name": "stdout"
        }
      ]
    },
    {
      "cell_type": "markdown",
      "metadata": {
        "id": "SXVMC204n_TO"
      },
      "source": [
        "`NearestNeighbor` returns `2.236` and `0`, indicating the nearest neighbor to `x` is the element at row `0` of our dataset, and the distance between these elements is `2.236`. \n",
        "\n",
        "Let's try another example, `y`. This example has a value of 60 across the board."
      ]
    },
    {
      "cell_type": "code",
      "metadata": {
        "colab": {
          "base_uri": "https://localhost:8080/"
        },
        "id": "e50BCDnAtfaZ",
        "outputId": "c989640b-3acd-4d9d-e9e0-42d61416a19f"
      },
      "source": [
        "y = {'A': [60],\n",
        "     'B': [60],\n",
        "     'C': [60],\n",
        "     'D': [60],\n",
        "     'E': [60]}\n",
        "\n",
        "y = pd.DataFrame(y)\n",
        "\n",
        "print(neigh.kneighbors(y))"
      ],
      "execution_count": 3,
      "outputs": [
        {
          "output_type": "stream",
          "text": [
            "(array([[22.36067977]]), array([[4]]))\n"
          ],
          "name": "stdout"
        }
      ]
    },
    {
      "cell_type": "markdown",
      "metadata": {
        "id": "DoykD3VTtw70"
      },
      "source": [
        "As expected, the nearest neighbor to `y` is the element at row `4` of our dataset. \n",
        "\n",
        "You can find more information about [`NearestNeighbor()`](https://scikit-learn.org/stable/modules/generated/sklearn.neighbors.NearestNeighbors.html#sklearn.neighbors.NearestNeighbors) in the documentation for scikit-learn.\n",
        "\n",
        "# Applying KNN to Legal Data\n",
        "\n",
        "Admittedly, the preceding example is very abstract when considered in relation to how KNN can be implemented with legal data. Imagine each row of the dataset is one case, and each column is one feature regarding that case (e.g., jurisdiction, case type, etc.) \n",
        "\n",
        "No sugarcoating: one of the trickiest parts to using KNN to find analagues in legal data is first putting the dataset together. This will usually involve a lot of wrangling. But, hey, it's good practice!\n",
        "\n",
        "# Final Thoughts\n",
        "\n",
        "Have you experimented with using KNN on legal data? Hit me up! Let's compare notes.\n"
      ]
    }
  ]
}