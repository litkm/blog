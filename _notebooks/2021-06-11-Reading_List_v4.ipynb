{
  "nbformat": 4,
  "nbformat_minor": 0,
  "metadata": {
    "colab": {
      "provenance": []
    },
    "kernelspec": {
      "name": "python3",
      "display_name": "Python 3"
    },
    "language_info": {
      "name": "python"
    }
  },
  "cells": [
    {
      "cell_type": "markdown",
      "metadata": {
        "id": "g9RnEMOTGC2k"
      },
      "source": [
        "# \"Reading List: Resources I've Found Helpful (Pinned Post)\"\n",
        "> Last Updated April 12, 2023\n",
        "\n",
        "- toc: true \n",
        "- badges: false\n",
        "- comments: true\n",
        "- image: images/social_logo.png\n",
        "- sticky_rank: 3\n",
        "- author: Charles Dobson\n",
        "- categories: [artificial intelligence, data science, general, law, machine learning, python]"
      ]
    },
    {
      "cell_type": "markdown",
      "metadata": {
        "id": "fNH9swWZH0LC"
      },
      "source": [
        "# Introduction\n",
        "\n",
        "This is a non-exhaustive list of resources I've found instructive and insightful. They run the gamut. Some are technical in focus, while others are general reading. Topics range from AI (or some subset of it) only, to law and AI. I will update this list periodically.{% fn 1 %} \n",
        "\n",
        "If there are any resources you'd recommend, please let me know!\n",
        "\n",
        "# Text Books\n",
        "\n",
        "* *Approaching(Almost) Any Machine Learning Problem*, Abhishek Thakur (Self-published, 2020)\n",
        "\n",
        "  This text is well worth the time to read closely and digest. \n",
        "\n",
        "* *Deep Learning Illustrated*, John Krohn (Addison-Wesley Professional, 2019)\n",
        "\n",
        "* *Grokking Algorithms*, Aditya Bhargava (Manning Publications, 2016)\n",
        "\n",
        "* *Grokking Artificial Intelligence Algorithms*, Rishal Hurbans (Manning Publications, 2020)\n",
        "\n",
        "* *Grokking Deep Learning*, Andrew Trask (Manning Publications, 2019)\n",
        "\n",
        "  I cannot say enough good things about this book. This is the resource that made the fundamentals of deep learning \"click\" for me. It also focuses on coding neural networks from scratch in Python, rather than using a library (e.g. Keras). I found this approach very insightful.\n",
        "\n",
        "\n",
        "* *Introduction to Computational Programming Using Python with Application to Understanding Data*, John V. Guttag, (MIT Press, 2016)\n",
        "\n",
        "* *Python for Data Analysis*, Wes McKinney (O'Reilly, 2014)\n",
        "\n",
        "# Online Courses\n",
        "\n",
        "* Apply Natural Language Processing with Python (Skill Path), [Codecademy](https://www.codecademy.com)\n",
        "\n",
        "* Build A Machine Learning Model with Python (Skills Path), [Codecademy](https://www.codecademy.com)\n",
        "\n",
        "* Build Deep Learning Models with TensorFlow (Skills Path), [Codecademy](https://www.codecademy.com)\n",
        "\n",
        "* Computer Science (Career Path), [Codecademy](https://www.codecademy.com)\n",
        "\n",
        "# Websites\n",
        "\n",
        "* [Machine Learning Mastery](https://machinelearningmastery.com/)\n",
        "* [Real Python](https://realpython.com/)\n",
        "\n",
        "# General Reading re: AI \n",
        "\n",
        "* *Artificial Intelligence: A Guide for Thinking Humans*, Melanie Mitchell (Picador, 2019)\n",
        "\n",
        "* *Becoming A Data Head: How to Think, Speak, and Understand Data Science, Statistics, and Machine Learning*, Alex J Gutman and Jordan Goldmeier (Wiley, 2021)\n",
        "\n",
        "* *Possible Minds: Twenty-Five Ways of Looking at AI*, ed. John Brockman (Penguin, 2020)\n",
        "\n",
        "* *The Master Algorithm*, Pedro Domingos (Basic Books, 2018)\n",
        "\n",
        "# Presentations\n",
        "\n",
        "* [*How to recognize AI snake oil*](https://www.cs.princeton.edu/~arvindn/talks/MIT-STS-AI-snakeoil.pdf), Arvind Narayanan, Princeton University\n",
        "\n",
        "# Law & AI: Papers \n",
        "\n",
        "* *AI Tools for Lawyers: A Practical Guide*, Schwartz, Daniel and Choi, Jonathan, March 29 2023, [Available at SSRN](https://papers.ssrn.com/sol3/papers.cfm?abstract_id=4404017)\n",
        "\n",
        "* *Algorithms As Legal Decisions: Gender Gaps and Canadian Employment Law in the 21st Century*, Niblett, Anthony, [Available at SSRN](https://ssrn.com/abstract=3702495)\n",
        "\n",
        "* *Judging by the Numbers: Judicial Analytics, the Justice System and its Stakeholders*, McGill, Jena and Salyzyn, Amy, Dalhousie Law Journal, 2021, [Available Online](https://digitalcommons.schulichlaw.dal.ca/dlj/vol44/iss1/6/)\n",
        "\n",
        "* *Luck of the Draw III: Using AI to Examine Decision-Making in the Federal Court Stays of Removal*, Rehaag, Sean, January 11, 2023, [Available at SSRN](https://papers.ssrn.com/sol3/papers.cfm?abstract_id=4322881)\n",
        "\n",
        "* *Natural Language Processing in the Legal Domain*, Katz, Daniel Martin et al, January 24, 2023, [Available at SSRN](https://papers.ssrn.com/sol3/papers.cfm?abstract_id=4336224)\n",
        "\n",
        "* *Predicting Economic Substance Cases with Machine Learning*, Alarie, Benjamin and Aidid, Abdi, Journal of Tax Practice & Procedure, 2020, [Available at SSRN](https://ssrn.com/abstract=3628421)\n",
        "\n",
        "* *The Recon Approach: A New Direction for Machine Learning in Criminal Law*, Bell, Kristen and Hong, Jenny and McKeown, Nick and Voss, Catalin, Berkeley Technology Law Journal, 2021, [Available at SSRN](https://ssrn.com/abstract=3834710)\n",
        "\n",
        "* *Using Text Analytics to Predict Litigation Outcomes*, Alexander, Charlotte and Al Jadda, Khalifeh and Feizollahi, Mohammed Javad and Tucker, Anne M., Law as Data: Computation, Text, and the Future of Legal Analysis (under contract, Santa Fe Institute Press, Michael Livermore & Daniel Rockmore, eds., 2018, Forthcoming)., Georgia State University College of Law, Legal Studies Research Paper No. 2018-13, [Available at SSRN](https://ssrn.com/abstract=3230224)\n",
        "\n",
        "{{ 'Last edited April 12, 2023.' | fndetail: 1 }}\n",
        "\n",
        "\n",
        "\n",
        " "
      ]
    }
  ]
}