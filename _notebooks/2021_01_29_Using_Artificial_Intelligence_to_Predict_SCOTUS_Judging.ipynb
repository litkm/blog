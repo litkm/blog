{
  "nbformat": 4,
  "nbformat_minor": 0,
  "metadata": {
    "colab": {
      "name": "2021-01-29-Using Artificial Intelligence to Predict SCOTUS Judging.ipynb",
      "provenance": []
    },
    "kernelspec": {
      "name": "python3",
      "display_name": "Python 3"
    }
  },
  "cells": [
    {
      "cell_type": "code",
      "metadata": {
        "id": "xNwW0jC5zICK"
      },
      "source": [
        "Test post. "
      ],
      "execution_count": null,
      "outputs": []
    }
  ]
}