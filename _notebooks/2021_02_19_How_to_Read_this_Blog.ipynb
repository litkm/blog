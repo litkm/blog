{
  "nbformat": 4,
  "nbformat_minor": 0,
  "metadata": {
    "colab": {
      "name": "2021-02-19-How to Read this Blog.ipynb",
      "provenance": [],
      "collapsed_sections": []
    },
    "kernelspec": {
      "name": "python3",
      "display_name": "Python 3"
    }
  },
  "cells": [
    {
      "cell_type": "markdown",
      "metadata": {
        "id": "TUnvRlGvAZJ0"
      },
      "source": [
        "# \"A README re: this Blog\"\r\n",
        "> Technical vs General Posts\r\n",
        "\r\n",
        "- toc: false\r\n",
        "- badges: false\r\n",
        "- comments: true\r\n",
        "- sticky_rank: 1\r\n",
        "- author: Charles Dobson\r\n",
        "- categories: [law, litigation, general]"
      ]
    },
    {
      "cell_type": "markdown",
      "metadata": {
        "id": "j-eC2emg4NJG"
      },
      "source": [
        "As I write this, my plan for this blog is to focus mainly on technical concepts and code. Most posts will presume a familiarity with programming in general and, in particular, Python. Mind you, I won't presume deep familiarity. I can't. My own understanding is too shallow!\r\n",
        "\r\n",
        "That said, I am aiming to include a law angle as often as possible (especially litigation), and I will draft many of these posts with a general, non-technical reader in mind. So, someone who is involved in law and also interested in artificial intelligence, legal tech, etc. To find these posts efficiently, you can use the \"Tags\" function at the top right-hand of your screen and look under the tag \"general\".\r\n",
        "\r\n",
        "Of course, if you have any questions (or corrections!) about anything you read on this site, I would be grateful to hear from you. You can reach me via the \"About Me\" page."
      ]
    }
  ]
}