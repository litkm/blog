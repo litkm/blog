{
  "nbformat": 4,
  "nbformat_minor": 0,
  "metadata": {
    "colab": {
      "provenance": [],
      "collapsed_sections": []
    },
    "kernelspec": {
      "name": "python3",
      "display_name": "Python 3"
    },
    "language_info": {
      "name": "python"
    }
  },
  "cells": [
    {
      "cell_type": "markdown",
      "source": [
        "# Applying Decision Trees in Litigation\n",
        "> A recent article\n",
        "\n",
        "- toc: false\n",
        "- badges: false\n",
        "- comments: false\n",
        "- image: images/social_logo.png\n",
        "- author: Charles Dobson\n",
        "- categories: [decision trees, decision analysis, law, litigation]"
      ],
      "metadata": {
        "id": "YMFkYJLvRzh9"
      }
    },
    {
      "cell_type": "markdown",
      "source": [
        "I recently co-authored an article about decision trees in litigation. The article is titled [A Fresh Take on Applying Decision Trees in Litigation](https://www.lexpert.ca/legal-insights/a-fresh-take-on-applying-decision-trees-to-case-assessments-in-litigation/371177). \n",
        "\n",
        "Note: We are talking about \"decision trees\" as in the technique from the field of decision analysis, not the machine learning algorithm."
      ],
      "metadata": {
        "id": "E_9lZgpwSB1G"
      }
    }
  ]
}
