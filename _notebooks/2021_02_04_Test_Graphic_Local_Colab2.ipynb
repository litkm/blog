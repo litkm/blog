{
  "nbformat": 4,
  "nbformat_minor": 0,
  "metadata": {
    "colab": {
      "name": "2021-02-04-Test Graphic Local Colab2.ipynb",
      "provenance": [],
      "collapsed_sections": []
    },
    "kernelspec": {
      "name": "python3",
      "display_name": "Python 3"
    }
  },
  "cells": [
    {
      "cell_type": "markdown",
      "metadata": {
        "id": "ND5As9kF7Q1I"
      },
      "source": [
        "# Test Graphic 5\r\n",
        "> Applying deep learning to predict Justice Brennan's voting record\r\n",
        "\r\n",
        "- toc: true \r\n",
        "- badges: true\r\n",
        "- comments: true\r\n",
        "- sticky_rank: 4\r\n",
        "- author: Charles Dobson\r\n",
        "- categories: [artificial intelligence, machine learning, deep learning, litigation, analytics]"
      ]
    },
    {
      "cell_type": "markdown",
      "metadata": {
        "id": "zWfNKb7E7Xpo"
      },
      "source": [
        "# Test Graphic from Colab Notebook Again\r\n",
        "\r\n",
        "This an attempt to displace a graphic file from a notebook created with Colab.\r\n",
        "\r\n",
        "![](my_icons/BrennanDataset.png)"
      ]
    }
  ]
}