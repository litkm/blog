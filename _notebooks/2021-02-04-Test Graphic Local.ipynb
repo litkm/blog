{
 "cells": [
  {
   "cell_type": "markdown",
   "metadata": {},
   "source": [
    "# Test Graphic 3\n",
    "> Applying deep learning to predict Justice Brennan's voting record\n",
    "\n",
    "- toc: true \n",
    "- badges: true\n",
    "- comments: true\n",
    "- sticky_rank: 3\n",
    "- author: Charles Dobson\n",
    "- categories: [artificial intelligence, machine learning, deep learning, litigation, analytics]"
   ]
  },
  {
   "cell_type": "markdown",
   "metadata": {},
   "source": [
    "# Test Graphic\n",
    "\n",
    "This an attempt to displace a graphic file.\n",
    "\n",
    "![](my_icons/BrennanDataset.png)"
   ]
  }
 ],
 "metadata": {
  "kernelspec": {
   "display_name": "Python 3",
   "language": "python",
   "name": "python3"
  },
  "language_info": {
   "codemirror_mode": {
    "name": "ipython",
    "version": 3
   },
   "file_extension": ".py",
   "mimetype": "text/x-python",
   "name": "python",
   "nbconvert_exporter": "python",
   "pygments_lexer": "ipython3",
   "version": "3.6.8"
  }
 },
 "nbformat": 4,
 "nbformat_minor": 4
}
