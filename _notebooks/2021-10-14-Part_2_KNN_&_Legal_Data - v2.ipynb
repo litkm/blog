{
  "nbformat": 4,
  "nbformat_minor": 0,
  "metadata": {
    "colab": {
      "name": "Draft Part 2 KNN & Legal Data.ipynb",
      "provenance": [],
      "collapsed_sections": []
    },
    "kernelspec": {
      "name": "python3",
      "display_name": "Python 3"
    },
    "language_info": {
      "name": "python"
    }
  },
  "cells": [
    {
      "cell_type": "markdown",
      "metadata": {
        "id": "0D_78IaTYyc-"
      },
      "source": [
        "# Finding Analogous Cases with K-Nearest Neighbor\n",
        "> How to use scikit-learn's NearestNeighbors() to find matter analogues in tabular legal data\n",
        "\n",
        "- toc: true \n",
        "- badges: true\n",
        "- comments: true\n",
        "- image: images/social_logo.png\n",
        "- author: Charles Dobson\n",
        "- categories: [python, machine learning, scikit-learn, KNN, k-nearest neighbor, law]"
      ]
    },
    {
      "cell_type": "markdown",
      "metadata": {
        "id": "-TAHj6TRZMq-"
      },
      "source": [
        "# Introduction\n",
        "\n",
        "*Partner: What others cases like this has the firm handled in the past?*\n",
        "\n",
        "*Associate: Uhm... (starts thinking of search terms, cancels evening plans)*\n",
        "\n",
        "In an earlier [post](https://www.litkm.com/python/machine%20learning/scikit-learn/knn/law/2021/05/05/KNN_and_Legal_Data_v2.html), I provided a brief introduction to the `NearestNeighbors()' class from Python's scikit-learn library. In this post, I demonstrate one way this algorithm can be applied to legal data in tabular form. The dataset I use comprises matter profiles of 10,000 (fake) cases. I show how 'NearestNeighbors()' can be used to query the dataset to find cases that are similar to each other. \n",
        "\n",
        "For a brief primer on KNN and further resources, please see my first post on this topic.\n",
        "\n",
        "# Applying NearestNeighbors to Legal Data\n",
        "\n",
        "## Importing Dependencies and Loading the Dataset\n",
        "\n",
        "We begin with importing our dependencies and loading the dataset. For this demo, we only need the pandas library and the 'NearestNeighbors()' class from scikit-learn.\n",
        "\n",
        "The dataset is a CSV file hosted on the web (in my GitHub repository). \n",
        "\n",
        "\n",
        "\n",
        "\n",
        "\n",
        "\n"
      ]
    },
    {
      "cell_type": "code",
      "metadata": {
        "id": "jdPvGL9KF_q6"
      },
      "source": [
        "# Import dependencies\n",
        "\n",
        "import pandas as pd\n",
        "from sklearn.neighbors import NearestNeighbors\n",
        "\n",
        "# Load the dataset and remove one unnecessary column that was created when this DataFrame was converted into a CSV file\n",
        "\n",
        "df = 'https://raw.githubusercontent.com/litkm/KNN-Project/main/cases_dataset.csv'\n",
        "df = pd.read_csv(df)\n",
        "df = df.drop('Unnamed: 0', axis=1)\n"
      ],
      "execution_count": 1,
      "outputs": []
    },
    {
      "cell_type": "markdown",
      "metadata": {
        "id": "b2HDmsbdiJtb"
      },
      "source": [
        "## The Dataset\n",
        "\n",
        "Next, let's inspect the dataset."
      ]
    },
    {
      "cell_type": "code",
      "metadata": {
        "colab": {
          "base_uri": "https://localhost:8080/",
          "height": 204
        },
        "id": "Q2DyCnL-rmzj",
        "outputId": "ae3aa13e-f21f-4854-94e2-aa3b93cf4fa0"
      },
      "source": [
        "# Print the first 5 rows from the DataFrame\n",
        "\n",
        "df.head()"
      ],
      "execution_count": 2,
      "outputs": [
        {
          "output_type": "execute_result",
          "data": {
            "text/html": [
              "<div>\n",
              "<style scoped>\n",
              "    .dataframe tbody tr th:only-of-type {\n",
              "        vertical-align: middle;\n",
              "    }\n",
              "\n",
              "    .dataframe tbody tr th {\n",
              "        vertical-align: top;\n",
              "    }\n",
              "\n",
              "    .dataframe thead th {\n",
              "        text-align: right;\n",
              "    }\n",
              "</style>\n",
              "<table border=\"1\" class=\"dataframe\">\n",
              "  <thead>\n",
              "    <tr style=\"text-align: right;\">\n",
              "      <th></th>\n",
              "      <th>Lawyer</th>\n",
              "      <th>Matter Type</th>\n",
              "      <th>Jurisdiction</th>\n",
              "      <th>Industry</th>\n",
              "      <th>Client Role</th>\n",
              "      <th>Tort</th>\n",
              "      <th>Contract</th>\n",
              "      <th>Restitution</th>\n",
              "      <th>Statute</th>\n",
              "      <th>Injunction</th>\n",
              "      <th>Jurisdiction Motion</th>\n",
              "      <th>Motion to Strike</th>\n",
              "      <th>Summary Judgment</th>\n",
              "      <th>Claim Amount</th>\n",
              "    </tr>\n",
              "  </thead>\n",
              "  <tbody>\n",
              "    <tr>\n",
              "      <th>0</th>\n",
              "      <td>Lawyer Iota</td>\n",
              "      <td>Class Action (Securities)</td>\n",
              "      <td>British Columbia</td>\n",
              "      <td>Resources</td>\n",
              "      <td>Defendant</td>\n",
              "      <td>0</td>\n",
              "      <td>0</td>\n",
              "      <td>0</td>\n",
              "      <td>1</td>\n",
              "      <td>1</td>\n",
              "      <td>1</td>\n",
              "      <td>1</td>\n",
              "      <td>1</td>\n",
              "      <td>11907902</td>\n",
              "    </tr>\n",
              "    <tr>\n",
              "      <th>1</th>\n",
              "      <td>Lawyer Beta</td>\n",
              "      <td>Class Action (Competition)</td>\n",
              "      <td>British Columbia</td>\n",
              "      <td>Retail</td>\n",
              "      <td>Plaintiff</td>\n",
              "      <td>1</td>\n",
              "      <td>1</td>\n",
              "      <td>1</td>\n",
              "      <td>1</td>\n",
              "      <td>0</td>\n",
              "      <td>1</td>\n",
              "      <td>1</td>\n",
              "      <td>0</td>\n",
              "      <td>16003023</td>\n",
              "    </tr>\n",
              "    <tr>\n",
              "      <th>2</th>\n",
              "      <td>Lawyer Epsilon</td>\n",
              "      <td>Class Action (Privacy</td>\n",
              "      <td>Alberta</td>\n",
              "      <td>Pharmaceuticals</td>\n",
              "      <td>Plaintiff</td>\n",
              "      <td>1</td>\n",
              "      <td>0</td>\n",
              "      <td>0</td>\n",
              "      <td>0</td>\n",
              "      <td>0</td>\n",
              "      <td>1</td>\n",
              "      <td>1</td>\n",
              "      <td>1</td>\n",
              "      <td>19069229</td>\n",
              "    </tr>\n",
              "    <tr>\n",
              "      <th>3</th>\n",
              "      <td>Lawyer Eta</td>\n",
              "      <td>Action (Commercial)</td>\n",
              "      <td>Ontario</td>\n",
              "      <td>Insurance</td>\n",
              "      <td>Defendant</td>\n",
              "      <td>0</td>\n",
              "      <td>1</td>\n",
              "      <td>1</td>\n",
              "      <td>0</td>\n",
              "      <td>1</td>\n",
              "      <td>0</td>\n",
              "      <td>1</td>\n",
              "      <td>0</td>\n",
              "      <td>1244921</td>\n",
              "    </tr>\n",
              "    <tr>\n",
              "      <th>4</th>\n",
              "      <td>Lawyer Theta</td>\n",
              "      <td>Class Action (Securities)</td>\n",
              "      <td>British Columbia</td>\n",
              "      <td>Technology</td>\n",
              "      <td>Plaintiff</td>\n",
              "      <td>0</td>\n",
              "      <td>0</td>\n",
              "      <td>1</td>\n",
              "      <td>0</td>\n",
              "      <td>1</td>\n",
              "      <td>0</td>\n",
              "      <td>0</td>\n",
              "      <td>0</td>\n",
              "      <td>6633831</td>\n",
              "    </tr>\n",
              "  </tbody>\n",
              "</table>\n",
              "</div>"
            ],
            "text/plain": [
              "           Lawyer                 Matter Type  ... Summary Judgment Claim Amount\n",
              "0     Lawyer Iota   Class Action (Securities)  ...                1     11907902\n",
              "1     Lawyer Beta  Class Action (Competition)  ...                0     16003023\n",
              "2  Lawyer Epsilon       Class Action (Privacy  ...                1     19069229\n",
              "3      Lawyer Eta         Action (Commercial)  ...                0      1244921\n",
              "4    Lawyer Theta   Class Action (Securities)  ...                0      6633831\n",
              "\n",
              "[5 rows x 14 columns]"
            ]
          },
          "metadata": {},
          "execution_count": 2
        }
      ]
    },
    {
      "cell_type": "markdown",
      "metadata": {
        "id": "2VVTPrPCrr5k"
      },
      "source": [
        "This is a dataset of matter profiles: \n",
        "* Each row represents one matter. \n",
        "* Each column indicates a feature relating to these matters.\n",
        "* There are ten different lawyers, eight matter types, five jurisdictions, eight industries, and three client roles.\n",
        "* The columns labelled Tort, Contract, Restitution, and Statute relate to causes of action. A \"1\" indicates the type of cause of action applies to a given matter, whereas a \"0\" indicates it does not.\n",
        "* The columns labelled Injunction, Jurisdiction Motion, Motion to Strike, and Summary Judgment relate to motions. A \"1\" indicates this type of motion occurred in a given matter, where as a \"0\" indicates it did not.\n",
        "* The final column, Claim Amount, specifies the dollar amount of damages the plaintiff claimed.\n",
        "\n",
        "By way of example, let's take a closer look at the second matter in the dataset. \n"
      ]
    },
    {
      "cell_type": "code",
      "metadata": {
        "colab": {
          "base_uri": "https://localhost:8080/",
          "height": 272
        },
        "id": "QyjmK9kBwSU2",
        "outputId": "e1bb7ed4-2745-4f38-f3ef-0dd41ebba102"
      },
      "source": [
        "# Print data at row 1 of the DataFrame\n",
        "\n",
        "display(df.iloc[1])"
      ],
      "execution_count": 3,
      "outputs": [
        {
          "output_type": "display_data",
          "data": {
            "text/plain": [
              "Lawyer                                Lawyer Beta\n",
              "Matter Type            Class Action (Competition)\n",
              "Jurisdiction                     British Columbia\n",
              "Industry                                   Retail\n",
              "Client Role                             Plaintiff\n",
              "Tort                                            1\n",
              "Contract                                        1\n",
              "Restitution                                     1\n",
              "Statute                                         1\n",
              "Injunction                                      0\n",
              "Jurisdiction Motion                             1\n",
              "Motion to Strike                                1\n",
              "Summary Judgment                                0\n",
              "Claim Amount                             16003023\n",
              "Name: 1, dtype: object"
            ]
          },
          "metadata": {}
        }
      ]
    },
    {
      "cell_type": "markdown",
      "metadata": {
        "id": "SPqBHzg2wS4f"
      },
      "source": [
        "This entry indicates:\n",
        "* Lawyer Beta is the lead lawyer. \n",
        "* This is a competition class action filed in B.C. relating to the retail industry. \n",
        "* The client is the plaintiff. \n",
        "* The claim involves causes of action in tort, contract, restitution, and statute. \n",
        "* There was no injunction. \n",
        "* The matter involved motions relating to jurisdiction and striking a pleading, but not summary judgment. \n",
        "* The plaintiff claims ~$16 million in damages. \n",
        "\n",
        "Per the below, this dataset contains 10,000 entries, i.e. matters."
      ]
    },
    {
      "cell_type": "code",
      "metadata": {
        "colab": {
          "base_uri": "https://localhost:8080/"
        },
        "id": "MrRGEXGwu1D9",
        "outputId": "af47fe67-82ba-4565-88ac-765e72ed6d89"
      },
      "source": [
        "# Print summary of the DataFrame\n",
        "\n",
        "df.info()"
      ],
      "execution_count": 4,
      "outputs": [
        {
          "output_type": "stream",
          "name": "stdout",
          "text": [
            "<class 'pandas.core.frame.DataFrame'>\n",
            "RangeIndex: 10000 entries, 0 to 9999\n",
            "Data columns (total 14 columns):\n",
            " #   Column               Non-Null Count  Dtype \n",
            "---  ------               --------------  ----- \n",
            " 0   Lawyer               10000 non-null  object\n",
            " 1   Matter Type          10000 non-null  object\n",
            " 2   Jurisdiction         10000 non-null  object\n",
            " 3   Industry             10000 non-null  object\n",
            " 4   Client Role          10000 non-null  object\n",
            " 5   Tort                 10000 non-null  int64 \n",
            " 6   Contract             10000 non-null  int64 \n",
            " 7   Restitution          10000 non-null  int64 \n",
            " 8   Statute              10000 non-null  int64 \n",
            " 9   Injunction           10000 non-null  int64 \n",
            " 10  Jurisdiction Motion  10000 non-null  int64 \n",
            " 11  Motion to Strike     10000 non-null  int64 \n",
            " 12  Summary Judgment     10000 non-null  int64 \n",
            " 13  Claim Amount         10000 non-null  int64 \n",
            "dtypes: int64(9), object(5)\n",
            "memory usage: 1.1+ MB\n"
          ]
        }
      ]
    },
    {
      "cell_type": "markdown",
      "metadata": {
        "id": "GO-R9m7RvF5T"
      },
      "source": [
        "You can view the dataset in \"raw\" form at this [link](https://raw.githubusercontent.com/litkm/KNN-Project/main/cases_dataset.csv).\n",
        "\n",
        "The content of this dataset is entirely fake. I generated it randomly. If you would like to create your own datasets for experimenting with KNN, you can find the code I used in my [GitHub respository for this project](https://github.com/litkm/KNN-Project/blob/main/KNN_Case_Dataset_Generator.ipynb).\n",
        "\n",
        "## Normalizing the Dataset\n",
        "\n",
        "As is, the dataset is not in a form the KNN algorithm can process. We must make certain changes to it. First, we must scale the numerical features so they use a standard range. Second, we must convert the categorial features, i.e. the non-numerical features (e.g. the various lawyer names under the Lawyer column), into numbers. These two processes are forms of normalizing a dataset.\n",
        "\n",
        "Normalizing the numerical features requires converting them, as necessary, so that each references the same range. If this step is neglected, then high magnitude numbers can disproportionately influence the outcome of the calculations the computer performs. When scaled, each feature will be weighted equally in the outcome. \n",
        "\n",
        "In this instance, all of the numerical features are either \"0\" or \"1\", with the exception of Claim Amount. A sensible range for this dataset, therefore, is 0 to 1. Accordingly, we must scale the Claim Account column so that this data is converted into numbers within this range. \n",
        "\n",
        "This can be done using a technique called \"min-max scaling\", which involves applying the following formula: \n",
        "* y = (x - min) / (max - min)\n",
        "\n",
        "That is, for each number in the Claim Amount column (x), we subtract from it the lowest Claim Amount (min), and we divide this result by the range between the highest Claim Amount (max) and the lowest Claim Amount (min). The final result is a value (y), which is a number scaled between 0 and 1.\n",
        "\n",
        "The code to do this is detailed below. We simply apply the min-max formula to every value in the Claim Amount column. Pandas has handy methods to identify the lowest and highest values in a DataFrame column (`min()` and `max()`).\n",
        "\n",
        "\n"
      ]
    },
    {
      "cell_type": "code",
      "metadata": {
        "colab": {
          "base_uri": "https://localhost:8080/",
          "height": 204
        },
        "id": "5KJS_TQYlLYK",
        "outputId": "03a12e3e-1475-404d-a5a5-8bdd6a0fc167"
      },
      "source": [
        "# Copy the dataset into a new DataFrame. We will refer to the preprocessed DataFrame later because it is easier to read\n",
        "\n",
        "dataset = df.copy()\n",
        "\n",
        "# Apply min-max scaling to Claim Amount; that is, y = (x - min) / (max - min) \n",
        "\n",
        "column = 'Claim Amount'\n",
        "dataset[column] = (dataset[column] - dataset[column].min()) / (dataset[column].max() - dataset[column].min())\n",
        "\n",
        "# Print the first five rows of the dataset to verify the technique worked\n",
        "\n",
        "dataset.head()\n"
      ],
      "execution_count": 5,
      "outputs": [
        {
          "output_type": "execute_result",
          "data": {
            "text/html": [
              "<div>\n",
              "<style scoped>\n",
              "    .dataframe tbody tr th:only-of-type {\n",
              "        vertical-align: middle;\n",
              "    }\n",
              "\n",
              "    .dataframe tbody tr th {\n",
              "        vertical-align: top;\n",
              "    }\n",
              "\n",
              "    .dataframe thead th {\n",
              "        text-align: right;\n",
              "    }\n",
              "</style>\n",
              "<table border=\"1\" class=\"dataframe\">\n",
              "  <thead>\n",
              "    <tr style=\"text-align: right;\">\n",
              "      <th></th>\n",
              "      <th>Lawyer</th>\n",
              "      <th>Matter Type</th>\n",
              "      <th>Jurisdiction</th>\n",
              "      <th>Industry</th>\n",
              "      <th>Client Role</th>\n",
              "      <th>Tort</th>\n",
              "      <th>Contract</th>\n",
              "      <th>Restitution</th>\n",
              "      <th>Statute</th>\n",
              "      <th>Injunction</th>\n",
              "      <th>Jurisdiction Motion</th>\n",
              "      <th>Motion to Strike</th>\n",
              "      <th>Summary Judgment</th>\n",
              "      <th>Claim Amount</th>\n",
              "    </tr>\n",
              "  </thead>\n",
              "  <tbody>\n",
              "    <tr>\n",
              "      <th>0</th>\n",
              "      <td>Lawyer Iota</td>\n",
              "      <td>Class Action (Securities)</td>\n",
              "      <td>British Columbia</td>\n",
              "      <td>Resources</td>\n",
              "      <td>Defendant</td>\n",
              "      <td>0</td>\n",
              "      <td>0</td>\n",
              "      <td>0</td>\n",
              "      <td>1</td>\n",
              "      <td>1</td>\n",
              "      <td>1</td>\n",
              "      <td>1</td>\n",
              "      <td>1</td>\n",
              "      <td>0.585066</td>\n",
              "    </tr>\n",
              "    <tr>\n",
              "      <th>1</th>\n",
              "      <td>Lawyer Beta</td>\n",
              "      <td>Class Action (Competition)</td>\n",
              "      <td>British Columbia</td>\n",
              "      <td>Retail</td>\n",
              "      <td>Plaintiff</td>\n",
              "      <td>1</td>\n",
              "      <td>1</td>\n",
              "      <td>1</td>\n",
              "      <td>1</td>\n",
              "      <td>0</td>\n",
              "      <td>1</td>\n",
              "      <td>1</td>\n",
              "      <td>0</td>\n",
              "      <td>0.795129</td>\n",
              "    </tr>\n",
              "    <tr>\n",
              "      <th>2</th>\n",
              "      <td>Lawyer Epsilon</td>\n",
              "      <td>Class Action (Privacy</td>\n",
              "      <td>Alberta</td>\n",
              "      <td>Pharmaceuticals</td>\n",
              "      <td>Plaintiff</td>\n",
              "      <td>1</td>\n",
              "      <td>0</td>\n",
              "      <td>0</td>\n",
              "      <td>0</td>\n",
              "      <td>0</td>\n",
              "      <td>1</td>\n",
              "      <td>1</td>\n",
              "      <td>1</td>\n",
              "      <td>0.952412</td>\n",
              "    </tr>\n",
              "    <tr>\n",
              "      <th>3</th>\n",
              "      <td>Lawyer Eta</td>\n",
              "      <td>Action (Commercial)</td>\n",
              "      <td>Ontario</td>\n",
              "      <td>Insurance</td>\n",
              "      <td>Defendant</td>\n",
              "      <td>0</td>\n",
              "      <td>1</td>\n",
              "      <td>1</td>\n",
              "      <td>0</td>\n",
              "      <td>1</td>\n",
              "      <td>0</td>\n",
              "      <td>1</td>\n",
              "      <td>0</td>\n",
              "      <td>0.038099</td>\n",
              "    </tr>\n",
              "    <tr>\n",
              "      <th>4</th>\n",
              "      <td>Lawyer Theta</td>\n",
              "      <td>Class Action (Securities)</td>\n",
              "      <td>British Columbia</td>\n",
              "      <td>Technology</td>\n",
              "      <td>Plaintiff</td>\n",
              "      <td>0</td>\n",
              "      <td>0</td>\n",
              "      <td>1</td>\n",
              "      <td>0</td>\n",
              "      <td>1</td>\n",
              "      <td>0</td>\n",
              "      <td>0</td>\n",
              "      <td>0</td>\n",
              "      <td>0.314528</td>\n",
              "    </tr>\n",
              "  </tbody>\n",
              "</table>\n",
              "</div>"
            ],
            "text/plain": [
              "           Lawyer                 Matter Type  ... Summary Judgment Claim Amount\n",
              "0     Lawyer Iota   Class Action (Securities)  ...                1     0.585066\n",
              "1     Lawyer Beta  Class Action (Competition)  ...                0     0.795129\n",
              "2  Lawyer Epsilon       Class Action (Privacy  ...                1     0.952412\n",
              "3      Lawyer Eta         Action (Commercial)  ...                0     0.038099\n",
              "4    Lawyer Theta   Class Action (Securities)  ...                0     0.314528\n",
              "\n",
              "[5 rows x 14 columns]"
            ]
          },
          "metadata": {},
          "execution_count": 5
        }
      ]
    },
    {
      "cell_type": "markdown",
      "metadata": {
        "id": "j8dMnr-nn_sn"
      },
      "source": [
        "When we review the Claim Amount column now, we see each feature is now a number ranging between 0 and 1. If we were to review all 10,000 matters in this dataset, we would find the same result.\n",
        "\n",
        "Next, we must convert the categorical features into numbers. For this dataset, we'll use a technique called \"one-hot encoding\". With this approach, we create new columns for each of the different categorical features under a given column. Then, either a \"1\" or a \"0\" is assigned under each these new columns, depending on whether the feature applies to a given matter. If the feature applies, a \"1\" is used; if not, then a \"0\".\n",
        "\n",
        "For instance, under Client Role, there are three possible features: Plaintiff, Defendant, or Third Party. When we apply one-hot encoding to this column, we replace the generic Client Role column with three new columns: Plaintiff, Defendant, and Third Party. If the client in a given matter is a plaintiff, then a \"1\" is assigned under the Plaintiff column, and the Defendant and Third Party columns each receive a \"0\" for that particular matter.\n",
        "\n",
        "Conveniently, Pandas has a method called `get_dummies()`, which can be used to apply one-hot encoding to a DataFrame containing categorical features. Below, we use this method on the columns containing categorical features in our dataset. We then print out the first matter in the dataset to verify the technique has worked.\n",
        "\n"
      ]
    },
    {
      "cell_type": "code",
      "metadata": {
        "colab": {
          "base_uri": "https://localhost:8080/",
          "height": 765
        },
        "id": "2UgVkq91xV0x",
        "outputId": "c11cf991-9c40-4433-8a24-cf33d360f559"
      },
      "source": [
        "# One-hot encode the categorical columns \n",
        "\n",
        "dataset = pd.get_dummies(dataset, columns=['Lawyer', 'Matter Type', 'Jurisdiction', 'Industry', 'Client Role'])\n",
        "\n",
        "# Print the first matter in the dataset to verify the encoding was successful\n",
        "\n",
        "display(dataset.iloc[0])"
      ],
      "execution_count": 6,
      "outputs": [
        {
          "output_type": "display_data",
          "data": {
            "text/plain": [
              "Tort                                          0.000000\n",
              "Contract                                      0.000000\n",
              "Restitution                                   0.000000\n",
              "Statute                                       1.000000\n",
              "Injunction                                    1.000000\n",
              "Jurisdiction Motion                           1.000000\n",
              "Motion to Strike                              1.000000\n",
              "Summary Judgment                              1.000000\n",
              "Claim Amount                                  0.585066\n",
              "Lawyer_Lawyer Alpha                           0.000000\n",
              "Lawyer_Lawyer Beta                            0.000000\n",
              "Lawyer_Lawyer Delta                           0.000000\n",
              "Lawyer_Lawyer Epsilon                         0.000000\n",
              "Lawyer_Lawyer Eta                             0.000000\n",
              "Lawyer_Lawyer Gamma                           0.000000\n",
              "Lawyer_Lawyer Iota                            1.000000\n",
              "Lawyer_Lawyer Kappa                           0.000000\n",
              "Lawyer_Lawyer Theta                           0.000000\n",
              "Lawyer_Lawyer Zeta                            0.000000\n",
              "Matter Type_Action (Commercial)               0.000000\n",
              "Matter Type_Action (Privacy)                  0.000000\n",
              "Matter Type_Action (Product Liability)        0.000000\n",
              "Matter Type_Action (Securities)               0.000000\n",
              "Matter Type_Class Action (Competition)        0.000000\n",
              "Matter Type_Class Action (Privacy             0.000000\n",
              "Matter Type_Class Action (Product Liabilty    0.000000\n",
              "Matter Type_Class Action (Securities)         1.000000\n",
              "Jurisdiction_Alberta                          0.000000\n",
              "Jurisdiction_British Columbia                 1.000000\n",
              "Jurisdiction_Federal                          0.000000\n",
              "Jurisdiction_Ontario                          0.000000\n",
              "Jurisdiction_Quebec                           0.000000\n",
              "Industry_Banking                              0.000000\n",
              "Industry_Construction                         0.000000\n",
              "Industry_Insurance                            0.000000\n",
              "Industry_Pharmaceuticals                      0.000000\n",
              "Industry_Resources                            1.000000\n",
              "Industry_Retail                               0.000000\n",
              "Industry_Technology                           0.000000\n",
              "Industry_Transportation                       0.000000\n",
              "Client Role_Defendant                         1.000000\n",
              "Client Role_Plaintiff                         0.000000\n",
              "Client Role_Third Party                       0.000000\n",
              "Name: 0, dtype: float64"
            ]
          },
          "metadata": {}
        }
      ]
    },
    {
      "cell_type": "markdown",
      "metadata": {
        "id": "PdZ-szeOoWQ-"
      },
      "source": [
        "Per the above, we can see each categorical feature has become a separate column, and whether the feature applies or not, is indicated with a \"1\" or a \"0\".\n",
        "\n",
        "Our dataset is now ready to be fed into the KNN algorithm. \n",
        "\n",
        "## Creating the KNN Model\n",
        "\n",
        "Next, we create our KNN model and load the dataset into it. As described in my [first post on KNN]((https://www.litkm.com/python/machine%20learning/scikit-learn/knn/law/2021/05/05/KNN_and_Legal_Data_v2.html), we do not need to code the algorithm from scratch. Rather, we can use the `NearestNeighbors()' class from Python's scikit-learn library. Easy, peasy!\n",
        "\n",
        "\n",
        "\n"
      ]
    },
    {
      "cell_type": "code",
      "metadata": {
        "colab": {
          "base_uri": "https://localhost:8080/"
        },
        "id": "GjOQT4j1tSXV",
        "outputId": "e706ef43-7082-461d-ed6d-c3de0adaaffa"
      },
      "source": [
        "# Initialize a NearestNeighbors() object and assign it to the variable 'model'\n",
        "\n",
        "model = NearestNeighbors(n_neighbors=4)\n",
        "\n",
        "# Run the dataset through the KNN algorithm\n",
        "\n",
        "model.fit(dataset)"
      ],
      "execution_count": 7,
      "outputs": [
        {
          "output_type": "execute_result",
          "data": {
            "text/plain": [
              "NearestNeighbors(algorithm='auto', leaf_size=30, metric='minkowski',\n",
              "                 metric_params=None, n_jobs=None, n_neighbors=4, p=2,\n",
              "                 radius=1.0)"
            ]
          },
          "metadata": {},
          "execution_count": 7
        }
      ]
    },
    {
      "cell_type": "markdown",
      "metadata": {
        "id": "zI9Ac3vywTan"
      },
      "source": [
        "When we create a model of the data using KNN, the algorithm plots each matter from the dataset in a multi-dimensional space. The algorithm calculates the location of each matter based on its features. Since this dataset (once normalized) has 43 features, the algorithm plots the matters in a 43-dimensional space! \n",
        "\n",
        "To find matter analogues, the algorithm will calculate the distance between a specified matter and those nearest to it in this 43-dimensional space. The less distance between the specified matter and those nearest to it, the more similiar the matters will be.\n",
        "\n",
        "When we create our model per the code above, we configure the algorithm to return the four nearest neighbors to our specificed matter. The first \"nearest neighbor\" is always the specified matter itself. We'll ignore this. Instead, we'll be interested in the three other matters - i.e. the three nearest neighbors.\n",
        "\n",
        "Now we can use our model to find matter analogues in our dataset of 10,000 cases!\n",
        "\n",
        "## Querying the Dataset\n",
        "\n",
        "Let's look at a case. The below matter profile is at row 257 of the dataset.\n"
      ]
    },
    {
      "cell_type": "code",
      "metadata": {
        "colab": {
          "base_uri": "https://localhost:8080/",
          "height": 272
        },
        "id": "1Z38Rva2Kaun",
        "outputId": "86827a27-8b72-4e1a-8763-445b4f2c78ce"
      },
      "source": [
        "# Print row 257 of the DataFrame\n",
        "\n",
        "display(df.iloc[257])"
      ],
      "execution_count": 8,
      "outputs": [
        {
          "output_type": "display_data",
          "data": {
            "text/plain": [
              "Lawyer                               Lawyer Zeta\n",
              "Matter Type            Class Action (Securities)\n",
              "Jurisdiction                             Federal\n",
              "Industry                               Insurance\n",
              "Client Role                            Defendant\n",
              "Tort                                           0\n",
              "Contract                                       0\n",
              "Restitution                                    1\n",
              "Statute                                        0\n",
              "Injunction                                     0\n",
              "Jurisdiction Motion                            1\n",
              "Motion to Strike                               0\n",
              "Summary Judgment                               0\n",
              "Claim Amount                            11953137\n",
              "Name: 257, dtype: object"
            ]
          },
          "metadata": {}
        }
      ]
    },
    {
      "cell_type": "markdown",
      "metadata": {
        "id": "YYcEVhylKxbd"
      },
      "source": [
        "In the next line of code, we use the algorithm to query the dataset to identify the cases most similiar to this one. "
      ]
    },
    {
      "cell_type": "code",
      "metadata": {
        "colab": {
          "base_uri": "https://localhost:8080/"
        },
        "id": "duCirMvgKzNY",
        "outputId": "840ab0e9-d765-46dc-d8db-2f64fed49185"
      },
      "source": [
        "# Print the four nearest neighbors to row 257 in the DataFrame\n",
        "\n",
        "print(model.kneighbors([dataset.iloc[257]]))"
      ],
      "execution_count": 9,
      "outputs": [
        {
          "output_type": "stream",
          "name": "stdout",
          "text": [
            "(array([[0.        , 0.08120263, 1.73799853, 2.0000405 ]]), array([[ 257, 2582, 8283, 2373]]))\n"
          ]
        }
      ]
    },
    {
      "cell_type": "markdown",
      "metadata": {
        "id": "iyK0LwiVMilN"
      },
      "source": [
        "This code returns two lists. The first list contains the distance measurements between our specified matter and its four nearest neighbors. The second list provides the row index from the dataset for these nearest neighbors.\n",
        "\n",
        "As noted above, the first nearest neighbor is the specified matter itself. We'll ignore it. Let's examine the second matter, located at row 2582 of our dateset. Notably, this matter has a distance measurement less than 1. We can anticipate matters 257 and 2582 will be very similar."
      ]
    },
    {
      "cell_type": "code",
      "metadata": {
        "colab": {
          "base_uri": "https://localhost:8080/",
          "height": 272
        },
        "id": "_tExJuKALAN3",
        "outputId": "880f1c70-d8eb-40a6-c19c-479da6830b2e"
      },
      "source": [
        "# Print row 2582 of the DataFrame\n",
        "\n",
        "display(df.iloc[2582])"
      ],
      "execution_count": 10,
      "outputs": [
        {
          "output_type": "display_data",
          "data": {
            "text/plain": [
              "Lawyer                               Lawyer Zeta\n",
              "Matter Type            Class Action (Securities)\n",
              "Jurisdiction                             Federal\n",
              "Industry                               Insurance\n",
              "Client Role                            Defendant\n",
              "Tort                                           0\n",
              "Contract                                       0\n",
              "Restitution                                    1\n",
              "Statute                                        0\n",
              "Injunction                                     0\n",
              "Jurisdiction Motion                            1\n",
              "Motion to Strike                               0\n",
              "Summary Judgment                               0\n",
              "Claim Amount                            10370112\n",
              "Name: 2582, dtype: object"
            ]
          },
          "metadata": {}
        }
      ]
    },
    {
      "cell_type": "markdown",
      "metadata": {
        "id": "qgwG6N6rK-o-"
      },
      "source": [
        "Indeed, when we compare these matters, we see they are virtually identical. They differ only in the amount of money the plaintiff is claiming.\n",
        "\n",
        "The next nearest neighbor is matter 8283."
      ]
    },
    {
      "cell_type": "code",
      "metadata": {
        "colab": {
          "base_uri": "https://localhost:8080/",
          "height": 272
        },
        "id": "hx36FhB0XN07",
        "outputId": "ba3a47a7-1af3-4f6f-c90c-9439e4e958fe"
      },
      "source": [
        "# Print row 8283 of the DataFrame\n",
        "\n",
        "display(df.iloc[8283])"
      ],
      "execution_count": 11,
      "outputs": [
        {
          "output_type": "display_data",
          "data": {
            "text/plain": [
              "Lawyer                               Lawyer Zeta\n",
              "Matter Type            Class Action (Securities)\n",
              "Jurisdiction                             Ontario\n",
              "Industry                               Insurance\n",
              "Client Role                            Defendant\n",
              "Tort                                           0\n",
              "Contract                                       0\n",
              "Restitution                                    1\n",
              "Statute                                        0\n",
              "Injunction                                     0\n",
              "Jurisdiction Motion                            1\n",
              "Motion to Strike                               0\n",
              "Summary Judgment                               1\n",
              "Claim Amount                            14753800\n",
              "Name: 8283, dtype: object"
            ]
          },
          "metadata": {}
        }
      ]
    },
    {
      "cell_type": "markdown",
      "metadata": {
        "id": "AwoJ9lUW-DEq"
      },
      "source": [
        "This matter differs from our target matter in only three respects: Jurisdiction, Claim Amount, and it has a summary judgment motion.\n",
        "\n",
        "Let's look at the last of the nearest neighbors, matter 2373."
      ]
    },
    {
      "cell_type": "code",
      "metadata": {
        "colab": {
          "base_uri": "https://localhost:8080/",
          "height": 272
        },
        "id": "xMiPdbN_6TZe",
        "outputId": "f4c213bf-2a75-4dc0-85a9-aec9b13e217a"
      },
      "source": [
        "# Print row 2373 of the DataFrame\n",
        "\n",
        "display(df.iloc[2373])"
      ],
      "execution_count": 12,
      "outputs": [
        {
          "output_type": "display_data",
          "data": {
            "text/plain": [
              "Lawyer                              Lawyer Alpha\n",
              "Matter Type            Class Action (Securities)\n",
              "Jurisdiction                             Federal\n",
              "Industry                               Insurance\n",
              "Client Role                            Plaintiff\n",
              "Tort                                           0\n",
              "Contract                                       0\n",
              "Restitution                                    1\n",
              "Statute                                        0\n",
              "Injunction                                     0\n",
              "Jurisdiction Motion                            1\n",
              "Motion to Strike                               0\n",
              "Summary Judgment                               0\n",
              "Claim Amount                            11705007\n",
              "Name: 2373, dtype: object"
            ]
          },
          "metadata": {}
        }
      ]
    },
    {
      "cell_type": "markdown",
      "metadata": {
        "id": "Ipirh2_WJ7oZ"
      },
      "source": [
        "This matter also differs from our target matter in only three respects: Lawyer, Client Role, and Claim Amount.\n",
        "\n",
        "## Conclusion\n",
        "\n",
        "Although there are 10,000 cases in this dataset, using the KNN algorithm we can find accurate matter analogues within seconds! \n",
        "\n",
        "That said, we need the right dataset. KNN can only take data in a structured form, and structured data is often in short supply.\n",
        "\n",
        "# Final Thoughts\n",
        "\n",
        "Have you experimented with using KNN on legal data? Please reach out! \n",
        "\n",
        "# Appendix \n",
        "\n",
        "For ease of review, all of the code from this post is set out below.\n",
        "\n"
      ]
    },
    {
      "cell_type": "code",
      "metadata": {
        "colab": {
          "base_uri": "https://localhost:8080/",
          "height": 1000
        },
        "id": "H7_Y61lowhmY",
        "outputId": "47382833-cb4f-450d-dfae-6c2e9fe1ac59"
      },
      "source": [
        "#collapse_output\n",
        "\n",
        "# Import dependencies\n",
        "\n",
        "import pandas as pd\n",
        "from sklearn.neighbors import NearestNeighbors\n",
        "\n",
        "# Load the dataset and remove one unnecessary column that was created when this DataFrame was converted into a CSV file\n",
        "\n",
        "df = 'https://raw.githubusercontent.com/litkm/KNN-Project/main/cases_dataset.csv'\n",
        "df = pd.read_csv(df)\n",
        "df = df.drop('Unnamed: 0', axis=1)\n",
        "\n",
        "# Print the first 5 rows from the DataFrame\n",
        "\n",
        "df.head()\n",
        "\n",
        "# Print data at row 1 of the DataFrame\n",
        "\n",
        "display(df.iloc[1])\n",
        "\n",
        "# Print summary of the DataFrame\n",
        "\n",
        "df.info()\n",
        "\n",
        "# Copy the dataset into a new DataFrame. We will refer to the preprocessed DataFrame later because it is easier to read\n",
        "\n",
        "dataset = df.copy()\n",
        "\n",
        "# Apply min-max scaling to Claim Amount; that is, y = (x - min) / (max - min) \n",
        "\n",
        "column = 'Claim Amount'\n",
        "dataset[column] = (dataset[column] - dataset[column].min()) / (dataset[column].max() - dataset[column].min())\n",
        "\n",
        "# Print the first five rows of the dataset to verify the technique worked\n",
        "\n",
        "dataset.head()\n",
        "\n",
        "# One-hot encode the categorical columns \n",
        "\n",
        "dataset = pd.get_dummies(dataset, columns=['Lawyer', 'Matter Type', 'Jurisdiction', 'Industry', 'Client Role'])\n",
        "\n",
        "# Print the first matter in the dataset to verify the encoding was successful\n",
        "\n",
        "display(dataset.iloc[0])\n",
        "\n",
        "# Initialize a NearestNeighbors() object and assign it to the variable 'model'\n",
        "\n",
        "model = NearestNeighbors(n_neighbors=4)\n",
        "\n",
        "# Run the dataset through the KNN algorithm\n",
        "\n",
        "model.fit(dataset)\n",
        "\n",
        "# Print row 257 of the DataFrame\n",
        "\n",
        "display(df.iloc[257])\n",
        "\n",
        "# Print the four nearest neighbors to row 257 in the DataFrame\n",
        "\n",
        "print(model.kneighbors([dataset.iloc[257]]))\n",
        "\n",
        "# Print row 2582 of the DataFrame\n",
        "\n",
        "display(df.iloc[2582])\n",
        "\n",
        "# Print row 8283 of the DataFrame\n",
        "\n",
        "display(df.iloc[8283])\n",
        "\n",
        "# Print row 2373 of the DataFrame\n",
        "\n",
        "display(df.iloc[2373])\n",
        "\n",
        "\n"
      ],
      "execution_count": 13,
      "outputs": [
        {
          "output_type": "display_data",
          "data": {
            "text/plain": [
              "Lawyer                                Lawyer Beta\n",
              "Matter Type            Class Action (Competition)\n",
              "Jurisdiction                     British Columbia\n",
              "Industry                                   Retail\n",
              "Client Role                             Plaintiff\n",
              "Tort                                            1\n",
              "Contract                                        1\n",
              "Restitution                                     1\n",
              "Statute                                         1\n",
              "Injunction                                      0\n",
              "Jurisdiction Motion                             1\n",
              "Motion to Strike                                1\n",
              "Summary Judgment                                0\n",
              "Claim Amount                             16003023\n",
              "Name: 1, dtype: object"
            ]
          },
          "metadata": {}
        },
        {
          "output_type": "stream",
          "name": "stdout",
          "text": [
            "<class 'pandas.core.frame.DataFrame'>\n",
            "RangeIndex: 10000 entries, 0 to 9999\n",
            "Data columns (total 14 columns):\n",
            " #   Column               Non-Null Count  Dtype \n",
            "---  ------               --------------  ----- \n",
            " 0   Lawyer               10000 non-null  object\n",
            " 1   Matter Type          10000 non-null  object\n",
            " 2   Jurisdiction         10000 non-null  object\n",
            " 3   Industry             10000 non-null  object\n",
            " 4   Client Role          10000 non-null  object\n",
            " 5   Tort                 10000 non-null  int64 \n",
            " 6   Contract             10000 non-null  int64 \n",
            " 7   Restitution          10000 non-null  int64 \n",
            " 8   Statute              10000 non-null  int64 \n",
            " 9   Injunction           10000 non-null  int64 \n",
            " 10  Jurisdiction Motion  10000 non-null  int64 \n",
            " 11  Motion to Strike     10000 non-null  int64 \n",
            " 12  Summary Judgment     10000 non-null  int64 \n",
            " 13  Claim Amount         10000 non-null  int64 \n",
            "dtypes: int64(9), object(5)\n",
            "memory usage: 1.1+ MB\n"
          ]
        },
        {
          "output_type": "display_data",
          "data": {
            "text/plain": [
              "Tort                                          0.000000\n",
              "Contract                                      0.000000\n",
              "Restitution                                   0.000000\n",
              "Statute                                       1.000000\n",
              "Injunction                                    1.000000\n",
              "Jurisdiction Motion                           1.000000\n",
              "Motion to Strike                              1.000000\n",
              "Summary Judgment                              1.000000\n",
              "Claim Amount                                  0.585066\n",
              "Lawyer_Lawyer Alpha                           0.000000\n",
              "Lawyer_Lawyer Beta                            0.000000\n",
              "Lawyer_Lawyer Delta                           0.000000\n",
              "Lawyer_Lawyer Epsilon                         0.000000\n",
              "Lawyer_Lawyer Eta                             0.000000\n",
              "Lawyer_Lawyer Gamma                           0.000000\n",
              "Lawyer_Lawyer Iota                            1.000000\n",
              "Lawyer_Lawyer Kappa                           0.000000\n",
              "Lawyer_Lawyer Theta                           0.000000\n",
              "Lawyer_Lawyer Zeta                            0.000000\n",
              "Matter Type_Action (Commercial)               0.000000\n",
              "Matter Type_Action (Privacy)                  0.000000\n",
              "Matter Type_Action (Product Liability)        0.000000\n",
              "Matter Type_Action (Securities)               0.000000\n",
              "Matter Type_Class Action (Competition)        0.000000\n",
              "Matter Type_Class Action (Privacy             0.000000\n",
              "Matter Type_Class Action (Product Liabilty    0.000000\n",
              "Matter Type_Class Action (Securities)         1.000000\n",
              "Jurisdiction_Alberta                          0.000000\n",
              "Jurisdiction_British Columbia                 1.000000\n",
              "Jurisdiction_Federal                          0.000000\n",
              "Jurisdiction_Ontario                          0.000000\n",
              "Jurisdiction_Quebec                           0.000000\n",
              "Industry_Banking                              0.000000\n",
              "Industry_Construction                         0.000000\n",
              "Industry_Insurance                            0.000000\n",
              "Industry_Pharmaceuticals                      0.000000\n",
              "Industry_Resources                            1.000000\n",
              "Industry_Retail                               0.000000\n",
              "Industry_Technology                           0.000000\n",
              "Industry_Transportation                       0.000000\n",
              "Client Role_Defendant                         1.000000\n",
              "Client Role_Plaintiff                         0.000000\n",
              "Client Role_Third Party                       0.000000\n",
              "Name: 0, dtype: float64"
            ]
          },
          "metadata": {}
        },
        {
          "output_type": "display_data",
          "data": {
            "text/plain": [
              "Lawyer                               Lawyer Zeta\n",
              "Matter Type            Class Action (Securities)\n",
              "Jurisdiction                             Federal\n",
              "Industry                               Insurance\n",
              "Client Role                            Defendant\n",
              "Tort                                           0\n",
              "Contract                                       0\n",
              "Restitution                                    1\n",
              "Statute                                        0\n",
              "Injunction                                     0\n",
              "Jurisdiction Motion                            1\n",
              "Motion to Strike                               0\n",
              "Summary Judgment                               0\n",
              "Claim Amount                            11953137\n",
              "Name: 257, dtype: object"
            ]
          },
          "metadata": {}
        },
        {
          "output_type": "stream",
          "name": "stdout",
          "text": [
            "(array([[0.        , 0.08120263, 1.73799853, 2.0000405 ]]), array([[ 257, 2582, 8283, 2373]]))\n"
          ]
        },
        {
          "output_type": "display_data",
          "data": {
            "text/plain": [
              "Lawyer                               Lawyer Zeta\n",
              "Matter Type            Class Action (Securities)\n",
              "Jurisdiction                             Federal\n",
              "Industry                               Insurance\n",
              "Client Role                            Defendant\n",
              "Tort                                           0\n",
              "Contract                                       0\n",
              "Restitution                                    1\n",
              "Statute                                        0\n",
              "Injunction                                     0\n",
              "Jurisdiction Motion                            1\n",
              "Motion to Strike                               0\n",
              "Summary Judgment                               0\n",
              "Claim Amount                            10370112\n",
              "Name: 2582, dtype: object"
            ]
          },
          "metadata": {}
        },
        {
          "output_type": "display_data",
          "data": {
            "text/plain": [
              "Lawyer                               Lawyer Zeta\n",
              "Matter Type            Class Action (Securities)\n",
              "Jurisdiction                             Ontario\n",
              "Industry                               Insurance\n",
              "Client Role                            Defendant\n",
              "Tort                                           0\n",
              "Contract                                       0\n",
              "Restitution                                    1\n",
              "Statute                                        0\n",
              "Injunction                                     0\n",
              "Jurisdiction Motion                            1\n",
              "Motion to Strike                               0\n",
              "Summary Judgment                               1\n",
              "Claim Amount                            14753800\n",
              "Name: 8283, dtype: object"
            ]
          },
          "metadata": {}
        },
        {
          "output_type": "display_data",
          "data": {
            "text/plain": [
              "Lawyer                              Lawyer Alpha\n",
              "Matter Type            Class Action (Securities)\n",
              "Jurisdiction                             Federal\n",
              "Industry                               Insurance\n",
              "Client Role                            Plaintiff\n",
              "Tort                                           0\n",
              "Contract                                       0\n",
              "Restitution                                    1\n",
              "Statute                                        0\n",
              "Injunction                                     0\n",
              "Jurisdiction Motion                            1\n",
              "Motion to Strike                               0\n",
              "Summary Judgment                               0\n",
              "Claim Amount                            11705007\n",
              "Name: 2373, dtype: object"
            ]
          },
          "metadata": {}
        }
      ]
    }
  ]
}