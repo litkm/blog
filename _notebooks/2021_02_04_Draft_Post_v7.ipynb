{
  "nbformat": 4,
  "nbformat_minor": 0,
  "metadata": {
    "colab": {
      "name": "2021_02_04_Draft_Post_v7.ipynb",
      "provenance": [],
      "collapsed_sections": []
    },
    "kernelspec": {
      "name": "python3",
      "display_name": "Python 3"
    }
  },
  "cells": [
    {
      "cell_type": "markdown",
      "metadata": {
        "id": "TUnvRlGvAZJ0"
      },
      "source": [
        "# Draft Blog Post Again Again Again Again Again\r\n",
        "> Applying deep learning to predict Justice Brennan's voting record\r\n",
        "\r\n",
        "- toc: true \r\n",
        "- badges: true\r\n",
        "- comments: true\r\n",
        "- author: Charles Dobson\r\n",
        "- categories: [artificial intelligence, machine learning, deep learning, litigation, analytics]"
      ]
    },
    {
      "cell_type": "markdown",
      "metadata": {
        "id": "jP3NyhgPA67t"
      },
      "source": [
        "# Introduction\r\n",
        "\r\n",
        "In Prof. Wolfgang Alschner's fantastic course, [Data Science for Lawyers](https://www.datascienceforlawyers.org/), Lesson 8 uses machine learning to predict Justice Brennan's voting record. One of the key questions is: if a machine learning model \"studies\" information about thousands of Justice Brennan's cases, how well can it predict the way he voted on other cases?\r\n",
        "\r\n",
        "The lesson reviews several different machine learning algorithms.{% fn 1 %} This excercise inspired me to apply a different machine learning approach to this same dataset. This approach is known as deep learning. In this post, I detail the results of this effort.\r\n",
        "\r\n",
        "# Justice Brennan\r\n",
        "\r\n",
        "Per [Wikipedia](https://en.wikipedia.org/wiki/William_J._Brennan_Jr.), Justice Brennan (April 25, 1906 – July 24, 1997) was an American lawyer and jurist who served as an Associate Justice of the Supreme Court of the United States from 1956 to 1990. He was the seventh-longest-serving justice in Supreme Court history, and known for being a leader of the Court's liberal wing.\r\n",
        "\r\n",
        "The length of Justice Brennan's tenure is key for present purposes. Since he sat on SCOTUS for so long, he has a lengthy voting record. This is important for training a machine learning model effectively (the more data, the better). \r\n",
        "\r\n",
        "# The Dataset\r\n",
        "\r\n",
        "The dataset is available online at the course website. The data is from [The Supreme Court Database](http://scdb.wustl.edu/index.php). In this database, court decisions are coded for a variety of variables relating to the identification, chronology, background, substance, and outcome of each case. \r\n",
        "\r\n",
        "The dataset is a simple CSV file. [Click to view it in a \"raw\" format](https://github.com/litkm/WJBrennan-Voting/blob/main/WJBrennan_voting.csv).\r\n",
        "\r\n",
        "Below, the first five entries of dataset are printed out.\r\n",
        "\r\n",
        "![](my_icons/BrennanDataset.png)\r\n",
        "\r\n",
        "Decoded, the first entry indicates:\r\n",
        "* The case was heard in 1956 (term)\r\n",
        "* The petitioner (appellant) was a \"bank, savings and loan, credit union, investment company\" (petitioner)\r\n",
        "* The respondent was an \"agent, fiduciary, trustee, or executor\" (respondent)\r\n",
        "* The court assumed jurisdiction on the basis of a writ of certiorari (jurisdiction)\r\n",
        "* The case originated from the Pennsylvania Western U.S. District Court (caseOrigin)\r\n",
        "* The U.S. Court of Appeals, Third Circuit, was the source of the decision SCOTUS reviewed (caseSource)\r\n",
        "* SCOTUS granted the writ of certiorari in order to \"to resolve important or significant question\" (certReason)\r\n",
        "* The subject matter of the controversy related to \"cruel and unusual punishment, death penalty (cf. extra legal jury influence, death penalty)\" (issue)\r\n",
        "* The preceding variable was categorized as relating to federalism (issueArea)\r\n",
        "* Lastly, Justice Brennan voted with the majority (vote)\r\n",
        "\r\n",
        "Below, additional information from the dataset is set out.\r\n",
        "\r\n",
        "![](my_icons/BrennanDataset2.png)\r\n",
        "\r\n",
        "For present purposes, the most important information shown here is that the dataset contains 4746 entries, i.e. there is information regarding 4746 cases, including whether Justice Brennan voted with the majority or the minority of the SCOTUS panel.\r\n",
        "\r\n",
        "# The Deep Learning Model\r\n",
        "\r\n",
        "Machine learning is a subfield of computer science. The basic objective is to program computers to learn so that they can perform tasks for which they were not explicitly programmed.{% fn 2 %}\r\n",
        "\r\n",
        "There are many approaches to machine learning, of which deep learning is only one. This approach is based on artificial neural networks, which are a kind of algorithm loosely modelled on neurons in the human brain.{% fn 3 %}\r\n",
        "\r\n",
        "The deep learning model I used for this project is based on a model from the [Codecademy] (https://www.codecademy.com) course, *Build Deep Learning Models with TensorFlow*. This model is coded in Python, and also uses a deep learning framework from Google, known as Keras (TensorFlow).\r\n",
        "\r\n",
        "My hope was to assemble a model that takes the Brennan dataset as an input, and outputs accurate predictions regarding his voting.\r\n",
        "\r\n",
        "Critically, the model is not pre-programmed with any particular patterns, rules, or guidelines specific to Justice Brennan and the way he voted on SCOTUS. Rather, the model applies the deep learning algorithm to process the dataset and develop, independently, its own \"understanding\" of his voting history. Based on this understanding, it make predictions.\r\n",
        "\r\n",
        "I am glossing over a lot of details, but, in simple terms, this is how the model in this project works:\r\n",
        "* It randomly apportions the dataset into two subsets: one for training, and another for testing (70% for training, 30% for testing).\r\n",
        "* Then it looks at each case in the training dataset, one-by-one.\r\n",
        "* With every case, it considers each of the variables (petitioner, respondent, etc), and then predicts whether Justice Brennan voted with the majority or the minority in this particular case.\r\n",
        "* The model then checks the final column of the dataset: was the prediction correct or not?\r\n",
        "* It then recalibrates its weighting of each variable based on whether it made a correct or incorrect prediction. When a model works well, this recalibration results in incrementally better (more accurate) predictions.\r\n",
        "* Once the model has reviewed each of the cases in the training dataset, it then tests itself, case-by-case again, against the second (testing) dataset. This is an important way check against the model merely memorizing the training dataset, as opposed to calibrating its predictive process to enable it to generalize and make accurate predictions about new cases (the test dataset).\r\n",
        "* After the model cycles through both the training and the testing datasets, it repeats this process over again. Models will do this cycle many times (one hundred, in this instance - but it can be much more). Ideally, the predictive accuracy of the model increases each cycle until it plateaus when it reaches its predictive potential.  \r\n",
        "\r\n",
        "# The Results\r\n",
        "\r\n",
        "So how did the model do?\r\n",
        "\r\n",
        "\r\n",
        "{{ 'These algorithms are naive bayes, support vector machines, and K-nearest neighbor.' | fndetail: 1 }}\r\n",
        "{{ 'Andrew Trask, *Grokking Deep Learning* (Shelter Island, NY: Manning Publications, 2019), p. 11' | fndetail: 2 }}\r\n",
        "{{ 'Ibid., p. 10' | fndetail: 3 }}\r\n",
        "\r\n",
        "\r\n"
      ]
    }
  ]
}