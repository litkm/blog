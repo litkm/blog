{
  "nbformat": 4,
  "nbformat_minor": 0,
  "metadata": {
    "colab": {
      "name": "2021_02_04_Draft_Post_v7.ipynb",
      "provenance": [],
      "collapsed_sections": []
    },
    "kernelspec": {
      "name": "python3",
      "display_name": "Python 3"
    }
  },
  "cells": [
    {
      "cell_type": "markdown",
      "metadata": {
        "id": "TUnvRlGvAZJ0"
      },
      "source": [
        "# Draft Blog Post Again Again Again Again\r\n",
        "> Applying deep learning to predict Justice Brennan's voting record\r\n",
        "\r\n",
        "- toc: true \r\n",
        "- badges: true\r\n",
        "- comments: true\r\n",
        "- author: Charles Dobson\r\n",
        "- categories: [artificial intelligence, machine learning, deep learning, litigation, analytics]"
      ]
    },
    {
      "cell_type": "markdown",
      "metadata": {
        "id": "jP3NyhgPA67t"
      },
      "source": [
        "# Introduction\r\n",
        "\r\n",
        "In Prof. Wolfgang Alschner's fantastic course, [Data Science for Lawyers](https://www.datascienceforlawyers.org/), Lesson 8 uses machine learning to predict Justice Brennan's voting record. One of the key questions is: if a machine learning model \"studies\" information about thousands of Justice Brennan's cases, how well can it predict the way he voted on other cases?\r\n",
        "\r\n",
        "The lesson reviews several different machine learning algorithms.{% fn 1 %} This excercise inspired me to apply a different machine learning approach to this dataset; i.e. deep learning. In this post, I detail the results of this effort.\r\n",
        "\r\n",
        "# Justice Brennan\r\n",
        "\r\n",
        "Per [Wikipedia](https://en.wikipedia.org/wiki/William_J._Brennan_Jr.), Justice Brennan (April 25, 1906 – July 24, 1997) was an American lawyer and jurist who served as an Associate Justice of the Supreme Court of the United States from 1956 to 1990. He was the seventh-longest-serving justice in Supreme Court history, and known for being a leader of the Court's liberal wing.\r\n",
        "\r\n",
        "The length of Justice Brennan's tenure is key for present purposes. Since he sat on SCOTUS for so long, he has a lengthy voting record. This is important for training a machine learning model effectively (the more data, the better). \r\n",
        "\r\n",
        "# The Dataset\r\n",
        "\r\n",
        "The dataset is available online at the course website. The data is from [The Supreme Court Database](http://scdb.wustl.edu/index.php). In this database, court decisions are coded for a variety of variables relating to the identification, chronology, background, substance, and outcome of each case. \r\n",
        "\r\n",
        "The dataset is a simple CSV file. [Click to view it in a \"raw\" format](https://github.com/litkm/WJBrennan-Voting/blob/main/WJBrennan_voting.csv).\r\n",
        "\r\n",
        "Below, the first five entries of dataset are printed out.\r\n",
        "\r\n",
        "![](my_icons/BrennanDataset.png)\r\n",
        "\r\n",
        "Decoded, the first entry indicates:\r\n",
        "* The case was heard in 1956 (term)\r\n",
        "* The petitioner (appellant) was a \"bank, savings and loan, credit union, investment company\" (petitioner)\r\n",
        "* The respondent was an \"agent, fiduciary, trustee, or executor\" (respondent)\r\n",
        "* The court assumed jurisdiction on the basis of a writ of certiorari (jurisdiction)\r\n",
        "* The case originated from the Pennsylvania Western U.S. District Court (caseOrigin)\r\n",
        "* The U.S. Court of Appeals, Third Circuit, was the source of the decision SCOTUS reviewed (caseSource)\r\n",
        "* SCOTUS granted the writ of certiorari in order to \"to resolve important or significant question\" (certReason)\r\n",
        "* The subject matter of the controversy related to \"cruel and unusual punishment, death penalty (cf. extra legal jury influence, death penalty)\" (issue)\r\n",
        "* The preceding variable was categorized as relating to federalism (issueArea)\r\n",
        "* Lastly, Justice Brennan voted with the majority (vote)\r\n",
        "\r\n",
        "Below, additional information from the dataset is set out.\r\n",
        "\r\n",
        "![](my_icons/BrennanDataset2.png)\r\n",
        "\r\n",
        "For present purposes, the most important information shown here is that the dataset contains 4746 entries, i.e. there is information regarding 4746 cases, including whether Justice Brennan voted with the majority or the minority of the SCOTUS panel.\r\n",
        "\r\n",
        "# The Deep Learning Model\r\n",
        "\r\n",
        "Machine learning is a subfield of computer science. The basic objective is to program computers to learn so that they can perform tasks for which they were not explicitly programmed.{% fn 2 %}\r\n",
        "\r\n",
        "There are many approaches to machine learning. Deep learning is one of them. This approach is based on artificial neural networks, which are a kind of algorithm loosely modelled on neurons in the human brain.{% fn 3 %}\r\n",
        "\r\n",
        "\r\n",
        "{{ 'These algorithms are naive bayes, support vector machines, and K-nearest neighbor.' | fndetail: 1 }}\r\n",
        "{{ 'Andrew Trask, *Grokking Deep Learning* (Shelter Island, NY: Manning Publications, 2019), p. 11' | fndetail: 2 }}\r\n",
        "{{ 'Ibid., p. 10' | fndetail: 3 }}\r\n",
        "\r\n",
        "\r\n"
      ]
    }
  ]
}