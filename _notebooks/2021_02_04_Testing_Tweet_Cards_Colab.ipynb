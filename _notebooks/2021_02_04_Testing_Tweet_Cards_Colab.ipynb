{
  "nbformat": 4,
  "nbformat_minor": 0,
  "metadata": {
    "colab": {
      "name": "2021-02-04-Testing Tweet Cards Colab.ipynb",
      "provenance": [],
      "collapsed_sections": []
    },
    "kernelspec": {
      "name": "python3",
      "display_name": "Python 3"
    }
  },
  "cells": [
    {
      "cell_type": "markdown",
      "metadata": {
        "id": "dQ-k1CgITA66"
      },
      "source": [
        "# Test Tweet Cards\r\n",
        "> Applying deep learning to predict Justice Brennan's voting record\r\n",
        "\r\n",
        "- toc: true \r\n",
        "- badges: true\r\n",
        "- comments: true\r\n",
        "- sticky_rank: 4\r\n",
        "- author: Charles Dobson\r\n",
        "- categories: [artificial intelligence, machine learning, deep learning, litigation, analytics]"
      ]
    },
    {
      "cell_type": "markdown",
      "metadata": {
        "id": "AXpSbDZVTHRA"
      },
      "source": [
        "# Testing Tweet Cards from Colab\r\n",
        "\r\n",
        "Trying to insert a tweet card via a Colab notebook. Does it render?\r\n",
        "\r\n",
        "'> twitter: https://twitter.com/LitigationKM/status/1348785117267898368'\r\n"
      ]
    }
  ]
}