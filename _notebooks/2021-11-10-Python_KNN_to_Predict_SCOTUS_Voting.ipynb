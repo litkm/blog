{
  "nbformat": 4,
  "nbformat_minor": 0,
  "metadata": {
    "colab": {
      "name": "2021-11-10-Python KNN to Predict SCOTUS Voting.ipynb",
      "provenance": [],
      "collapsed_sections": []
    },
    "kernelspec": {
      "name": "python3",
      "display_name": "Python 3"
    },
    "language_info": {
      "name": "python"
    }
  },
  "cells": [
    {
      "cell_type": "markdown",
      "metadata": {
        "id": "iHNt1sf3lZlx"
      },
      "source": [
        "# Using K-Nearest Neighbor to Predict SCOTUS Judging\n",
        "> How to predict Justice Brennan's voting record with KNN\n",
        "\n",
        "- toc: true \n",
        "- badges: true\n",
        "- comments: true\n",
        "- image: images/social_logo.png\n",
        "- author: Charles Dobson\n",
        "- categories: [python, artificial intelligence, machine learning, scikit-learn, KNN, k-nearest neighbor, law, litigation, analytics]"
      ]
    },
    {
      "cell_type": "markdown",
      "metadata": {
        "id": "7KosxieVlsUV"
      },
      "source": [
        "# Introduction\n",
        "\n",
        "In previous posts, I've written about using a neural network to predict SCOTUS judging.{% fn 1 %} These posts were based on lesson 8 from  Prof. Wolfgang Alschner's fantastic course, [Data Science for Lawyers](https://www.datascienceforlawyers.org/). In this lesson, Prof. Alschner reviews several machine learning algorithms, including *k*-nearest neighbor, and explains how to use them to predict Justice Brennan's voting record. \n",
        "\n",
        "In the course, Prof. Alschner uses the R programming language. I don't know R, but I do know some Python. So I thought I'd use Python to apply *k*-nearest neighbor to the same Justice Brennan dataset. In this post, I show how to use the `KNeighborsClassifier()` class from scikit-learn for this purpose. \n"
      ]
    },
    {
      "cell_type": "markdown",
      "metadata": {
        "id": "b05Src-vrxe7"
      },
      "source": [
        "# The Dataset\n",
        "\n",
        "You can find an overview of the dataset in my earlier post, [Using Artificial Intelligence to Predict SCOTUS Judging](https://www.litkm.com/artificial%20intelligence/machine%20learning/deep%20learning/litigation/analytics/python/keras/neural%20networks/law/general/2021/02/11/AI_and_SCOTUS_Judging.html).\n",
        "\n",
        "# Importing Dependencies\n",
        "\n",
        "We begin by importing our dependencies."
      ]
    },
    {
      "cell_type": "code",
      "metadata": {
        "id": "42Mc7kxgsPSp"
      },
      "source": [
        "import pandas as pd\n",
        "from sklearn.preprocessing import StandardScaler, LabelEncoder\n",
        "from sklearn.compose import ColumnTransformer\n",
        "from sklearn.metrics import classification_report\n",
        "import numpy as np\n",
        "from sklearn.neighbors import KNeighborsClassifier\n",
        "from sklearn import metrics\n",
        "import matplotlib.pyplot as plt"
      ],
      "execution_count": 1,
      "outputs": []
    },
    {
      "cell_type": "markdown",
      "metadata": {
        "id": "oFpKCvyNsV-4"
      },
      "source": [
        "# Loading and Splitting the Dataset\n",
        "\n",
        "We then load the dataset from a CSV and turn it into a DataFrame.\n",
        "\n",
        "Next, we split this dataset into training features and labels, and testing features and labels. In lesson 8, the KNN model is trained on Justice Brennan's voting data prior to 1980 and tested on his voting data from 1980 and onwards. So we'll split our dataset accordingly."
      ]
    },
    {
      "cell_type": "code",
      "metadata": {
        "id": "nmTBlmVwtIzG"
      },
      "source": [
        "dataset = 'https://raw.githubusercontent.com/litkm/WJBrennan-Voting/main/WJBrennan_voting.csv'\n",
        "dataset = pd.read_csv(dataset)\n",
        "\n",
        "#Features\n",
        "x = dataset[['term', 'petitioner', 'respondent', 'jurisdiction', 'caseOrigin', 'caseSource', 'certReason', 'issue', 'issueArea']]\n",
        "\n",
        "#Labels\n",
        "y = dataset['vote']\n",
        "\n",
        "#Features for training\n",
        "X_train = x[x['term'] < 1980] \n",
        "\n",
        "#Features for testing\n",
        "X_test = x[x['term'] > 1979]  \n",
        "\n",
        "#Labels for training\n",
        "Y_train = y.iloc[0:3368]      \n",
        "\n",
        "#Labels for testing\n",
        "Y_test = y.iloc[3367:4745]    \n"
      ],
      "execution_count": 2,
      "outputs": []
    },
    {
      "cell_type": "markdown",
      "metadata": {
        "id": "6c8JsYtHtZR0"
      },
      "source": [
        "# Normalizing the Dataset\n",
        "\n",
        "Now we must normalize the dataset. The features consist of numbers, all of varying ranges. So we need to scale them to use the same range.\n",
        "\n",
        "The labels consist of one of two words, either \"majority\" or \"minority\". We must convert these categorical labels into either a \"1\" (majority) or a \"0\" (minority)."
      ]
    },
    {
      "cell_type": "code",
      "metadata": {
        "id": "FSaRL5wrtg2F"
      },
      "source": [
        "#\n",
        "#Scale features\n",
        "columns_for_standard = ['term', 'petitioner', 'respondent', 'jurisdiction', 'caseOrigin', 'caseSource', 'certReason', 'issue', 'issueArea']\n",
        "\n",
        "ct = ColumnTransformer([('numeric', StandardScaler(), columns_for_standard)])\n",
        "\n",
        "X_train = ct.fit_transform(X_train) \n",
        "X_test = ct.transform(X_test)\n",
        "\n",
        "#Convert categorical labels to numbers\n",
        "le = LabelEncoder()\n",
        "Y_train = le.fit_transform(Y_train.astype(str))\n",
        "Y_test = le.transform(Y_test.astype(str))"
      ],
      "execution_count": 3,
      "outputs": []
    },
    {
      "cell_type": "markdown",
      "metadata": {
        "id": "E6MDcuM5N72u"
      },
      "source": [
        "Now we are ready to create our model and train it on the dataset.\n",
        "\n",
        "# The KNN Model\n",
        "\n",
        "We instantiate our model using the `KNeighborsClassifier()` class from scikit-learn and train it on our dataset. \n",
        "\n",
        "Since the lesson in *Data Science for Lawyers* uses 3 nearest neighbors for predictions, we'll try the same at the outset."
      ]
    },
    {
      "cell_type": "code",
      "metadata": {
        "colab": {
          "base_uri": "https://localhost:8080/"
        },
        "id": "sUaPKMIjPBMq",
        "outputId": "d3a7737e-4f52-42cc-8d37-654f26b33efb"
      },
      "source": [
        "knn = KNeighborsClassifier(n_neighbors=3)\n",
        "knn.fit(X_train, Y_train)"
      ],
      "execution_count": 4,
      "outputs": [
        {
          "output_type": "execute_result",
          "data": {
            "text/plain": [
              "KNeighborsClassifier(algorithm='auto', leaf_size=30, metric='minkowski',\n",
              "                     metric_params=None, n_jobs=None, n_neighbors=3, p=2,\n",
              "                     weights='uniform')"
            ]
          },
          "metadata": {},
          "execution_count": 4
        }
      ]
    },
    {
      "cell_type": "markdown",
      "metadata": {
        "id": "nPNBKJfkPPLU"
      },
      "source": [
        "# Testing the Model\n",
        "\n",
        "Now let's test the model."
      ]
    },
    {
      "cell_type": "code",
      "metadata": {
        "colab": {
          "base_uri": "https://localhost:8080/"
        },
        "id": "qvj9gQGfPad5",
        "outputId": "a7555f9e-3817-45f0-d76c-51f53610576d"
      },
      "source": [
        "y_pred = knn.predict(X_test)\n",
        "\n",
        "print(\"Accuracy:\", metrics.accuracy_score(Y_test, y_pred))"
      ],
      "execution_count": 5,
      "outputs": [
        {
          "output_type": "stream",
          "name": "stdout",
          "text": [
            "Accuracy: 0.6444121915820029\n"
          ]
        }
      ]
    },
    {
      "cell_type": "markdown",
      "metadata": {
        "id": "r7-9kgEXPjf1"
      },
      "source": [
        "Interestingly, this model does not perform as well as the KNN model in *Data Science for Lawyers*. Whereas our model is predicting Justice Brennan's voting record at about 64% accuracy, the model in the lesson from *DSL* reaches 69% (0.6879536). \n",
        "\n",
        "This is a significant difference. I'll return to this to explore further later in this post.\n",
        "\n",
        "# Improving Model Accuracy\n",
        "\n",
        "First, however, let's see if we can improve accuracy simply by adjusting the number of nearest neighbors the model is using to make predictions. As noted above, presently we are using 3.\n",
        "\n",
        "In the code below, we test a range of nearest neighbor configurations, from 1-100. We then graph the results.\n",
        "\n"
      ]
    },
    {
      "cell_type": "code",
      "metadata": {
        "colab": {
          "base_uri": "https://localhost:8080/",
          "height": 295
        },
        "id": "2RNK7D_XSZZC",
        "outputId": "cf89a3b2-9abc-424e-e418-7c5c9661c79e"
      },
      "source": [
        "#\n",
        "#Loop through nearest neighbor configurations ranging from 1-100\n",
        "k = 1\n",
        "accuracies = []\n",
        "for k in range(1, 101):\n",
        "  classifier = KNeighborsClassifier(n_neighbors = k)\n",
        "  classifier.fit(X_train, Y_train)\n",
        "  accuracies.append(classifier.score(X_test, Y_test))\n",
        "  k += 1\n",
        "\n",
        "#Plot results\n",
        "k_list = range(1, 101)\n",
        "plt.xlabel(\"k\")\n",
        "plt.ylabel(\"Validation Accuracy\")\n",
        "plt.title(\"Predicting Brennan J's Voting\")\n",
        "plt.plot(k_list, accuracies)\n",
        "plt.show()"
      ],
      "execution_count": 6,
      "outputs": [
        {
          "output_type": "display_data",
          "data": {
            "image/png": "[encoded data removed]",
            "text/plain": [
              "<Figure size 432x288 with 1 Axes>"
            ]
          },
          "metadata": {
            "needs_background": "light"
          }
        }
      ]
    },
    {
      "cell_type": "markdown",
      "metadata": {
        "id": "2FLQXiXlS1Qk"
      },
      "source": [
        "Now we can see some improvements. Accuracy tops out at slightly more than 68% when using around 17 nearest neighbors.\n",
        "\n",
        "Notwithstanding improvement, this model is still not performing as well as the one in the *DSL* lesson.\n",
        "\n",
        "I believe this difference in performance is likely due either to differences in the way\n",
        "* the dataset was normalized; or\n",
        "* the configuration of the model.\n",
        "\n",
        "I don't propose to examine this exhaustively, but there is one avenue I'd like to explore. \n",
        "\n",
        "On further inspection, I don't think the dataset we are using is properly normalized. The features and labels are not scaled to the same range. Whereas the labels use a range of 0 to 1, the features do not. A quick inspection of the features makes this clear."
      ]
    },
    {
      "cell_type": "code",
      "metadata": {
        "colab": {
          "base_uri": "https://localhost:8080/",
          "height": 204
        },
        "id": "0z1fl39uVGfY",
        "outputId": "c149dd91-217b-48b1-a72e-a101197e85c0"
      },
      "source": [
        "#\n",
        "#Convert the features from numpy arrays to DataFrames in prep for min-max scaling, and ease of review\n",
        "X_train = pd.DataFrame(X_train)\n",
        "X_test = pd.DataFrame(X_test)\n",
        "\n",
        "X_train.head()"
      ],
      "execution_count": 8,
      "outputs": [
        {
          "output_type": "execute_result",
          "data": {
            "text/html": [
              "<div>\n",
              "<style scoped>\n",
              "    .dataframe tbody tr th:only-of-type {\n",
              "        vertical-align: middle;\n",
              "    }\n",
              "\n",
              "    .dataframe tbody tr th {\n",
              "        vertical-align: top;\n",
              "    }\n",
              "\n",
              "    .dataframe thead th {\n",
              "        text-align: right;\n",
              "    }\n",
              "</style>\n",
              "<table border=\"1\" class=\"dataframe\">\n",
              "  <thead>\n",
              "    <tr style=\"text-align: right;\">\n",
              "      <th></th>\n",
              "      <th>0</th>\n",
              "      <th>1</th>\n",
              "      <th>2</th>\n",
              "      <th>3</th>\n",
              "      <th>4</th>\n",
              "      <th>5</th>\n",
              "      <th>6</th>\n",
              "      <th>7</th>\n",
              "      <th>8</th>\n",
              "    </tr>\n",
              "  </thead>\n",
              "  <tbody>\n",
              "    <tr>\n",
              "      <th>0</th>\n",
              "      <td>-1.737337</td>\n",
              "      <td>-0.318522</td>\n",
              "      <td>-0.126546</td>\n",
              "      <td>-0.352654</td>\n",
              "      <td>-0.178368</td>\n",
              "      <td>-0.707061</td>\n",
              "      <td>0.473854</td>\n",
              "      <td>1.343053</td>\n",
              "      <td>1.342225</td>\n",
              "    </tr>\n",
              "    <tr>\n",
              "      <th>1</th>\n",
              "      <td>-1.737337</td>\n",
              "      <td>-1.392550</td>\n",
              "      <td>-0.126546</td>\n",
              "      <td>-0.352654</td>\n",
              "      <td>1.622782</td>\n",
              "      <td>1.635910</td>\n",
              "      <td>0.877430</td>\n",
              "      <td>1.068775</td>\n",
              "      <td>1.063071</td>\n",
              "    </tr>\n",
              "    <tr>\n",
              "      <th>2</th>\n",
              "      <td>-1.737337</td>\n",
              "      <td>0.362335</td>\n",
              "      <td>-0.860241</td>\n",
              "      <td>0.408229</td>\n",
              "      <td>-0.244379</td>\n",
              "      <td>-0.021932</td>\n",
              "      <td>-1.342238</td>\n",
              "      <td>0.781090</td>\n",
              "      <td>0.783918</td>\n",
              "    </tr>\n",
              "    <tr>\n",
              "      <th>3</th>\n",
              "      <td>-1.737337</td>\n",
              "      <td>-0.078783</td>\n",
              "      <td>2.485406</td>\n",
              "      <td>-0.352654</td>\n",
              "      <td>-1.140240</td>\n",
              "      <td>-0.664769</td>\n",
              "      <td>-1.140450</td>\n",
              "      <td>1.898592</td>\n",
              "      <td>1.900532</td>\n",
              "    </tr>\n",
              "    <tr>\n",
              "      <th>4</th>\n",
              "      <td>-1.737337</td>\n",
              "      <td>0.467820</td>\n",
              "      <td>-1.095023</td>\n",
              "      <td>0.408229</td>\n",
              "      <td>1.603922</td>\n",
              "      <td>1.635910</td>\n",
              "      <td>-1.342238</td>\n",
              "      <td>-0.334458</td>\n",
              "      <td>-0.332697</td>\n",
              "    </tr>\n",
              "  </tbody>\n",
              "</table>\n",
              "</div>"
            ],
            "text/plain": [
              "          0         1         2  ...         6         7         8\n",
              "0 -1.737337 -0.318522 -0.126546  ...  0.473854  1.343053  1.342225\n",
              "1 -1.737337 -1.392550 -0.126546  ...  0.877430  1.068775  1.063071\n",
              "2 -1.737337  0.362335 -0.860241  ... -1.342238  0.781090  0.783918\n",
              "3 -1.737337 -0.078783  2.485406  ... -1.140450  1.898592  1.900532\n",
              "4 -1.737337  0.467820 -1.095023  ... -1.342238 -0.334458 -0.332697\n",
              "\n",
              "[5 rows x 9 columns]"
            ]
          },
          "metadata": {},
          "execution_count": 8
        }
      ]
    },
    {
      "cell_type": "markdown",
      "metadata": {
        "id": "YEoz1OnDVPcr"
      },
      "source": [
        "Let's see what happens when we re-scale the features to also range from 0 to 1. We will use a technique called min-max scaling.{% fn 2 %} "
      ]
    },
    {
      "cell_type": "code",
      "metadata": {
        "id": "0v1juDesLuJl"
      },
      "source": [
        "#\n",
        "#Apply min-max scaling to the training features\n",
        "min = X_train.min().min()    \n",
        "max = X_train.max().max()    \n",
        "X_train = (X_train - min) / (max - min)\n",
        "\n",
        "#Apply min-max scaling to the testing features\n",
        "min = X_test.min().min()    \n",
        "max = X_test.max().max()   \n",
        "X_test = (X_test - min) / (max - min)\n"
      ],
      "execution_count": 9,
      "outputs": []
    },
    {
      "cell_type": "markdown",
      "metadata": {
        "id": "TDVLaH_tV8IX"
      },
      "source": [
        "Let's inspect the features, post re-scaling."
      ]
    },
    {
      "cell_type": "code",
      "metadata": {
        "colab": {
          "base_uri": "https://localhost:8080/",
          "height": 204
        },
        "id": "A10yUeXTV3qv",
        "outputId": "5d0b54c0-c328-48c4-ab16-ebcd02aba909"
      },
      "source": [
        "X_train.head()"
      ],
      "execution_count": 10,
      "outputs": [
        {
          "output_type": "execute_result",
          "data": {
            "text/html": [
              "<div>\n",
              "<style scoped>\n",
              "    .dataframe tbody tr th:only-of-type {\n",
              "        vertical-align: middle;\n",
              "    }\n",
              "\n",
              "    .dataframe tbody tr th {\n",
              "        vertical-align: top;\n",
              "    }\n",
              "\n",
              "    .dataframe thead th {\n",
              "        text-align: right;\n",
              "    }\n",
              "</style>\n",
              "<table border=\"1\" class=\"dataframe\">\n",
              "  <thead>\n",
              "    <tr style=\"text-align: right;\">\n",
              "      <th></th>\n",
              "      <th>0</th>\n",
              "      <th>1</th>\n",
              "      <th>2</th>\n",
              "      <th>3</th>\n",
              "      <th>4</th>\n",
              "      <th>5</th>\n",
              "      <th>6</th>\n",
              "      <th>7</th>\n",
              "      <th>8</th>\n",
              "    </tr>\n",
              "  </thead>\n",
              "  <tbody>\n",
              "    <tr>\n",
              "      <th>0</th>\n",
              "      <td>0.0</td>\n",
              "      <td>0.117871</td>\n",
              "      <td>0.133820</td>\n",
              "      <td>0.115035</td>\n",
              "      <td>0.129514</td>\n",
              "      <td>0.085592</td>\n",
              "      <td>0.183699</td>\n",
              "      <td>0.255909</td>\n",
              "      <td>0.255840</td>\n",
              "    </tr>\n",
              "    <tr>\n",
              "      <th>1</th>\n",
              "      <td>0.0</td>\n",
              "      <td>0.028644</td>\n",
              "      <td>0.133820</td>\n",
              "      <td>0.115035</td>\n",
              "      <td>0.279148</td>\n",
              "      <td>0.280239</td>\n",
              "      <td>0.217227</td>\n",
              "      <td>0.233123</td>\n",
              "      <td>0.232649</td>\n",
              "    </tr>\n",
              "    <tr>\n",
              "      <th>2</th>\n",
              "      <td>0.0</td>\n",
              "      <td>0.174434</td>\n",
              "      <td>0.072866</td>\n",
              "      <td>0.178247</td>\n",
              "      <td>0.124030</td>\n",
              "      <td>0.142511</td>\n",
              "      <td>0.032824</td>\n",
              "      <td>0.209223</td>\n",
              "      <td>0.209458</td>\n",
              "    </tr>\n",
              "    <tr>\n",
              "      <th>3</th>\n",
              "      <td>0.0</td>\n",
              "      <td>0.137788</td>\n",
              "      <td>0.350812</td>\n",
              "      <td>0.115035</td>\n",
              "      <td>0.049605</td>\n",
              "      <td>0.089106</td>\n",
              "      <td>0.049588</td>\n",
              "      <td>0.302062</td>\n",
              "      <td>0.302223</td>\n",
              "    </tr>\n",
              "    <tr>\n",
              "      <th>4</th>\n",
              "      <td>0.0</td>\n",
              "      <td>0.183198</td>\n",
              "      <td>0.053361</td>\n",
              "      <td>0.178247</td>\n",
              "      <td>0.277582</td>\n",
              "      <td>0.280239</td>\n",
              "      <td>0.032824</td>\n",
              "      <td>0.116547</td>\n",
              "      <td>0.116693</td>\n",
              "    </tr>\n",
              "  </tbody>\n",
              "</table>\n",
              "</div>"
            ],
            "text/plain": [
              "     0         1         2         3  ...         5         6         7         8\n",
              "0  0.0  0.117871  0.133820  0.115035  ...  0.085592  0.183699  0.255909  0.255840\n",
              "1  0.0  0.028644  0.133820  0.115035  ...  0.280239  0.217227  0.233123  0.232649\n",
              "2  0.0  0.174434  0.072866  0.178247  ...  0.142511  0.032824  0.209223  0.209458\n",
              "3  0.0  0.137788  0.350812  0.115035  ...  0.089106  0.049588  0.302062  0.302223\n",
              "4  0.0  0.183198  0.053361  0.178247  ...  0.280239  0.032824  0.116547  0.116693\n",
              "\n",
              "[5 rows x 9 columns]"
            ]
          },
          "metadata": {},
          "execution_count": 10
        }
      ]
    },
    {
      "cell_type": "markdown",
      "metadata": {
        "id": "Zxu43MH9swX2"
      },
      "source": [
        "This looks encouraging. To confirm, we can review the minimum and maximum values from each column. First, we'll review the minimum values."
      ]
    },
    {
      "cell_type": "code",
      "metadata": {
        "colab": {
          "base_uri": "https://localhost:8080/"
        },
        "id": "byFeawc6s9AJ",
        "outputId": "1a34d26a-8a24-4715-a233-62d262069c11"
      },
      "source": [
        "X_train.min()"
      ],
      "execution_count": 11,
      "outputs": [
        {
          "output_type": "execute_result",
          "data": {
            "text/plain": [
              "0    0.000000\n",
              "1    0.028644\n",
              "2    0.051736\n",
              "3    0.115035\n",
              "4    0.042554\n",
              "5    0.069430\n",
              "6    0.016060\n",
              "7    0.023569\n",
              "8    0.023928\n",
              "dtype: float64"
            ]
          },
          "metadata": {},
          "execution_count": 11
        }
      ]
    },
    {
      "cell_type": "markdown",
      "metadata": {
        "id": "w_EJCpfltOSb"
      },
      "source": [
        "Excellent. We've bottomed out at 0. Second, let's look at the max values."
      ]
    },
    {
      "cell_type": "code",
      "metadata": {
        "colab": {
          "base_uri": "https://localhost:8080/"
        },
        "id": "BW8to9LftX_e",
        "outputId": "99cbbfb7-bfa9-4e6e-f9b8-d99235257504"
      },
      "source": [
        "X_train.max()"
      ],
      "execution_count": 12,
      "outputs": [
        {
          "output_type": "execute_result",
          "data": {
            "text/plain": [
              "0    0.280976\n",
              "1    0.426978\n",
              "2    0.458090\n",
              "3    1.000000\n",
              "4    0.279148\n",
              "5    0.281644\n",
              "6    0.233991\n",
              "7    0.302108\n",
              "8    0.302223\n",
              "dtype: float64"
            ]
          },
          "metadata": {},
          "execution_count": 12
        }
      ]
    },
    {
      "cell_type": "markdown",
      "metadata": {
        "id": "T7gyBIxkVuIG"
      },
      "source": [
        "Perfect. We've topped out at 1. So we've confirmed all of the features are scaled to range between 0 and 1, same as the labels.\n",
        "\n",
        "Now let's create a new model that is trained on this re-scaled dataset, and test it's accuracy."
      ]
    },
    {
      "cell_type": "code",
      "metadata": {
        "colab": {
          "base_uri": "https://localhost:8080/"
        },
        "id": "pncDjz6XVnjw",
        "outputId": "57f26647-ab81-4c45-e7dc-e8fb39d496ce"
      },
      "source": [
        "#\n",
        "#First, convert the labels to DataFrames from numpy arrays (because the features are now DataFrames)\n",
        "Y_train = pd.DataFrame(Y_train)\n",
        "Y_test = pd.DataFrame(Y_test)\n",
        "\n",
        "#Create and train the model\n",
        "knn = KNeighborsClassifier(n_neighbors=3)\n",
        "knn.fit(X_train, Y_train.values.ravel())\n",
        "\n",
        "#Test the model's accuracy\n",
        "y_pred = knn.predict(X_test)\n",
        "print(\"Accuracy:\",metrics.accuracy_score(Y_test, y_pred))"
      ],
      "execution_count": 12,
      "outputs": [
        {
          "output_type": "stream",
          "name": "stdout",
          "text": [
            "Accuracy: 0.6509433962264151\n"
          ]
        }
      ]
    },
    {
      "cell_type": "markdown",
      "metadata": {
        "id": "LQPFgvH7WUSu"
      },
      "source": [
        "OK! We see some improvement. But we're still shy of 69% accuracy.\n",
        "\n",
        "Let's try playing around again with the nearest neighbor configuration, same as before."
      ]
    },
    {
      "cell_type": "code",
      "metadata": {
        "colab": {
          "base_uri": "https://localhost:8080/",
          "height": 295
        },
        "id": "hsogORVzWnBE",
        "outputId": "724b3be8-f590-4c0a-ebf6-51d2b233ac13"
      },
      "source": [
        "#\n",
        "#Loop through nearest neighbor configurations ranging from 1-100\n",
        "k = 1\n",
        "accuracies = []\n",
        "for k in range(1, 101):\n",
        "  classifier = KNeighborsClassifier(n_neighbors = k)\n",
        "  classifier.fit(X_train, Y_train.values.ravel())\n",
        "  accuracies.append(classifier.score(X_test, Y_test))\n",
        "  k += 1\n",
        "\n",
        "#Plot results\n",
        "k_list = range(1, 101)\n",
        "plt.xlabel(\"k\")\n",
        "plt.ylabel(\"Validation Accuracy\")\n",
        "plt.title(\"Predicting Brennan J's Voting\")\n",
        "plt.plot(k_list, accuracies)\n",
        "plt.show()"
      ],
      "execution_count": 13,
      "outputs": [
        {
          "output_type": "display_data",
          "data": {
            "image/png": "[encoded data removed]",
            "text/plain": [
              "<Figure size 432x288 with 1 Axes>"
            ]
          },
          "metadata": {
            "needs_background": "light"
          }
        }
      ]
    },
    {
      "cell_type": "markdown",
      "metadata": {
        "id": "mI90zfl6YPLO"
      },
      "source": [
        "Boom! There we go. When configured to use around 25 nearest neighbors, this model hits a solid 69% accuracy and thus also now appears to perform *slightly* better than the one in the DSL lesson.\n",
        "\n",
        "# Final Thoughts\n",
        "\n",
        "I wonder how the performance of the KNN model in lesson 8 of *DSL* would vary if tested using a range of `k` configurations. If you have done this, or otherwise have any thoughts on the performance of these models, please reach out!\n",
        "\n",
        "{{ 'See [Using Artificial Intelligence to Predict SCOTUS Judging](https://www.litkm.com/artificial%20intelligence/machine%20learning/deep%20learning/litigation/analytics/python/keras/neural%20networks/law/general/2021/02/11/AI_and_SCOTUS_Judging.html) and [Parsing a Neural Network to Predict SCOTUS Judging](https://www.litkm.com/artificial%20intelligence/machine%20learning/deep%20learning/litigation/analytics/python/keras/neural%20networks/2021/02/26/Parsing_Model.html).' | fndetail: 1 }}\n",
        "\n",
        "{{ 'For more on min-max scaling, see my earlier post, [Finding Analogous Cases with K-Nearest Neighbor](https://www.litkm.com/python/machine%20learning/scikit-learn/knn/k-nearest%20neighbor/law/2021/10/19/Part_2_KNN_&_Legal_Data-v2.html).' | fndetail: 2}}\n"
      ]
    }
  ]
}