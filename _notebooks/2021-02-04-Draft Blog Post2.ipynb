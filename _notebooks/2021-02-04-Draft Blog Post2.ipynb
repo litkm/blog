{
 "cells": [
  {
   "cell_type": "markdown",
   "metadata": {},
   "source": [
    "# Draft Blog Post\n",
    "> Applying deep learning to predict Justice Brennan's voting record\n",
    "\n",
    "- toc: true \n",
    "- badges: true\n",
    "- comments: true\n",
    "- author: Charles Dobson\n",
    "- categories: [artificial intelligence, machine learning, deep learning, litigation, analytics]\n"
   ]
  },
  {
   "cell_type": "code",
   "execution_count": null,
   "metadata": {},
   "outputs": [],
   "source": [
    "# Introduction\n",
    "\n",
    "In Prof. Wolfgang Alschner's fantastic course, [Data Science for Lawyers](https://www.datascienceforlawyers.org/), Lesson 8 focuses on using several machine learning algorithms to predict Justice Brennan's voting record. These machine learning algorithms are:\n",
    "* Naive bayes\n",
    "* Support vector machines\n",
    "* K-nearest neighbor\n",
    "\n",
    "At the crux of this lesson is the question: If a machine learning algorithm \"studies\" a dataset profiling thousands of cases, how well can it predict the way Justice Brennan voted in relation to a new series of cases?\n",
    "\n",
    "This lesson inspired me to apply another machine learning approach to this dataset, i.e. deep learning. In this post, I detail the results of this effort.\n",
    "\n",
    "# Justice Brennan\n",
    "\n",
    "Per [Wikipedia](https://en.wikipedia.org/wiki/William_J._Brennan_Jr.), Justice Brennan (April 25, 1906 – July 24, 1997) was an American lawyer and jurist who served as an Associate Justice of the Supreme Court of the United States from 1956 to 1990. He was the seventh-longest-serving justice in Supreme Court history, and known for being a leader of the Court's liberal wing.\n",
    "\n",
    "The length of Justice Brennan's tenure is key for present purposes. Since he sat on SCOTUS for so long, he has a lengthy voting record. This is important for training a machine learning model effectively (the more data, the better). \n",
    "\n",
    "# The Dataset\n",
    "\n",
    "The dataset is available online at the website for Prof. Alschner's course. The data is from [The Supreme Court Database](http://scdb.wustl.edu/index.php). In this database, court decisions are coded for a variety of variables relating to the identification, chronology, background, substance, and outcome of each case. \n",
    "\n",
    "The dataset is a simple CSV file. [Click to view it in a \"raw\" format](https://github.com/litkm/WJBrennan-Voting/blob/main/WJBrennan_voting.csv).\n",
    "\n",
    "Below, the first five entries of dataset are printed out.\n",
    "\n",
    "![](my_icons/BrennanDataset.png)"
   ]
  },
  {
   "cell_type": "markdown",
   "metadata": {},
   "source": [
    "Decoded, the first entry indicates:\n",
    "\n",
    "* The case was heard in 1956 (term)\n",
    "* The petitioner (appellant) was a \"bank, savings and loan, credit union, investment company\" (petitioner)\n",
    "* The respondent was an \"agent, fiduciary, trustee, or executor\" (respondent)\n",
    "* The court assumed jurisdiction on the basis of a writ of certiorari (jurisdiction)\n",
    "* The case originated from the Pennsylvania Western U.S. District Court (caseOrigin)\n",
    "* The U.S. Court of Appeals, Third Circuit, was the source of the decision SCOTUS reviewed (caseSource)\n",
    "* SCOTUS granted the writ of certiorari in order to \"to resolve important or significant question\" (certReason)\n",
    "* The subject matter of the controversy related to \"cruel and unusual punishment, death penalty (cf. extra legal jury influence, death penalty)\" (issue)\n",
    "* The preceding variable was categorized as relating to federalism (issueArea)\n",
    "* Lastly, Justice Brennan voted with the majority (vote)\n",
    "\n",
    "Below, additional information from the dataset is set out.\n",
    "\n",
    "![](my_icons/BrennanDataset2.png)\n"
   ]
  },
  {
   "cell_type": "markdown",
   "metadata": {},
   "source": [
    "For present purposes, the most important information shown here is that the dataset contains 4746 entries, i.e. there is information regarding 4746 cases, including whether Justice Brennan voted with the majority or the minority of the SCOTUS panel.\n"
   ]
  },
  {
   "cell_type": "markdown",
   "metadata": {},
   "source": [
    "# The Deep Learning Model\n",
    "\n",
    "Machine learning is a subfield of computer science wherein machines learn to perform tasks for which they were not explicitly programmed{% fn 1 %}.\n",
    "\n",
    "Deep learning is a subset of methods in the machine learning toolbox, using mainly artificial neural networks. Neural networks are a kind of algorithm somewhat modelled on neurons in the human brain{% fn 2 %}.\n",
    "\n",
    "\n",
    "\n",
    "{{ 'Grokking Deep Learning by Andrew Trask, p. 11' | fndetail: 1 }}\n",
    "{{ 'Ibid., p. 10' | fndetail: 2 }}\n"
   ]
  }
 ],
 "metadata": {
  "kernelspec": {
   "display_name": "Python 3",
   "language": "python",
   "name": "python3"
  },
  "language_info": {
   "codemirror_mode": {
    "name": "ipython",
    "version": 3
   },
   "file_extension": ".py",
   "mimetype": "text/x-python",
   "name": "python",
   "nbconvert_exporter": "python",
   "pygments_lexer": "ipython3",
   "version": "3.6.8"
  }
 },
 "nbformat": 4,
 "nbformat_minor": 4
}
