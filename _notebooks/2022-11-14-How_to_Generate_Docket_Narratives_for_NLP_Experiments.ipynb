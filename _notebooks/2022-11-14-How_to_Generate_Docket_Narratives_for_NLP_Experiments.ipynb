{
  "nbformat": 4,
  "nbformat_minor": 0,
  "metadata": {
    "colab": {
      "provenance": [],
      "collapsed_sections": []
    },
    "kernelspec": {
      "name": "python3",
      "display_name": "Python 3"
    },
    "language_info": {
      "name": "python"
    }
  },
  "cells": [
    {
      "cell_type": "markdown",
      "source": [
        "# How to Generate Docket Narratives for NLP Experiments\n",
        "> Do you have a better approach to creating a synthetic dataset for this?\n",
        "\n",
        "- toc: true \n",
        "- badges: true\n",
        "- comments: true\n",
        "- image: images/social_logo.png\n",
        "- author: Charles Dobson\n",
        "- categories: [python, artificial intelligence, machine learning, natural language processing, nlp, law, litigation]"
      ],
      "metadata": {
        "id": "G_7JQ2Jbjepn"
      }
    },
    {
      "cell_type": "markdown",
      "source": [
        "# Introduction\n",
        "\n",
        "Lately I've been thinking about how natural language processing techniques could possibly be applied to the docket narratives lawyers draft for their timesheets. Categorizing dockets according to phase/task codes is an obvious possibility. \n",
        "\n",
        "But I also wonder about other potential insights; for example, to develop an understanding of the type of work associates and/or partners are doing, and the distribution of this work amongst timekeepers. Are associates being provided enough opportunities on their feet in court or conducting examinations? Are senior associates doing too much research that is better suited for junior associates? To what extent are partners doing \"associate\" work and vice versa?\n",
        "\n",
        "There is potentially a wealth of information in docket narratives that could be used to improve the operations of a litigation department. However, in most law firms, analyzing these narratives manually would not be practical. Hence my interest in applying NLP techniques to this type of data.\n",
        "\n",
        "# Generating a Synthetic Dataset of Docket Narratives\n",
        "\n",
        "Of course, dockets are confidential. For my experiments I need to develop a synthetic dataset. \n",
        "\n",
        "Below is a script I wrote to generate a synthetic dataset of docket narratives. It's very simple and, admittedly, only roughly approximates genuine docket narratives. I'm hoping it will be a sufficient place to start.\n",
        "\n",
        "My first goal will simply be to see if I can train a language model to distinguish between narratives that involve drafting and those that do not. I plan try a range of supervised learning techniques, approaching this as a categorization problem.\n",
        "\n",
        "This script generates a dataset with two columns of information. The rows in the first column contain the randomly generated docket narratives. The rows in the second column contain either a 0 or a 1. So-called drafting narratives are assigned a 1 and all other narratives are assigned a 0. These will be the labels required to train the language model.\n",
        "\n",
        "# Final Thoughts\n",
        "\n",
        "Have you worked on this type of problem with similar data? Written anything on it? Is my dataset unsuited for this purpose? Please let me know!\n",
        "\n",
        "# Script"
      ],
      "metadata": {
        "id": "LyLZDLM5krOp"
      }
    },
    {
      "cell_type": "code",
      "execution_count": 5,
      "metadata": {
        "id": "rb3iV7BgCfp5"
      },
      "outputs": [],
      "source": [
        "import random\n",
        "import pandas as pd\n",
        "\n",
        "#Lists consisting of the components for the docket narratives\n",
        "actions = [\"writing\", \"drafting\", \"editing\", \"revising\", \"briefing\", \"reviewing\", \"analyzing\", \"preparing\", \"proofing\", \"researching\"]\n",
        "\n",
        "object = [\"notice of motion\", \"affidavit\", \"factum\", \"memorandum\", \"memo\", \"compendium\", \"book of authority\", \"motion record\", \"analysis\", \"order\", ]\n",
        "\n",
        "subject = [\"summary judgment\", \"injunction\", \"enforcing foreign judgment\", \"motion to strike\", \"refusals\", \"disqualifying expert\"]\n",
        "\n",
        "dockets = []\n",
        "\n",
        "#Function to randomly generate a docket narrative and add it to a list containing all of the narratives\n",
        "def add_docket():\n",
        "  docket = random.choice(actions) + \" \" + random.choice(object) + \" re: \" + random.choice(subject)\n",
        "  dockets.append(docket)\n",
        "\n",
        "#While loop to generate the dataset. Edit the number to the right of the < to specify the number of docket narratives you desire.\n",
        "x = 0\n",
        "while x < 10000:\n",
        "  add_docket()\n",
        "  x += 1\n",
        "\n",
        "#Convert list with narratives to DataFrame\n",
        "df = pd.DataFrame(dockets, columns=['narrative'])\n",
        "\n",
        "#List containing the drafting words\n",
        "drafting = [\"writing\", \"drafting\", \"editing\", \"revising\", \"briefing\"]\n",
        "\n",
        "#Function to identify drafting narratives\n",
        "def is_drafting(row):  \n",
        "    for i in drafting:\n",
        "      if i in row['narrative']:\n",
        "        return 1\n",
        "\n",
        "#Lambda function to review each narrative and identify the drafting narratives\n",
        "df['drafting'] = df.apply (lambda row: is_drafting(row), axis=1)\n",
        "\n",
        "#Put a 0 in the drafting column where there is no 1 and convert the column from float to integer\n",
        "df['drafting'] = df['drafting'].fillna(0)\n",
        "df['drafting'] = df['drafting'].astype(int)\n",
        "\n",
        "#Convert DataFrame to CSV file\n",
        "df.to_csv('dockets')\n"
      ]
    },
    {
      "cell_type": "code",
      "source": [
        "#Inspect the first 10 rows of the dataset\n",
        "df.head(10)"
      ],
      "metadata": {
        "colab": {
          "base_uri": "https://localhost:8080/",
          "height": 363
        },
        "id": "whMixZIWE8at",
        "outputId": "c017850a-7e64-4063-e3c3-a0c62854efb3"
      },
      "execution_count": 6,
      "outputs": [
        {
          "output_type": "execute_result",
          "data": {
            "text/plain": [
              "                                           narrative  drafting\n",
              "0    analyzing notice of motion re: motion to strike         0\n",
              "1                 drafting memo re: summary judgment         1\n",
              "2      writing notice of motion re: summary judgment         1\n",
              "3  briefing motion record re: enforcing foreign j...         1\n",
              "4            briefing affidavit re: motion to strike         1\n",
              "5     drafting notice of motion re: summary judgment         1\n",
              "6                          editing memo re: refusals         1\n",
              "7        reviewing analysis re: disqualifying expert         0\n",
              "8             editing order re: disqualifying expert         1\n",
              "9   researching order re: enforcing foreign judgment         0"
            ],
            "text/html": [
              "\n",
              "  <div id=\"df-3ae1bbbb-4577-4a09-bf25-393ceca76ddf\">\n",
              "    <div class=\"colab-df-container\">\n",
              "      <div>\n",
              "<style scoped>\n",
              "    .dataframe tbody tr th:only-of-type {\n",
              "        vertical-align: middle;\n",
              "    }\n",
              "\n",
              "    .dataframe tbody tr th {\n",
              "        vertical-align: top;\n",
              "    }\n",
              "\n",
              "    .dataframe thead th {\n",
              "        text-align: right;\n",
              "    }\n",
              "</style>\n",
              "<table border=\"1\" class=\"dataframe\">\n",
              "  <thead>\n",
              "    <tr style=\"text-align: right;\">\n",
              "      <th></th>\n",
              "      <th>narrative</th>\n",
              "      <th>drafting</th>\n",
              "    </tr>\n",
              "  </thead>\n",
              "  <tbody>\n",
              "    <tr>\n",
              "      <th>0</th>\n",
              "      <td>analyzing notice of motion re: motion to strike</td>\n",
              "      <td>0</td>\n",
              "    </tr>\n",
              "    <tr>\n",
              "      <th>1</th>\n",
              "      <td>drafting memo re: summary judgment</td>\n",
              "      <td>1</td>\n",
              "    </tr>\n",
              "    <tr>\n",
              "      <th>2</th>\n",
              "      <td>writing notice of motion re: summary judgment</td>\n",
              "      <td>1</td>\n",
              "    </tr>\n",
              "    <tr>\n",
              "      <th>3</th>\n",
              "      <td>briefing motion record re: enforcing foreign j...</td>\n",
              "      <td>1</td>\n",
              "    </tr>\n",
              "    <tr>\n",
              "      <th>4</th>\n",
              "      <td>briefing affidavit re: motion to strike</td>\n",
              "      <td>1</td>\n",
              "    </tr>\n",
              "    <tr>\n",
              "      <th>5</th>\n",
              "      <td>drafting notice of motion re: summary judgment</td>\n",
              "      <td>1</td>\n",
              "    </tr>\n",
              "    <tr>\n",
              "      <th>6</th>\n",
              "      <td>editing memo re: refusals</td>\n",
              "      <td>1</td>\n",
              "    </tr>\n",
              "    <tr>\n",
              "      <th>7</th>\n",
              "      <td>reviewing analysis re: disqualifying expert</td>\n",
              "      <td>0</td>\n",
              "    </tr>\n",
              "    <tr>\n",
              "      <th>8</th>\n",
              "      <td>editing order re: disqualifying expert</td>\n",
              "      <td>1</td>\n",
              "    </tr>\n",
              "    <tr>\n",
              "      <th>9</th>\n",
              "      <td>researching order re: enforcing foreign judgment</td>\n",
              "      <td>0</td>\n",
              "    </tr>\n",
              "  </tbody>\n",
              "</table>\n",
              "</div>\n",
              "      <button class=\"colab-df-convert\" onclick=\"convertToInteractive('df-3ae1bbbb-4577-4a09-bf25-393ceca76ddf')\"\n",
              "              title=\"Convert this dataframe to an interactive table.\"\n",
              "              style=\"display:none;\">\n",
              "        \n",
              "  <svg xmlns=\"http://www.w3.org/2000/svg\" height=\"24px\"viewBox=\"0 0 24 24\"\n",
              "       width=\"24px\">\n",
              "    <path d=\"M0 0h24v24H0V0z\" fill=\"none\"/>\n",
              "    <path d=\"M18.56 5.44l.94 2.06.94-2.06 2.06-.94-2.06-.94-.94-2.06-.94 2.06-2.06.94zm-11 1L8.5 8.5l.94-2.06 2.06-.94-2.06-.94L8.5 2.5l-.94 2.06-2.06.94zm10 10l.94 2.06.94-2.06 2.06-.94-2.06-.94-.94-2.06-.94 2.06-2.06.94z\"/><path d=\"M17.41 7.96l-1.37-1.37c-.4-.4-.92-.59-1.43-.59-.52 0-1.04.2-1.43.59L10.3 9.45l-7.72 7.72c-.78.78-.78 2.05 0 2.83L4 21.41c.39.39.9.59 1.41.59.51 0 1.02-.2 1.41-.59l7.78-7.78 2.81-2.81c.8-.78.8-2.07 0-2.86zM5.41 20L4 18.59l7.72-7.72 1.47 1.35L5.41 20z\"/>\n",
              "  </svg>\n",
              "      </button>\n",
              "      \n",
              "  <style>\n",
              "    .colab-df-container {\n",
              "      display:flex;\n",
              "      flex-wrap:wrap;\n",
              "      gap: 12px;\n",
              "    }\n",
              "\n",
              "    .colab-df-convert {\n",
              "      background-color: #E8F0FE;\n",
              "      border: none;\n",
              "      border-radius: 50%;\n",
              "      cursor: pointer;\n",
              "      display: none;\n",
              "      fill: #1967D2;\n",
              "      height: 32px;\n",
              "      padding: 0 0 0 0;\n",
              "      width: 32px;\n",
              "    }\n",
              "\n",
              "    .colab-df-convert:hover {\n",
              "      background-color: #E2EBFA;\n",
              "      box-shadow: 0px 1px 2px rgba(60, 64, 67, 0.3), 0px 1px 3px 1px rgba(60, 64, 67, 0.15);\n",
              "      fill: #174EA6;\n",
              "    }\n",
              "\n",
              "    [theme=dark] .colab-df-convert {\n",
              "      background-color: #3B4455;\n",
              "      fill: #D2E3FC;\n",
              "    }\n",
              "\n",
              "    [theme=dark] .colab-df-convert:hover {\n",
              "      background-color: #434B5C;\n",
              "      box-shadow: 0px 1px 3px 1px rgba(0, 0, 0, 0.15);\n",
              "      filter: drop-shadow(0px 1px 2px rgba(0, 0, 0, 0.3));\n",
              "      fill: #FFFFFF;\n",
              "    }\n",
              "  </style>\n",
              "\n",
              "      <script>\n",
              "        const buttonEl =\n",
              "          document.querySelector('#df-3ae1bbbb-4577-4a09-bf25-393ceca76ddf button.colab-df-convert');\n",
              "        buttonEl.style.display =\n",
              "          google.colab.kernel.accessAllowed ? 'block' : 'none';\n",
              "\n",
              "        async function convertToInteractive(key) {\n",
              "          const element = document.querySelector('#df-3ae1bbbb-4577-4a09-bf25-393ceca76ddf');\n",
              "          const dataTable =\n",
              "            await google.colab.kernel.invokeFunction('convertToInteractive',\n",
              "                                                     [key], {});\n",
              "          if (!dataTable) return;\n",
              "\n",
              "          const docLinkHtml = 'Like what you see? Visit the ' +\n",
              "            '<a target=\"_blank\" href=https://colab.research.google.com/notebooks/data_table.ipynb>data table notebook</a>'\n",
              "            + ' to learn more about interactive tables.';\n",
              "          element.innerHTML = '';\n",
              "          dataTable['output_type'] = 'display_data';\n",
              "          await google.colab.output.renderOutput(dataTable, element);\n",
              "          const docLink = document.createElement('div');\n",
              "          docLink.innerHTML = docLinkHtml;\n",
              "          element.appendChild(docLink);\n",
              "        }\n",
              "      </script>\n",
              "    </div>\n",
              "  </div>\n",
              "  "
            ]
          },
          "metadata": {},
          "execution_count": 6
        }
      ]
    },
    {
      "cell_type": "code",
      "source": [
        "#Confirm the dataset contains the defined number of rows\n",
        "df.info()"
      ],
      "metadata": {
        "colab": {
          "base_uri": "https://localhost:8080/"
        },
        "id": "r6f5M__eijCX",
        "outputId": "33e40ba9-f2d3-48d7-bdfe-ba414bb5d227"
      },
      "execution_count": 7,
      "outputs": [
        {
          "output_type": "stream",
          "name": "stdout",
          "text": [
            "<class 'pandas.core.frame.DataFrame'>\n",
            "RangeIndex: 10000 entries, 0 to 9999\n",
            "Data columns (total 2 columns):\n",
            " #   Column     Non-Null Count  Dtype \n",
            "---  ------     --------------  ----- \n",
            " 0   narrative  10000 non-null  object\n",
            " 1   drafting   10000 non-null  int64 \n",
            "dtypes: int64(1), object(1)\n",
            "memory usage: 156.4+ KB\n"
          ]
        }
      ]
    },
    {
      "cell_type": "code",
      "source": [
        "#Inspect the distribution of drafting vs non-drafting dockets\n",
        "df['drafting'].value_counts()"
      ],
      "metadata": {
        "colab": {
          "base_uri": "https://localhost:8080/"
        },
        "id": "Vy9AomTqRaXf",
        "outputId": "baa76e09-e344-4428-fe21-f39e1d3f8f2e"
      },
      "execution_count": 8,
      "outputs": [
        {
          "output_type": "execute_result",
          "data": {
            "text/plain": [
              "1    5026\n",
              "0    4974\n",
              "Name: drafting, dtype: int64"
            ]
          },
          "metadata": {},
          "execution_count": 8
        }
      ]
    }
  ]
}