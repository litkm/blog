{
  "nbformat": 4,
  "nbformat_minor": 0,
  "metadata": {
    "colab": {
      "provenance": []
    },
    "kernelspec": {
      "name": "python3",
      "display_name": "Python 3"
    },
    "language_info": {
      "name": "python"
    }
  },
  "cells": [
    {
      "cell_type": "markdown",
      "source": [
        "# Test\n",
        "> Test\n",
        "\n",
        "- toc: true \n",
        "- badges: true\n",
        "- comments: true\n",
        "- image: images/social_logo.png\n",
        "- author: Charles Dobson\n",
        "- categories: [python]"
      ],
      "metadata": {
        "id": "uCugfPgaQ-gZ"
      }
    },
    {
      "cell_type": "markdown",
      "source": [
        "# Test\n",
        "\n",
        "Test\n",
        "\n",
        "# Test 2\n",
        "\n",
        "Test 2"
      ],
      "metadata": {
        "id": "I3sxaIJYRFqx"
      }
    }
  ]
}