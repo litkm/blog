{
  "nbformat": 4,
  "nbformat_minor": 0,
  "metadata": {
    "colab": {
      "provenance": []
    },
    "kernelspec": {
      "name": "python3",
      "display_name": "Python 3"
    },
    "language_info": {
      "name": "python"
    }
  },
  "cells": [
    {
      "cell_type": "markdown",
      "source": [
        "# How to Use Machine Learning to Categorize Dockets\n",
        "> Applying Text Classification Techniques to Dockets Narratives\n",
        "\n",
        "- toc: true \n",
        "- badges: true\n",
        "- comments: true\n",
        "- image: images/social_logo.png\n",
        "- author: Charles Dobson\n",
        "- categories: [python, artificial intelligence, machine learning, natural language processing, nlp, law, litigation]"
      ],
      "metadata": {
        "id": "pLeXNWYdfapY"
      }
    },
    {
      "cell_type": "markdown",
      "source": [
        "# Introduction\n",
        "\n",
        "In my [last post](https://www.litkm.com/python/artificial%20intelligence/machine%20learning/natural%20language%20processing/nlp/law/litigation/2022/11/14/How_to_Generate_Docket_Narratives_for_NLP_Experiments.html), I described an approach to creating a synthetic dataset of docket narratives. I noted my next goal was to train a language model to distinguish between narratives that involve drafting and those that do not. In this post, I will describe this model and the results I've obtained to date. \n",
        "\n",
        "In short, the model works (hurrah!) but the results are somewhat underwhelming - due, I believe, to the limitations of the dataset. Basically, classifying these dockets was \"too easy\". Still, I consider this a good start (I learned a lot). Next, I need to increase the complexity of the dataset.\n",
        "\n",
        "# Importing Dependencies\n",
        "\n",
        "This model requires the following dependencies."
      ],
      "metadata": {
        "id": "C8IMj9O9ggkX"
      }
    },
    {
      "cell_type": "code",
      "source": [
        "import pandas as pd\n",
        "from sklearn.model_selection import train_test_split\n",
        "from sklearn.feature_extraction.text import CountVectorizer\n",
        "from sklearn.feature_extraction.text import TfidfTransformer\n",
        "from sklearn.linear_model import LogisticRegression\n"
      ],
      "metadata": {
        "id": "jBXoxFG_heHZ"
      },
      "execution_count": 1,
      "outputs": []
    },
    {
      "cell_type": "markdown",
      "source": [
        "These dependencies will enable us to load the dataset, process it, and then train and evaluate the model. You will note I am relying primarily on the scikit-learn library. \n",
        "\n",
        "# The Dataset\n",
        "\n",
        "The dataset is a randomly generated collection of docket narratives. It is a CSV file. We load this file from my GitHub repository and convert it into a `pandas` DataFrame."
      ],
      "metadata": {
        "id": "8kK9AOI2h0JR"
      }
    },
    {
      "cell_type": "code",
      "source": [
        "dataset = 'https://raw.githubusercontent.com/litkm/dockets/main/dockets.v4.csv'\n",
        "dataset = pd.read_csv(dataset)\n",
        "dataset = dataset.drop('Unnamed: 0', axis=1)"
      ],
      "metadata": {
        "id": "aSVjLzu0h-Yo"
      },
      "execution_count": 2,
      "outputs": []
    },
    {
      "cell_type": "markdown",
      "source": [
        "The dataset consists of 10,000 docket narratives. Note the second row of the code output begining with `RangeIndex`."
      ],
      "metadata": {
        "id": "CqoqC5bsdG_h"
      }
    },
    {
      "cell_type": "code",
      "source": [
        "dataset.info()"
      ],
      "metadata": {
        "colab": {
          "base_uri": "https://localhost:8080/"
        },
        "id": "BJshCfdVc8s_",
        "outputId": "6eccd678-f7ab-470d-d56b-6f09252e98b9"
      },
      "execution_count": 3,
      "outputs": [
        {
          "output_type": "stream",
          "name": "stdout",
          "text": [
            "<class 'pandas.core.frame.DataFrame'>\n",
            "RangeIndex: 10000 entries, 0 to 9999\n",
            "Data columns (total 2 columns):\n",
            " #   Column     Non-Null Count  Dtype \n",
            "---  ------     --------------  ----- \n",
            " 0   narrative  10000 non-null  object\n",
            " 1   drafting   10000 non-null  int64 \n",
            "dtypes: int64(1), object(1)\n",
            "memory usage: 156.4+ KB\n"
          ]
        }
      ]
    },
    {
      "cell_type": "markdown",
      "source": [
        "Listed below are the first 10 entries."
      ],
      "metadata": {
        "id": "CMVGoZi_dS9n"
      }
    },
    {
      "cell_type": "code",
      "source": [
        "pd.set_option('display.max_colwidth', None)\n",
        "dataset.head(10)"
      ],
      "metadata": {
        "colab": {
          "base_uri": "https://localhost:8080/",
          "height": 363
        },
        "id": "T65OLZqg5RHZ",
        "outputId": "e7e0eff6-57ea-4d2e-e890-6fd9832d0734"
      },
      "execution_count": 4,
      "outputs": [
        {
          "output_type": "execute_result",
          "data": {
            "text/plain": [
              "                                                           narrative  drafting\n",
              "0                       briefing order re: slip and fall beguilingly         1\n",
              "1                         drafting e-mail re: trespass to land pibal         1\n",
              "2                                 reviewing memo re: MVA bivouacking         0\n",
              "3                          addressing brief re: force majeure choush         0\n",
              "4   reviewing compendium re: misfeasance in public office scholardom         0\n",
              "5  addressing submission re: jurisdiction simpliciter unantagonising         0\n",
              "6                         discussing compendium re: deceit unrurally         0\n",
              "7                      finalizing e-mail re: necessity verifiability         0\n",
              "8        analyzing motion record re: forum non conveniens mononeural         0\n",
              "9                       writing compendium re: passing off darkliest         1"
            ],
            "text/html": [
              "\n",
              "  <div id=\"df-3b9eb9f6-c55a-4348-8c5c-d0c03e89adab\">\n",
              "    <div class=\"colab-df-container\">\n",
              "      <div>\n",
              "<style scoped>\n",
              "    .dataframe tbody tr th:only-of-type {\n",
              "        vertical-align: middle;\n",
              "    }\n",
              "\n",
              "    .dataframe tbody tr th {\n",
              "        vertical-align: top;\n",
              "    }\n",
              "\n",
              "    .dataframe thead th {\n",
              "        text-align: right;\n",
              "    }\n",
              "</style>\n",
              "<table border=\"1\" class=\"dataframe\">\n",
              "  <thead>\n",
              "    <tr style=\"text-align: right;\">\n",
              "      <th></th>\n",
              "      <th>narrative</th>\n",
              "      <th>drafting</th>\n",
              "    </tr>\n",
              "  </thead>\n",
              "  <tbody>\n",
              "    <tr>\n",
              "      <th>0</th>\n",
              "      <td>briefing order re: slip and fall beguilingly</td>\n",
              "      <td>1</td>\n",
              "    </tr>\n",
              "    <tr>\n",
              "      <th>1</th>\n",
              "      <td>drafting e-mail re: trespass to land pibal</td>\n",
              "      <td>1</td>\n",
              "    </tr>\n",
              "    <tr>\n",
              "      <th>2</th>\n",
              "      <td>reviewing memo re: MVA bivouacking</td>\n",
              "      <td>0</td>\n",
              "    </tr>\n",
              "    <tr>\n",
              "      <th>3</th>\n",
              "      <td>addressing brief re: force majeure choush</td>\n",
              "      <td>0</td>\n",
              "    </tr>\n",
              "    <tr>\n",
              "      <th>4</th>\n",
              "      <td>reviewing compendium re: misfeasance in public office scholardom</td>\n",
              "      <td>0</td>\n",
              "    </tr>\n",
              "    <tr>\n",
              "      <th>5</th>\n",
              "      <td>addressing submission re: jurisdiction simpliciter unantagonising</td>\n",
              "      <td>0</td>\n",
              "    </tr>\n",
              "    <tr>\n",
              "      <th>6</th>\n",
              "      <td>discussing compendium re: deceit unrurally</td>\n",
              "      <td>0</td>\n",
              "    </tr>\n",
              "    <tr>\n",
              "      <th>7</th>\n",
              "      <td>finalizing e-mail re: necessity verifiability</td>\n",
              "      <td>0</td>\n",
              "    </tr>\n",
              "    <tr>\n",
              "      <th>8</th>\n",
              "      <td>analyzing motion record re: forum non conveniens mononeural</td>\n",
              "      <td>0</td>\n",
              "    </tr>\n",
              "    <tr>\n",
              "      <th>9</th>\n",
              "      <td>writing compendium re: passing off darkliest</td>\n",
              "      <td>1</td>\n",
              "    </tr>\n",
              "  </tbody>\n",
              "</table>\n",
              "</div>\n",
              "      <button class=\"colab-df-convert\" onclick=\"convertToInteractive('df-3b9eb9f6-c55a-4348-8c5c-d0c03e89adab')\"\n",
              "              title=\"Convert this dataframe to an interactive table.\"\n",
              "              style=\"display:none;\">\n",
              "        \n",
              "  <svg xmlns=\"http://www.w3.org/2000/svg\" height=\"24px\"viewBox=\"0 0 24 24\"\n",
              "       width=\"24px\">\n",
              "    <path d=\"M0 0h24v24H0V0z\" fill=\"none\"/>\n",
              "    <path d=\"M18.56 5.44l.94 2.06.94-2.06 2.06-.94-2.06-.94-.94-2.06-.94 2.06-2.06.94zm-11 1L8.5 8.5l.94-2.06 2.06-.94-2.06-.94L8.5 2.5l-.94 2.06-2.06.94zm10 10l.94 2.06.94-2.06 2.06-.94-2.06-.94-.94-2.06-.94 2.06-2.06.94z\"/><path d=\"M17.41 7.96l-1.37-1.37c-.4-.4-.92-.59-1.43-.59-.52 0-1.04.2-1.43.59L10.3 9.45l-7.72 7.72c-.78.78-.78 2.05 0 2.83L4 21.41c.39.39.9.59 1.41.59.51 0 1.02-.2 1.41-.59l7.78-7.78 2.81-2.81c.8-.78.8-2.07 0-2.86zM5.41 20L4 18.59l7.72-7.72 1.47 1.35L5.41 20z\"/>\n",
              "  </svg>\n",
              "      </button>\n",
              "      \n",
              "  <style>\n",
              "    .colab-df-container {\n",
              "      display:flex;\n",
              "      flex-wrap:wrap;\n",
              "      gap: 12px;\n",
              "    }\n",
              "\n",
              "    .colab-df-convert {\n",
              "      background-color: #E8F0FE;\n",
              "      border: none;\n",
              "      border-radius: 50%;\n",
              "      cursor: pointer;\n",
              "      display: none;\n",
              "      fill: #1967D2;\n",
              "      height: 32px;\n",
              "      padding: 0 0 0 0;\n",
              "      width: 32px;\n",
              "    }\n",
              "\n",
              "    .colab-df-convert:hover {\n",
              "      background-color: #E2EBFA;\n",
              "      box-shadow: 0px 1px 2px rgba(60, 64, 67, 0.3), 0px 1px 3px 1px rgba(60, 64, 67, 0.15);\n",
              "      fill: #174EA6;\n",
              "    }\n",
              "\n",
              "    [theme=dark] .colab-df-convert {\n",
              "      background-color: #3B4455;\n",
              "      fill: #D2E3FC;\n",
              "    }\n",
              "\n",
              "    [theme=dark] .colab-df-convert:hover {\n",
              "      background-color: #434B5C;\n",
              "      box-shadow: 0px 1px 3px 1px rgba(0, 0, 0, 0.15);\n",
              "      filter: drop-shadow(0px 1px 2px rgba(0, 0, 0, 0.3));\n",
              "      fill: #FFFFFF;\n",
              "    }\n",
              "  </style>\n",
              "\n",
              "      <script>\n",
              "        const buttonEl =\n",
              "          document.querySelector('#df-3b9eb9f6-c55a-4348-8c5c-d0c03e89adab button.colab-df-convert');\n",
              "        buttonEl.style.display =\n",
              "          google.colab.kernel.accessAllowed ? 'block' : 'none';\n",
              "\n",
              "        async function convertToInteractive(key) {\n",
              "          const element = document.querySelector('#df-3b9eb9f6-c55a-4348-8c5c-d0c03e89adab');\n",
              "          const dataTable =\n",
              "            await google.colab.kernel.invokeFunction('convertToInteractive',\n",
              "                                                     [key], {});\n",
              "          if (!dataTable) return;\n",
              "\n",
              "          const docLinkHtml = 'Like what you see? Visit the ' +\n",
              "            '<a target=\"_blank\" href=https://colab.research.google.com/notebooks/data_table.ipynb>data table notebook</a>'\n",
              "            + ' to learn more about interactive tables.';\n",
              "          element.innerHTML = '';\n",
              "          dataTable['output_type'] = 'display_data';\n",
              "          await google.colab.output.renderOutput(dataTable, element);\n",
              "          const docLink = document.createElement('div');\n",
              "          docLink.innerHTML = docLinkHtml;\n",
              "          element.appendChild(docLink);\n",
              "        }\n",
              "      </script>\n",
              "    </div>\n",
              "  </div>\n",
              "  "
            ]
          },
          "metadata": {},
          "execution_count": 4
        }
      ]
    },
    {
      "cell_type": "markdown",
      "source": [
        "You will note the last word in each entry does not \"fit\" with the balance of the narrative. This is because these words are randomly generated. This was my attempt to add some complexity to the dataset. \n",
        "\n",
        "Per the code in my [blog](https://www.litkm.com/python/artificial%20intelligence/machine%20learning/natural%20language%20processing/nlp/law/litigation/2022/11/14/How_to_Generate_Docket_Narratives_for_NLP_Experiments.html) on generating the synthetic dataset for this exercise, I later realized the entire dataset only contained approximately 40 different words. This did not seem very realistic. \n",
        "\n",
        "Initially, I attempted to increase the word count by expanding the `subject` list in script. But this still only increased the total number of unique words to 143. \n",
        "\n",
        "So, I used the `RandomWords` class from the `random-word` module to add a random word to the tail-end of each docket narrative. This increased the total number of words in the dataset to 7624. \n",
        "\n",
        "# Processing the Dataset\n",
        "\n",
        "## Splitting the Dataset\n",
        "\n",
        "Now we can prepare the dataset so that we can use it to train and test the model."
      ],
      "metadata": {
        "id": "6IFTHxuq5ybT"
      }
    },
    {
      "cell_type": "code",
      "source": [
        "x = dataset['narrative'].values\n",
        "y = dataset['drafting'].values\n",
        "\n",
        "x_train, x_test, y_train, y_test = train_test_split(x, y, test_size=0.25, random_state=1000)"
      ],
      "metadata": {
        "id": "w8AQfFUn96fT"
      },
      "execution_count": 5,
      "outputs": []
    },
    {
      "cell_type": "markdown",
      "source": [
        "This code splits the dataset into training and testing subsets. The dataset contains two columns: \"narratives\" and \"drafting\". The \"narrative\" column contains the docket entry. The \"drafting\" column contains, in reference to each docket, either a 1 or a 0. The former indicates a drafting docket whereas the latter indicates the opposite.\n",
        "\n",
        "In the first line of code, we take the values from the \"narrative\" column and store them in a variable called `x`. \n",
        "\n",
        "In the second line, we take the values from the \"drafting\" column and store them in a variable called `y`.\n",
        "\n",
        "In the third line, we use the `train_test_split` function from the scikit-learn library to split the `x` and `y` variables into a training set and a testing set. The `test_size` parameter is set to 0.25, meaning that 25% of the data will be used for testing and 75% will be used for training. The `random_state` parameter is set to 1000, which ensures the same split is made every time the code runs.\n",
        "\n",
        "The split data is stored in four variables: `x_train` (the training set of `x`), `x_test` (the testing set of `x`), `y_train` (the training set of `y`), and `y_test` (the testing set of \"y\"). \n",
        "\n",
        "We will use these variables to train and test our model. First, however, we must further process the dataset.\n",
        "\n",
        "## Vectorizing the Narratives in the Dataset\n",
        "\n",
        "Before the model can be trained, the docket narratives must be converted from words into numbers. There are a variety of ways to do this. \n",
        "\n",
        "We will use the `CountVectorizer` class from the scikit-learn library. It is an example of the \"bag of words\" approach to vectorizing text data. This technique converts each narrative into a vector, i.e. list of numbers. \n",
        "\n",
        "To do this, `CountVectorizer` first creates a vocabulary of all the unique words contained in all the docket narratives in the dataset. Then, it converts every narrative into a vector indicating the frequency of each of these unique words in that narrative.\n",
        "\n",
        "We apply `CountVectorize` to the narratives in our dataset (both training and testing portions) as follows.\n"
      ],
      "metadata": {
        "id": "2bynep8Guawb"
      }
    },
    {
      "cell_type": "code",
      "source": [
        "vectorizer = CountVectorizer()\n",
        "vectorizer.fit(x_train)\n",
        "\n",
        "X_train = vectorizer.transform(x_train)\n",
        "X_test  = vectorizer.transform(x_test)"
      ],
      "metadata": {
        "id": "uFl_QyGXyG3Q"
      },
      "execution_count": 6,
      "outputs": []
    },
    {
      "cell_type": "markdown",
      "source": [
        "The first line of code above creates an instance of the `CountVectorizer` object.\n",
        "\n",
        "The second line applies the `CountVectorizer` object to the training data `x_train` by applying the `fit` class method. This method analyzes the docket narratives in `x_train` and builds a vocabulary of all the unique words they contain.\n",
        "\n",
        "The third line uses the fitted `CountVectorizer` object to transform the `x_train` data into a numerical format called a sparse matrix, where each row represents a docket narrative and each column represents a word from the vocabulary of all the dockets. For each row/docket narrative in this matrix, the number of times each word appears in the narrative is recorded. \n",
        "\n",
        "The fourth line uses the same `CountVectorizer` object to transform the test data `x_test` into the same sparse matrix format as the training data.\n",
        "\n",
        "We can confirm this operation was successful as follows:"
      ],
      "metadata": {
        "id": "DCFsRvEXy53n"
      }
    },
    {
      "cell_type": "code",
      "source": [
        "X_train"
      ],
      "metadata": {
        "colab": {
          "base_uri": "https://localhost:8080/"
        },
        "id": "kO2WvOPKy9tB",
        "outputId": "46541960-8400-4449-d049-5f75a0dd766f"
      },
      "execution_count": 7,
      "outputs": [
        {
          "output_type": "execute_result",
          "data": {
            "text/plain": [
              "<7500x7624 sparse matrix of type '<class 'numpy.int64'>'\n",
              "\twith 49262 stored elements in Compressed Sparse Row format>"
            ]
          },
          "metadata": {},
          "execution_count": 7
        }
      ]
    },
    {
      "cell_type": "markdown",
      "source": [
        "Remember that our dataset contains 10,000 docket entries. `X_train` contains 75% of these entries, i.e. 7500. This output tells us that `CountVectorizer` has created a sparse matrix with 7500 rows. This matrix also has 7624 columns. That is, a column for each unique word in the dataset.\n",
        "\n",
        "This is the first docket in our dataset:"
      ],
      "metadata": {
        "id": "-XlBB8fE0zZ_"
      }
    },
    {
      "cell_type": "code",
      "source": [
        "dataset.head(1)"
      ],
      "metadata": {
        "colab": {
          "base_uri": "https://localhost:8080/",
          "height": 80
        },
        "id": "mIMC6E85D2sq",
        "outputId": "ca2e3a77-ec26-4ca1-936a-5b9b53f629ed"
      },
      "execution_count": 8,
      "outputs": [
        {
          "output_type": "execute_result",
          "data": {
            "text/plain": [
              "                                      narrative  drafting\n",
              "0  briefing order re: slip and fall beguilingly         1"
            ],
            "text/html": [
              "\n",
              "  <div id=\"df-af34d02b-cd9c-4424-905c-9d193a31cec7\">\n",
              "    <div class=\"colab-df-container\">\n",
              "      <div>\n",
              "<style scoped>\n",
              "    .dataframe tbody tr th:only-of-type {\n",
              "        vertical-align: middle;\n",
              "    }\n",
              "\n",
              "    .dataframe tbody tr th {\n",
              "        vertical-align: top;\n",
              "    }\n",
              "\n",
              "    .dataframe thead th {\n",
              "        text-align: right;\n",
              "    }\n",
              "</style>\n",
              "<table border=\"1\" class=\"dataframe\">\n",
              "  <thead>\n",
              "    <tr style=\"text-align: right;\">\n",
              "      <th></th>\n",
              "      <th>narrative</th>\n",
              "      <th>drafting</th>\n",
              "    </tr>\n",
              "  </thead>\n",
              "  <tbody>\n",
              "    <tr>\n",
              "      <th>0</th>\n",
              "      <td>briefing order re: slip and fall beguilingly</td>\n",
              "      <td>1</td>\n",
              "    </tr>\n",
              "  </tbody>\n",
              "</table>\n",
              "</div>\n",
              "      <button class=\"colab-df-convert\" onclick=\"convertToInteractive('df-af34d02b-cd9c-4424-905c-9d193a31cec7')\"\n",
              "              title=\"Convert this dataframe to an interactive table.\"\n",
              "              style=\"display:none;\">\n",
              "        \n",
              "  <svg xmlns=\"http://www.w3.org/2000/svg\" height=\"24px\"viewBox=\"0 0 24 24\"\n",
              "       width=\"24px\">\n",
              "    <path d=\"M0 0h24v24H0V0z\" fill=\"none\"/>\n",
              "    <path d=\"M18.56 5.44l.94 2.06.94-2.06 2.06-.94-2.06-.94-.94-2.06-.94 2.06-2.06.94zm-11 1L8.5 8.5l.94-2.06 2.06-.94-2.06-.94L8.5 2.5l-.94 2.06-2.06.94zm10 10l.94 2.06.94-2.06 2.06-.94-2.06-.94-.94-2.06-.94 2.06-2.06.94z\"/><path d=\"M17.41 7.96l-1.37-1.37c-.4-.4-.92-.59-1.43-.59-.52 0-1.04.2-1.43.59L10.3 9.45l-7.72 7.72c-.78.78-.78 2.05 0 2.83L4 21.41c.39.39.9.59 1.41.59.51 0 1.02-.2 1.41-.59l7.78-7.78 2.81-2.81c.8-.78.8-2.07 0-2.86zM5.41 20L4 18.59l7.72-7.72 1.47 1.35L5.41 20z\"/>\n",
              "  </svg>\n",
              "      </button>\n",
              "      \n",
              "  <style>\n",
              "    .colab-df-container {\n",
              "      display:flex;\n",
              "      flex-wrap:wrap;\n",
              "      gap: 12px;\n",
              "    }\n",
              "\n",
              "    .colab-df-convert {\n",
              "      background-color: #E8F0FE;\n",
              "      border: none;\n",
              "      border-radius: 50%;\n",
              "      cursor: pointer;\n",
              "      display: none;\n",
              "      fill: #1967D2;\n",
              "      height: 32px;\n",
              "      padding: 0 0 0 0;\n",
              "      width: 32px;\n",
              "    }\n",
              "\n",
              "    .colab-df-convert:hover {\n",
              "      background-color: #E2EBFA;\n",
              "      box-shadow: 0px 1px 2px rgba(60, 64, 67, 0.3), 0px 1px 3px 1px rgba(60, 64, 67, 0.15);\n",
              "      fill: #174EA6;\n",
              "    }\n",
              "\n",
              "    [theme=dark] .colab-df-convert {\n",
              "      background-color: #3B4455;\n",
              "      fill: #D2E3FC;\n",
              "    }\n",
              "\n",
              "    [theme=dark] .colab-df-convert:hover {\n",
              "      background-color: #434B5C;\n",
              "      box-shadow: 0px 1px 3px 1px rgba(0, 0, 0, 0.15);\n",
              "      filter: drop-shadow(0px 1px 2px rgba(0, 0, 0, 0.3));\n",
              "      fill: #FFFFFF;\n",
              "    }\n",
              "  </style>\n",
              "\n",
              "      <script>\n",
              "        const buttonEl =\n",
              "          document.querySelector('#df-af34d02b-cd9c-4424-905c-9d193a31cec7 button.colab-df-convert');\n",
              "        buttonEl.style.display =\n",
              "          google.colab.kernel.accessAllowed ? 'block' : 'none';\n",
              "\n",
              "        async function convertToInteractive(key) {\n",
              "          const element = document.querySelector('#df-af34d02b-cd9c-4424-905c-9d193a31cec7');\n",
              "          const dataTable =\n",
              "            await google.colab.kernel.invokeFunction('convertToInteractive',\n",
              "                                                     [key], {});\n",
              "          if (!dataTable) return;\n",
              "\n",
              "          const docLinkHtml = 'Like what you see? Visit the ' +\n",
              "            '<a target=\"_blank\" href=https://colab.research.google.com/notebooks/data_table.ipynb>data table notebook</a>'\n",
              "            + ' to learn more about interactive tables.';\n",
              "          element.innerHTML = '';\n",
              "          dataTable['output_type'] = 'display_data';\n",
              "          await google.colab.output.renderOutput(dataTable, element);\n",
              "          const docLink = document.createElement('div');\n",
              "          docLink.innerHTML = docLinkHtml;\n",
              "          element.appendChild(docLink);\n",
              "        }\n",
              "      </script>\n",
              "    </div>\n",
              "  </div>\n",
              "  "
            ]
          },
          "metadata": {},
          "execution_count": 8
        }
      ]
    },
    {
      "cell_type": "markdown",
      "source": [
        "What does this look like in vector format? I cannot simply print this vector to the screen as it's too large!\n",
        "\n",
        "Recall a vector is a list of numbers. In vector format, this docket is a list containing 7624 numbers (corresponding to the number of unique words in the dataset). Since the docket narrative contains far less than 7624 words, most of the list is comprised of 0's - i.e. indicating the words associated with these columns do not appear in the docket at all.\n",
        "\n",
        "Which columns contain a non-0 number, and what are these numbers?"
      ],
      "metadata": {
        "id": "27taypyJEDbR"
      }
    },
    {
      "cell_type": "code",
      "source": [
        "#This code identifies which columns in the first row of our dataset contain non-zero numbers, and what these numbers are\n",
        "row_0 = X_train.getrow(0)\n",
        "non_zero_indices = row_0.nonzero()[1]\n",
        "non_zero_values = row_0.data\n",
        "for i, value in zip(non_zero_indices, non_zero_values):\n",
        "    print(f\"X_train[0, {i}] = {value}\")\n"
      ],
      "metadata": {
        "colab": {
          "base_uri": "https://localhost:8080/"
        },
        "id": "GlcNS9kjC0m6",
        "outputId": "7c5b239c-2cb2-4a50-d847-935736d9d860"
      },
      "execution_count": 9,
      "outputs": [
        {
          "output_type": "stream",
          "name": "stdout",
          "text": [
            "X_train[0, 2241] = 1\n",
            "X_train[0, 2474] = 1\n",
            "X_train[0, 3893] = 1\n",
            "X_train[0, 5375] = 1\n",
            "X_train[0, 5607] = 1\n"
          ]
        }
      ]
    },
    {
      "cell_type": "markdown",
      "source": [
        "This tell us us that the vector for this docket contains nothing but 0's except in the following columns: 2241, 2474, 3893, 5375, and 5607. In these columns, there is a 1. That is, the word indicated in that column appears once in the narrative.\n",
        "\n",
        "Accordingly, our first docket narrative - in vector format - is a list containing seven thousand six hundred and nineteen (7619) 0's and then 1's in the 2241th, 2474th, 3893rd, 5275th, and 5607th columns.\n",
        "\n",
        "Imagine each docket narrative converted into this format, and then you will have a picture of what it means to vectorize the narratives in the dataset.\n",
        "\n",
        "Lastly, we will apply an additional processing technique to our text data: `TfidfTransformer`. This addresses the fact some words may have more importance than others when classifying text. \n",
        "\n",
        "As applied to our dataset, `TfidfTransformer` will analyze the vectorized docket narratives and add weight to the words that are unique to the drafting narratives as compared to the non-drafting narratives, and downweight the words that are common across both types of narratives. \n",
        "\n"
      ],
      "metadata": {
        "id": "rVcBGqBCGT8f"
      }
    },
    {
      "cell_type": "code",
      "source": [
        "tfidf_transformer = TfidfTransformer()\n",
        "X_train_tfidf = tfidf_transformer.fit_transform(X_train)\n",
        "X_test_tfidf = tfidf_transformer.fit_transform(X_test)"
      ],
      "metadata": {
        "id": "skF8ymBbsYau"
      },
      "execution_count": 10,
      "outputs": []
    },
    {
      "cell_type": "markdown",
      "source": [
        "With this done, we can turn to training and testing our model.\n",
        "\n",
        "# Training the Model\n",
        "\n",
        "For this exercise, I will use a logistic regression model. To train the model, we run the following code.\n"
      ],
      "metadata": {
        "id": "rhIzIQ--t64n"
      }
    },
    {
      "cell_type": "code",
      "source": [
        "classifier = LogisticRegression()\n",
        "classifier.fit(X_train_tfidf, y_train)\n"
      ],
      "metadata": {
        "colab": {
          "base_uri": "https://localhost:8080/",
          "height": 74
        },
        "id": "PJOca-ysIwGx",
        "outputId": "88c3af41-ba92-4b56-850b-875336985080"
      },
      "execution_count": 11,
      "outputs": [
        {
          "output_type": "execute_result",
          "data": {
            "text/plain": [
              "LogisticRegression()"
            ],
            "text/html": [
              "<style>#sk-container-id-1 {color: black;background-color: white;}#sk-container-id-1 pre{padding: 0;}#sk-container-id-1 div.sk-toggleable {background-color: white;}#sk-container-id-1 label.sk-toggleable__label {cursor: pointer;display: block;width: 100%;margin-bottom: 0;padding: 0.3em;box-sizing: border-box;text-align: center;}#sk-container-id-1 label.sk-toggleable__label-arrow:before {content: \"▸\";float: left;margin-right: 0.25em;color: #696969;}#sk-container-id-1 label.sk-toggleable__label-arrow:hover:before {color: black;}#sk-container-id-1 div.sk-estimator:hover label.sk-toggleable__label-arrow:before {color: black;}#sk-container-id-1 div.sk-toggleable__content {max-height: 0;max-width: 0;overflow: hidden;text-align: left;background-color: #f0f8ff;}#sk-container-id-1 div.sk-toggleable__content pre {margin: 0.2em;color: black;border-radius: 0.25em;background-color: #f0f8ff;}#sk-container-id-1 input.sk-toggleable__control:checked~div.sk-toggleable__content {max-height: 200px;max-width: 100%;overflow: auto;}#sk-container-id-1 input.sk-toggleable__control:checked~label.sk-toggleable__label-arrow:before {content: \"▾\";}#sk-container-id-1 div.sk-estimator input.sk-toggleable__control:checked~label.sk-toggleable__label {background-color: #d4ebff;}#sk-container-id-1 div.sk-label input.sk-toggleable__control:checked~label.sk-toggleable__label {background-color: #d4ebff;}#sk-container-id-1 input.sk-hidden--visually {border: 0;clip: rect(1px 1px 1px 1px);clip: rect(1px, 1px, 1px, 1px);height: 1px;margin: -1px;overflow: hidden;padding: 0;position: absolute;width: 1px;}#sk-container-id-1 div.sk-estimator {font-family: monospace;background-color: #f0f8ff;border: 1px dotted black;border-radius: 0.25em;box-sizing: border-box;margin-bottom: 0.5em;}#sk-container-id-1 div.sk-estimator:hover {background-color: #d4ebff;}#sk-container-id-1 div.sk-parallel-item::after {content: \"\";width: 100%;border-bottom: 1px solid gray;flex-grow: 1;}#sk-container-id-1 div.sk-label:hover label.sk-toggleable__label {background-color: #d4ebff;}#sk-container-id-1 div.sk-serial::before {content: \"\";position: absolute;border-left: 1px solid gray;box-sizing: border-box;top: 0;bottom: 0;left: 50%;z-index: 0;}#sk-container-id-1 div.sk-serial {display: flex;flex-direction: column;align-items: center;background-color: white;padding-right: 0.2em;padding-left: 0.2em;position: relative;}#sk-container-id-1 div.sk-item {position: relative;z-index: 1;}#sk-container-id-1 div.sk-parallel {display: flex;align-items: stretch;justify-content: center;background-color: white;position: relative;}#sk-container-id-1 div.sk-item::before, #sk-container-id-1 div.sk-parallel-item::before {content: \"\";position: absolute;border-left: 1px solid gray;box-sizing: border-box;top: 0;bottom: 0;left: 50%;z-index: -1;}#sk-container-id-1 div.sk-parallel-item {display: flex;flex-direction: column;z-index: 1;position: relative;background-color: white;}#sk-container-id-1 div.sk-parallel-item:first-child::after {align-self: flex-end;width: 50%;}#sk-container-id-1 div.sk-parallel-item:last-child::after {align-self: flex-start;width: 50%;}#sk-container-id-1 div.sk-parallel-item:only-child::after {width: 0;}#sk-container-id-1 div.sk-dashed-wrapped {border: 1px dashed gray;margin: 0 0.4em 0.5em 0.4em;box-sizing: border-box;padding-bottom: 0.4em;background-color: white;}#sk-container-id-1 div.sk-label label {font-family: monospace;font-weight: bold;display: inline-block;line-height: 1.2em;}#sk-container-id-1 div.sk-label-container {text-align: center;}#sk-container-id-1 div.sk-container {/* jupyter's `normalize.less` sets `[hidden] { display: none; }` but bootstrap.min.css set `[hidden] { display: none !important; }` so we also need the `!important` here to be able to override the default hidden behavior on the sphinx rendered scikit-learn.org. See: https://github.com/scikit-learn/scikit-learn/issues/21755 */display: inline-block !important;position: relative;}#sk-container-id-1 div.sk-text-repr-fallback {display: none;}</style><div id=\"sk-container-id-1\" class=\"sk-top-container\"><div class=\"sk-text-repr-fallback\"><pre>LogisticRegression()</pre><b>In a Jupyter environment, please rerun this cell to show the HTML representation or trust the notebook. <br />On GitHub, the HTML representation is unable to render, please try loading this page with nbviewer.org.</b></div><div class=\"sk-container\" hidden><div class=\"sk-item\"><div class=\"sk-estimator sk-toggleable\"><input class=\"sk-toggleable__control sk-hidden--visually\" id=\"sk-estimator-id-1\" type=\"checkbox\" checked><label for=\"sk-estimator-id-1\" class=\"sk-toggleable__label sk-toggleable__label-arrow\">LogisticRegression</label><div class=\"sk-toggleable__content\"><pre>LogisticRegression()</pre></div></div></div></div></div>"
            ]
          },
          "metadata": {},
          "execution_count": 11
        }
      ]
    },
    {
      "cell_type": "markdown",
      "source": [
        "Above, we create an instance of the `LogisticRegression` class and assign it to the variable `classifier`. We then train the model on our training data, `X_train` (the vectorized docket narratives) and `y_train` (the 1's and 0`s indicating whether a docket narrative is a drafting narrative or not).\n",
        "\n",
        "# Testing the Model\n",
        "\n",
        "Now that our model is trained, we can test it to see how it performs on the portion of the dataset that we held back for testing purposes, i.e. `X_test` and `y_test`. We do this per the below."
      ],
      "metadata": {
        "id": "kk1PybmpBF24"
      }
    },
    {
      "cell_type": "code",
      "source": [
        "score = classifier.score(X_test_tfidf, y_test)\n",
        "print(\"Accuracy:\", score)"
      ],
      "metadata": {
        "colab": {
          "base_uri": "https://localhost:8080/"
        },
        "id": "9F1zGBhgBBZz",
        "outputId": "c61e2055-5c96-4bcb-a61e-84eb5d2e2a4f"
      },
      "execution_count": 12,
      "outputs": [
        {
          "output_type": "stream",
          "name": "stdout",
          "text": [
            "Accuracy: 1.0\n"
          ]
        }
      ]
    },
    {
      "cell_type": "markdown",
      "source": [
        "This output indicates the model is predicting with perfect accuracy whether the test narratives are drafting narratives or not.\n",
        "\n",
        "To help understand what is occuring during the testing process, we can plot the results with a learning curve."
      ],
      "metadata": {
        "id": "q7e7g8ZQRCOY"
      }
    },
    {
      "cell_type": "code",
      "source": [
        "#collapse_output\n",
        "import matplotlib.pyplot as plt\n",
        "import numpy as np\n",
        "from sklearn.model_selection import learning_curve\n",
        "\n",
        "# define the logistic regression model\n",
        "#classifier = LogisticRegression()\n",
        "\n",
        "# create a learning curve plot\n",
        "train_sizes, train_scores, test_scores = learning_curve(\n",
        "    classifier, X_train_tfidf, y_train, cv=5, scoring='accuracy', n_jobs=-1)\n",
        "\n",
        "# calculate the mean and standard deviation of the training and validation scores\n",
        "train_scores_mean = np.mean(train_scores, axis=1)\n",
        "train_scores_std = np.std(train_scores, axis=1)\n",
        "test_scores_mean = np.mean(test_scores, axis=1)\n",
        "test_scores_std = np.std(test_scores, axis=1)\n",
        "\n",
        "# plot the learning curve\n",
        "plt.figure(figsize=(8, 6))\n",
        "plt.title('Learning Curve (Logistic Regression)')\n",
        "plt.xlabel('Training Samples')\n",
        "plt.ylabel('Score')\n",
        "plt.grid()\n",
        "plt.fill_between(train_sizes, train_scores_mean - train_scores_std,\n",
        "                 train_scores_mean + train_scores_std, alpha=0.1,\n",
        "                 color='r')\n",
        "plt.fill_between(train_sizes, test_scores_mean - test_scores_std,\n",
        "                 test_scores_mean + test_scores_std, alpha=0.1,\n",
        "                 color='g')\n",
        "plt.plot(train_sizes, train_scores_mean, 'o-', color='r',\n",
        "         label='Training Score')\n",
        "plt.plot(train_sizes, test_scores_mean, 'o-', color='g',\n",
        "         label='Cross-validation Score')\n",
        "plt.legend(loc='best')\n",
        "plt.show()"
      ],
      "metadata": {
        "colab": {
          "base_uri": "https://localhost:8080/",
          "height": 564
        },
        "id": "nCdkPNxLtFCf",
        "outputId": "77901289-6f5a-4f3b-eb14-2b877861dce0"
      },
      "execution_count": 13,
      "outputs": [
        {
          "output_type": "display_data",
          "data": {
            "text/plain": [
              "<Figure size 800x600 with 1 Axes>"
            ],
            "image/png": "[encoded data removed]"
          },
          "metadata": {}
        }
      ]
    },
    {
      "cell_type": "markdown",
      "source": [
        "Since the training score and cross-validation score are converging at a high value, this suggests the model has succesfully learned to distinguish between the drafting and non-drafting narratives.\n",
        "\n",
        "That said, there is still a risk of overfitting -- i.e. the model has effectively \"memorized\" the dataset. One way of testing this is to try the model on more data to see whether it can generalize from the data it was trained on to make successful predictions in relation to new data.\n",
        "\n",
        "Let's create some new docket narratives and run them through the model."
      ],
      "metadata": {
        "id": "k_Bh6dthzHEV"
      }
    },
    {
      "cell_type": "code",
      "source": [
        "new_dockets = [\"drafting motion record re: mareva injunction directed at bank and third parties\", \n",
        "               \"attending motion hearing re: challenging standing of proposed third party intervenor\", \n",
        "               \"participating in settlement conference re: laches issue\", \n",
        "               \"writing email to client re: laches issue\"]\n",
        "\n",
        "new_docket_counts = vectorizer.transform(new_dockets)\n",
        "X_new_dockets_tfidf = tfidf_transformer.transform(new_docket_counts)"
      ],
      "metadata": {
        "id": "lNxk6Wzz0jfI"
      },
      "execution_count": 14,
      "outputs": []
    },
    {
      "cell_type": "markdown",
      "source": [
        "Now we'll run them through the model and check the results."
      ],
      "metadata": {
        "id": "6pbXCfB40mbd"
      }
    },
    {
      "cell_type": "code",
      "source": [
        "ynew = classifier.predict(X_new_dockets_tfidf)\n",
        "\n",
        "for i in range(len(new_dockets)):\n",
        "  if ynew[i] == 1:\n",
        "    print(\"The docket narrative %r is a drafting docket. \\n\" % (new_dockets[i]))\n",
        "  else:\n",
        "    print(\"The docket narrative %r is not a drafting docket.\\n\" % (new_dockets[i]))"
      ],
      "metadata": {
        "colab": {
          "base_uri": "https://localhost:8080/"
        },
        "id": "BWEhAr0z046T",
        "outputId": "bc64d140-dc26-4b4a-cf18-3a3456fad99a"
      },
      "execution_count": 15,
      "outputs": [
        {
          "output_type": "stream",
          "name": "stdout",
          "text": [
            "The docket narrative 'drafting motion record re: mareva injunction directed at bank and third parties' is a drafting docket. \n",
            "\n",
            "The docket narrative 'attending motion hearing re: challenging standing of proposed third party intervenor' is not a drafting docket.\n",
            "\n",
            "The docket narrative 'participating in settlement conference re: laches issue' is not a drafting docket.\n",
            "\n",
            "The docket narrative 'writing email to client re: laches issue' is a drafting docket. \n",
            "\n"
          ]
        }
      ]
    },
    {
      "cell_type": "markdown",
      "source": [
        "The model classifies these narratives accurately.\n",
        "\n",
        "Note what happens, however, if we test it with \"drafting\" dockets where the drafting verb in the past tense. All of the training data is in the present tense."
      ],
      "metadata": {
        "id": "b41jY1Yn3d2h"
      }
    },
    {
      "cell_type": "code",
      "source": [
        "new_dockets = [\"drafted motion record re: mareva injunction directed at bank and others\",  \n",
        "               \"wrote email to client re: laches issue\"]\n",
        "\n",
        "new_docket_counts = vectorizer.transform(new_dockets)\n",
        "X_new_dockets_tfidf = tfidf_transformer.transform(new_docket_counts)\n",
        "\n",
        "ynew = classifier.predict(X_new_dockets_tfidf)\n",
        "\n",
        "for i in range(len(new_dockets)):\n",
        "  if ynew[i] == 1:\n",
        "    print(\"The docket narrative %r is a drafting docket. \\n\" % (new_dockets[i]))\n",
        "  else:\n",
        "    print(\"The docket narrative %r is not a drafting docket.\\n\" % (new_dockets[i]))"
      ],
      "metadata": {
        "colab": {
          "base_uri": "https://localhost:8080/"
        },
        "id": "koCMAAOp30rV",
        "outputId": "96281a09-9996-42ea-c568-1581c610b14a"
      },
      "execution_count": 16,
      "outputs": [
        {
          "output_type": "stream",
          "name": "stdout",
          "text": [
            "The docket narrative 'drafted motion record re: mareva injunction directed at bank and others' is not a drafting docket.\n",
            "\n",
            "The docket narrative 'wrote email to client re: laches issue' is not a drafting docket.\n",
            "\n"
          ]
        }
      ]
    },
    {
      "cell_type": "markdown",
      "source": [
        "As expected, the model classifies these dockets as \"non-drafting\" because it was not trained on any drafting verbs in the past tense.\n",
        "\n",
        "# Final Thoughts\n",
        "\n",
        "This was a fun exercise but ultimately the results are somewhat underwhelming. I think it highlights the shortcomings of my dataset. It contains only five drafting verbs (writing, drafting, editing, revising, briefing). The non-drafting narratives do not contain these verbs. This probably makes it easy for the model to \"learn\" to distinguish between the drafting and non-drafting dockets. The same result could also be accomplished using a simple if/then approach.\n",
        "\n",
        "Still, I learned a lot and I'm fired up to apply these techniques to a more realistic dataset!\n",
        "\n",
        "# Resources\n",
        "\n",
        "I found the following resources particularly helpful for this project:\n",
        "* [*Working with Text Data*, scikit-learn website](https://scikit-learn.org/stable/tutorial/text_analytics/working_with_text_data.html)\n",
        "* [*Practical Text Classification with Python and Keras*, Real Python](https://realpython.com/python-keras-text-classification/) (see section on defining a baseline model)\n",
        "* [*How to Make Predictions with scikit-learn*, Machine Learning Mastery](https://machinelearningmastery.com/make-predictions-scikit-learn/) "
      ],
      "metadata": {
        "id": "zGU72m0V4Xt4"
      }
    }
  ]
}