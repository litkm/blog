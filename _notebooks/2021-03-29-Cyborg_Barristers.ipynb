{
  "nbformat": 4,
  "nbformat_minor": 0,
  "metadata": {
    "colab": {
      "name": "2021-03-29-Cyborg Barristers.ipynb",
      "provenance": [],
      "collapsed_sections": []
    },
    "kernelspec": {
      "name": "python3",
      "display_name": "Python 3"
    },
    "language_info": {
      "name": "python"
    }
  },
  "cells": [
    {
      "cell_type": "markdown",
      "metadata": {
        "id": "vsDRNH_hebk8"
      },
      "source": [
        "# \"Cyborg Barristers: A Golden Age for Oral Advocacy\" \n",
        "> Why widespread use of AI in litigation may make oral advocacy more important than ever\n",
        "\n",
        "- toc: true \n",
        "- badges: true\n",
        "- comments: true\n",
        "- image: images/social_logo.png\n",
        "- author: Charles Dobson\n",
        "- categories: [artificial intelligence, machine learning, litigation, law, lawyering, general]"
      ]
    },
    {
      "cell_type": "markdown",
      "metadata": {
        "id": "Dqrfn_O_egVx"
      },
      "source": [
        "# Introduction\n",
        "\n",
        "When I was a baby litigator, I enjoyed hearing stories from senior counsel about courtroom advocacy \"back in the day.\" Oral advocacy usually featured prominently. What the lawyer said, and not so much what the lawyer wrote, was decisive. Modern civil litigation, however, relies mainly on written advocacy.\n",
        "\n",
        "In the years to come, AI-based software tools will change litigation. Counterintuitively, I think one of these changes will be to reinvigorate the importance of oral advocacy before the Canadian courts. \n",
        "\n",
        "# Written Advocacy Has Replaced Oral Advocacy\n",
        "\n",
        "Oral advocacy is a fading star. In a recent treatise titled [*Some Thoughts on Legal Writing and Written Advocacy*](https://papers.ssrn.com/sol3/papers.cfm?abstract_id=3800057), Justice Stratas of the Canadian Federal Court of Appeal writes:\n",
        "> Once upon a time, civil litigation depended exclusively on oral advocacy. That time is gone. When courts decide public law and civil cases, more and more they rely on written advocacy.\n",
        "\n",
        "Whatever other reasons there are for this transition, complexity and volume must be chief among them. Cases are more complex than ever. They involve more documents, more experts, more law; more of everything, in short. And there are more of all of these cases! \n",
        "\n",
        "To cope, lawyers rely on the written word to state everything they will not have time to say while before the court in person. It's a kind of buffering, if you will.\n",
        "\n",
        "# AI in Litigation Will Mainly Influence Written Advocacy\n",
        "\n",
        "AI is already changing litigation. We see this in e-discovery, but increasingly in research, litigation analytics, and knowledge management.\n",
        "\n",
        "To date, all AI enhanced software tools are examples of so-called narrow artificial intelligence. That is, these tools address problems or tasks relating to one specific context only. At best, narrow AI systems can be combined to increase breadth. For instance, e-discovery platforms integrate a range of AI algorithms to process data in different ways. There is no \"generalized\" legal AI that can assist with e-discovery on one day, research into case law on the next, and then prepare a first draft of a factum on the day after.\n",
        "\n",
        "Since there is no generalized legal AI, the legal AI industry is developing in several different directions. [*Artificial Lawyer*](https://www.artificiallawyer.com/2021/03/08/the-new-legal-ai-map/) recently published a fascinating graphic depicting the ways legal AI has grown into branches and sub-branches. For instance, litigation analytics is branching into categories of tools addressing case law research, participant analysis (e.g. judge analytics), and drafting. There is also an emerging area of software geared towards generating drafts of legal documents; so far, there is a branch for patent applications and another for discovery responses.\n",
        "\n",
        "All AI algorithms require data. Wherever on the legal AI \"tree\" a tool may be situated, this data is mainly the written word. All of these AI systems also output data, likewise primarily in written form. This makes legal AI especially useful for lawyers’ written work product, even when an AI system is not explicitly designed for this purpose.\n",
        "\n",
        "# How AI Will Enhance Written Advocacy\n",
        "\n",
        "Forecasting the future is obviously risky. Both the timeline, and the actual AI tools of the future, remain unclear. That said, I think the tools presently available, and under development, suggest the trajectory. \n",
        "\n",
        "There is already intelligent software that takes legal questions (rather than just search terms), scours the case law, and provides a written response. These tools will likely improve to the point where they can provide accurate statements of law nearly ready to be dropped into a factum.\n",
        "\n",
        "There are also tools geared towards generating full-blown legal documents. In time, I imagine we will see tools that will generate substantive first drafts of a range of documents, including notices of motion, affidavits, and factums. When the lawyer reviews these drafts, this software (or another one) will also provide options for optimizing the drafting for style and substance. \n",
        "\n",
        "This legal drafting software will learn from the firm's own work product, work product the firm receives from opposing counsel, and anything else that is publicly available. It will further improve as it interacts with the firm's lawyers. Drafting legal documents may begin to resemble a dialogue of sorts. The machine will predict appropriate language, and the lawyer will confirm, reject, or revise. Over time, the machine should get better - much like a junior associate eventually acquires the experience to become a seasoned corner office partner.\n",
        "\n",
        "AI tools may also help simplify cases. Even the most complex cases usually boil down to a handful of truly key documents and principles. An AI tool trained on a firm's experience with similar cases, and the case law, might assist lawyers in focusing their written submissions with better precision.\n",
        "\n",
        "Two streams are now converging: the present emphasis on written advocacy will combine with AI litigation software, and this software will mainly improve lawyers' written work. This is where the impact will be felt first and foremost. But one indirect result of this combination will be to reinvigorate the importance of oral advocacy. Let me explain. \n",
        "\n",
        "# As AI Enhances Written Advocacy, Oral Advocacy Will Become More Important\n",
        "\n",
        "At least for the foreseeable future, all forthcoming AI tools for litigation will be narrow AI systems. They will each do one thing, or multiple closely related things, only. Eventually, some of them should also do this one thing (or things) really well.\n",
        "\n",
        "Most, if not all, of these tools will mainly enhance written advocacy. As I described, they will facilitate legal research, prepare drafts of written submissions, and then assist with editing. Eventually, we should see fewer differences in style and quality. These tools will probably also help with distilling even the most complex cases into key components, so court filings become concise. \n",
        "\n",
        "Once uptake among lawyers becomes widespread, the quality of written submissions of every kind will improve across the market. Although adopting new technology occurs slowly in the legal industry, its steady march is undeniable. The very best written advocacy Canada's lawyers presently have on offer should eventually become the baseline.\n",
        "\n",
        "As the standard for written advocacy levels off on a high plateau, oral advocacy will become more important. Based on present trends, AI is not poised to enhance oral advocacy in any way comparable to written advocacy. At the same time, court hearings, whether in-person or remote, are fundamental to civil litigation in Canada. Our system also remains adversarial. There is no serious sign of either of these features changing. If written advocacy becomes generally less persuasive (because it is all so good!), then litigators must focus their efforts more on the only avenue of persuasion that remains: oral advocacy. This is where the advocate, with no (or limited) assistance from a machine, may yet make a difference in pleading the client's case.      \n",
        "\n",
        "# Final Thoughts\n",
        "\n",
        "In this post, I've tried to sketch some possibilities for AI-based litigation tools given the evident trends. Whatever specific tools are actually developed, I believe we can be confident they will mainly enhance lawyers' written work, and thereby their written advocacy. While one might be tempted to conclude this will further diminish the importance of oral advocacy, I think the opposite is likely. Current trends in AI are cuing oral advocacy up to become more important than ever. Maybe it will not define civil litigation as it did in the days of yore, but I think it could still become decisive in a way it has not been for awhile now.{% fn 1 %} \n",
        "\n",
        "{{ 'That is, of course, until AI researchers achieve a \"master legal algorithm\" and courts, featuring judges in the flesh and blood, are no longer required!' | fndetail: 1 }}\n",
        "\n"
      ]
    }
  ]
}