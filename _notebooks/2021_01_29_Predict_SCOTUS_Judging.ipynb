{
  "nbformat": 4,
  "nbformat_minor": 0,
  "metadata": {
    "colab": {
      "name": "2021-01-29-Predict SCOTUS Judging.ipynb",
      "provenance": [],
      "collapsed_sections": []
    },
    "kernelspec": {
      "name": "python3",
      "display_name": "Python 3"
    }
  },
  "cells": [
    {
      "cell_type": "markdown",
      "metadata": {
        "id": "JIE6Istd2G-W"
      },
      "source": [
        "# Using Artificial Intelligence to Predict SCOTUS Judging\r\n",
        "> My first \"independent\" project using deep learning\r\n",
        "\r\n",
        "- toc: true \r\n",
        "- badges: true\r\n",
        "- comments: true\r\n",
        "- sticky_rank: 1\r\n",
        "- author: Charles Dobson\r\n",
        "- categories: [artificial intelligence, deep learning, litigation, analytics]\r\n"
      ]
    },
    {
      "cell_type": "markdown",
      "metadata": {
        "id": "FmmUvsL83A1s"
      },
      "source": [
        "Stay tuned...\r\n"
      ]
    }
  ]
}