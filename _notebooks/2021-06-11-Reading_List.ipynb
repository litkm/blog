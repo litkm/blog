{
  "nbformat": 4,
  "nbformat_minor": 0,
  "metadata": {
    "colab": {
      "name": "2021-06-11- Reading List.ipynb",
      "provenance": [],
      "collapsed_sections": []
    },
    "kernelspec": {
      "name": "python3",
      "display_name": "Python 3"
    },
    "language_info": {
      "name": "python"
    }
  },
  "cells": [
    {
      "cell_type": "markdown",
      "metadata": {
        "id": "g9RnEMOTGC2k"
      },
      "source": [
        "# \"Reading List: Resources I've Found Helpful (Pinned Post)\"\n",
        "> Will Be Updated Periodically\n",
        "\n",
        "- toc: true \n",
        "- badges: false\n",
        "- comments: true\n",
        "- image: images/social_logo.png\n",
        "- sticky_rank: 2\n",
        "- author: Charles Dobson\n",
        "- categories: [artificial intelligence, general, law, machine learning, python]"
      ]
    },
    {
      "cell_type": "markdown",
      "metadata": {
        "id": "fNH9swWZH0LC"
      },
      "source": [
        "# Introduction\n",
        "\n",
        "This is a non-exhaustive list of resources I've found instructive and insightful. They run the gamut. Some are technical in focus, while others are general reading. Topics range from AI (or some subset of it) only, to law and AI. I will update this list periodically. \n",
        "\n",
        "If there are any resources you'd recommend, please let me know!\n",
        "\n",
        "# Text Books\n",
        "\n",
        "* *Deep Learning Illustrated*, John Krohn (Addison-Wesley Professional, 2019)\n",
        "\n",
        "* *Grokking Algorithms*, Aditya Bhargava (Manning Publications, 2016)\n",
        "\n",
        "* *Grokking Artificial Intelligence Algorithms*, Rishal Hurbans (Manning Publications, 2020)\n",
        "\n",
        "* *Grokking Deep Learning*, Andrew Trask (Manning Publications, 2019)\n",
        "\n",
        "  I cannot say enough good things about this book. This is the resource that made the fundamentals of deep learning \"click\" for me. It also focuses on coding neural networks from scratch in Python, rather than using a library (e.g. Keras). I found this approach very insightful.\n",
        "\n",
        "* *Introduction to Computational Programming Using Python with Application to Understanding Data*, John V. Guttag, (MIT Press, 2016)\n",
        "\n",
        "* *Python for Data Analysis*, Wes McKinney (O'Reilly, 2014)\n",
        "\n",
        "# Online Courses\n",
        "\n",
        "* Build A Machine Learning Model with Python (Skills Path), [Codecademy](https://www.codecademy.com)\n",
        "\n",
        "* Build Deep Learning Models with TensorFlow (Skills Path), [Codecademy](https://www.codecademy.com)\n",
        "\n",
        "* Computer Science (Career Path), [Codecademy](https://www.codecademy.com)\n",
        "\n",
        "# Websites\n",
        "\n",
        "* [Machine Learning Mastery](https://machinelearningmastery.com/)\n",
        "* [Real Python](https://realpython.com/)\n",
        "\n",
        "# General Reading re: AI\n",
        "\n",
        "* *Artificial Intelligence: A Guide for Thinking Humans*, Melanie Mitchell (Picador, 2019)\n",
        "\n",
        "* *Possible Minds: Twenty-Five Ways of Looking at AI*, ed. John Brockman (Penguin, 2020)\n",
        "\n",
        "* *The Master Algorithm*, Pedro Domingos (Basic Books, 2018)\n",
        "\n",
        "# Law & AI: Papers \n",
        "\n",
        "* *Algorithms As Legal Decisions: Gender Gaps and Canadian Employment Law in the 21st Century*, Niblett, Anthony, [Available at SSRN](https://ssrn.com/abstract=3702495)\n",
        "\n",
        "* *Predicting Economic Substance Cases with Machine Learning*, Alarie, Benjamin and Aidid, Abdi, Journal of Tax Practice & Procedure, 2020, [Available at SSRN](https://ssrn.com/abstract=3628421)\n",
        "\n",
        "* *Using Text Analytics to Predict Litigation Outcomes*, Alexander, Charlotte and Al Jadda, Khalifeh and Feizollahi, Mohammed Javad and Tucker, Anne M., Law as Data: Computation, Text, and the Future of Legal Analysis (under contract, Santa Fe Institute Press, Michael Livermore & Daniel Rockmore, eds., 2018, Forthcoming)., Georgia State University College of Law, Legal Studies Research Paper No. 2018-13, [Available at SSRN](https://ssrn.com/abstract=3230224)\n",
        "\n",
        "\n",
        "\n",
        "\n",
        "\n",
        "\n",
        " "
      ]
    }
  ]
}