{
  "nbformat": 4,
  "nbformat_minor": 0,
  "metadata": {
    "colab": {
      "name": "2021-02-03-Test1.ipynb",
      "provenance": [],
      "collapsed_sections": []
    },
    "kernelspec": {
      "name": "python3",
      "display_name": "Python 3"
    }
  },
  "cells": [
    {
      "cell_type": "markdown",
      "metadata": {
        "id": "FmmUvsL83A1s"
      },
      "source": [
        "# Using Artificial Intelligence to Predict SCOTUS Judging\r\n",
        "> Applying deep learning to predict Justice Brennan's voting record\r\n",
        "\r\n",
        "- toc: true \r\n",
        "- badges: true\r\n",
        "- comments: true\r\n",
        "- sticky_rank: 2\r\n",
        "- author: Charles Dobson\r\n",
        "- categories: [artificial intelligence, machine learning, deep learning, litigation, analytics]\r\n",
        "\r\n"
      ]
    },
    {
      "cell_type": "markdown",
      "metadata": {
        "id": "xelJL76YiP-h"
      },
      "source": [
        "#Introduction\r\n",
        "\r\n",
        "In Prof. Wolfgang Alschner's fantastic course, Data Science for Lawyers, Lesson 8 focuses on using several machine learning algorithms to predict Justice Brennan's voting record. \r\n",
        "\r\n",
        "#Test Heading\r\n"
      ]
    }
  ]
}