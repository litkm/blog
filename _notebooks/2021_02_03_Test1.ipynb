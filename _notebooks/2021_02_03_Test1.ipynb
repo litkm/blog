{
  "nbformat": 4,
  "nbformat_minor": 0,
  "metadata": {
    "colab": {
      "name": "2021-02-03-Test1.ipynb",
      "provenance": [],
      "collapsed_sections": []
    },
    "kernelspec": {
      "name": "python3",
      "display_name": "Python 3"
    }
  },
  "cells": [
    {
      "cell_type": "markdown",
      "metadata": {
        "id": "FmmUvsL83A1s"
      },
      "source": [
        "# Using Artificial Intelligence to Predict SCOTUS Judging: Part 1\r\n",
        "> Applying deep learning to predict Justice Brennan's voting record\r\n",
        "\r\n",
        "- toc: true \r\n",
        "- badges: true\r\n",
        "- comments: true\r\n",
        "- sticky_rank: 2\r\n",
        "- author: Charles Dobson\r\n",
        "- categories: [artificial intelligence, machine learning, deep learning, litigation, analytics]\r\n",
        "\r\n",
        "#Introduction\r\n",
        "\r\n",
        "In Prof. Wolfgang Alschner's fantastic course, Data Science for Lawyers, Lesson 8 focuses on using several machine learning algorithms to predict Justice Brennan's voting record. These machine learning algorithms are:\r\n",
        "* Naive bayes\r\n",
        "* Support vector machines\r\n",
        "* K-nearest neighbor\r\n",
        "\r\n",
        "At the crux of this lesson is the question: If a machine learning algorithm \"studies\" a dataset profiling thousands of cases, how well can it predict the way Justice Brennan voted in relation to a new series of cases?\r\n",
        "\r\n",
        "This lesson inspired me to apply another machine learning approach to this dataset, i.e. deep learning. In this post, I detail the results of this effort.\r\n",
        "\r\n",
        "#Justice Brennan\r\n",
        "\r\n",
        "Per [Wikipedia](https://en.wikipedia.org/wiki/William_J._Brennan_Jr.), Justice Brennan (April 25, 1906 – July 24, 1997) was an American lawyer and jurist who served as an Associate Justice of the Supreme Court of the United States from 1956 to 1990. He was the seventh-longest-serving justice in Supreme Court history, and known for being a leader of the Court's liberal wing.\r\n",
        "\r\n",
        "The length of Justice Brennan's tenure is key for present purposes. Since he sat on SCOTUS for so long, he has a lengthy voting record. This is important for training a machine learning model effectively (the more data, the better). \r\n",
        "\r\n",
        "#The Dataset\r\n",
        "\r\n",
        "The dataset is available online at the website for Prof. Alschner's course. The data is from [The Supreme Court Database](http://scdb.wustl.edu/index.php). In this database, court decisions are coded for a variety of variables relating to the identification, chronology, background, substance, and outcome of each case. \r\n",
        "\r\n",
        "The dataset is a simple CSV file. [Click to view it in a \"raw\" format](https://github.com/litkm/WJBrennan-Voting/blob/main/WJBrennan_voting.csv).\r\n",
        "\r\n",
        "Below, the first five entries of dataset are printed out.\r\n"
      ]
    }
  ]
}