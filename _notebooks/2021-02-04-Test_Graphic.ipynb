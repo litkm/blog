{
  "nbformat": 4,
  "nbformat_minor": 0,
  "metadata": {
    "colab": {
      "name": "Test Graphic.ipynb",
      "provenance": [],
      "collapsed_sections": []
    },
    "kernelspec": {
      "name": "python3",
      "display_name": "Python 3"
    }
  },
  "cells": [
    {
      "cell_type": "markdown",
      "metadata": {
        "id": "DvdddZGHt79U"
      },
      "source": [
        "# Test Graphic\r\n",
        "> Test Graphic\r\n",
        "\r\n",
        "- toc: true \r\n",
        "- badges: true\r\n",
        "- comments: true\r\n",
        "- sticky_rank: 4\r\n",
        "- author: Charles Dobson\r\n",
        "- categories: [artificial intelligence, machine learning, deep learning, litigation, analytics]"
      ]
    },
    {
      "cell_type": "markdown",
      "metadata": {
        "id": "H8wBSzxpt9xA"
      },
      "source": [
        "# Test Graphic\r\n",
        "\r\n",
        "Testing whether a graphic will work. Does it show below?\r\n",
        "\r\n",
        "![](https://github.com/litkm/WJBrennan-Voting/blob/main/2021-02-04%20104136.png)"
      ]
    }
  ]
}