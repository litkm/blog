{
  "nbformat": 4,
  "nbformat_minor": 0,
  "metadata": {
    "colab": {
      "name": "2021-02-03-Test3.ipynb",
      "provenance": [],
      "collapsed_sections": []
    },
    "kernelspec": {
      "name": "python3",
      "display_name": "Python 3"
    }
  },
  "cells": [
    {
      "cell_type": "markdown",
      "metadata": {
        "id": "JIE6Istd2G-W"
      },
      "source": [
        "# Using Artificial Intelligence to Predict SCOTUS Judging\r\n",
        "> Applying deep learning to predict Justice Brennan's voting record\r\n",
        "\r\n",
        "- toc: true \r\n",
        "- badges: true\r\n",
        "- comments: true\r\n",
        "- sticky_rank: 2\r\n",
        "- author: Charles Dobson\r\n",
        "- categories: [artificial intelligence, machine learning, deep learning, litigation, analytics]\r\n"
      ]
    },
    {
      "cell_type": "markdown",
      "metadata": {
        "id": "FmmUvsL83A1s"
      },
      "source": [
        "# Introduction\r\n",
        "\r\n",
        "Testing #hide_input\r\n"
      ]
    },
    {
      "cell_type": "code",
      "metadata": {
        "colab": {
          "base_uri": "https://localhost:8080/"
        },
        "id": "UnD6smR_qe5F",
        "outputId": "68c8c486-e3ae-49dd-c4e8-7205c9db8d89"
      },
      "source": [
        "#hide_input\r\n",
        "print('The comment #hide_input was used to hide the code that produced this.')"
      ],
      "execution_count": 4,
      "outputs": [
        {
          "output_type": "stream",
          "text": [
            "The comment #hide_input was used to hide the code that produced this.\n"
          ],
          "name": "stdout"
        }
      ]
    }
  ]
}