{
  "nbformat": 4,
  "nbformat_minor": 0,
  "metadata": {
    "colab": {
      "name": "2021-02-03-Test-Predict SCOTUS Judging.ipynb",
      "provenance": [],
      "collapsed_sections": []
    },
    "kernelspec": {
      "name": "python3",
      "display_name": "Python 3"
    }
  },
  "cells": [
    {
      "cell_type": "markdown",
      "metadata": {
        "id": "JIE6Istd2G-W"
      },
      "source": [
        "# Using Artificial Intelligence to Predict SCOTUS Judging: Part 1\r\n",
        "> Applying deep learning to predict Justice Brennan's voting record\r\n",
        "\r\n",
        "- toc: true \r\n",
        "- badges: true\r\n",
        "- comments: true\r\n",
        "- sticky_rank: 2\r\n",
        "- author: Charles Dobson\r\n",
        "- categories: [artificial intelligence, machine learning, deep learning, litigation, analytics]\r\n"
      ]
    },
    {
      "cell_type": "markdown",
      "metadata": {
        "id": "FmmUvsL83A1s"
      },
      "source": [
        "# Introduction\r\n",
        "\r\n",
        "In Prof. Wolfgang Alschner's fantastic course, [Data Science for Lawyers](https://www.datascienceforlawyers.org/), Lesson 8 focuses on using several machine learning algorithms to predict Justice Brennan's voting record. These machine learning algorithms are:\r\n",
        "* Naive bayes\r\n",
        "* Support vector machines\r\n",
        "* K-nearest neighbor\r\n",
        "\r\n",
        "At the crux of this lesson is the question: If a machine learning algorithm \"studies\" a dataset profiling thousands of cases, how well can it predict the way Justice Brennan voted in relation to a new series of cases?\r\n",
        "\r\n",
        "This lesson inspired me to apply another machine learning approach to this dataset, i.e. deep learning. In this post, I detail the results of this effort.\r\n",
        "\r\n",
        "# Justice Brennan\r\n",
        "\r\n",
        "Per [Wikipedia](https://en.wikipedia.org/wiki/William_J._Brennan_Jr.), Justice Brennan (April 25, 1906 – July 24, 1997) was an American lawyer and jurist who served as an Associate Justice of the Supreme Court of the United States from 1956 to 1990. He was the seventh-longest-serving justice in Supreme Court history, and known for being a leader of the Court's liberal wing.\r\n",
        "\r\n",
        "The length of Justice Brennan's tenure is key for present purposes. Since he sat on SCOTUS for so long, he has a lengthy voting record. This is important for training a machine learning model effectively (the more data, the better). \r\n",
        "\r\n",
        "# The Dataset\r\n",
        "\r\n",
        "The dataset is available online at the website for Prof. Alschner's course. The data is from [The Supreme Court Database](http://scdb.wustl.edu/index.php). In this database, court decisions are coded for a variety of variables relating to the identification, chronology, background, substance, and outcome of each case. \r\n",
        "\r\n",
        "The dataset is a simple CSV file. [Click to view it in a \"raw\" format](https://github.com/litkm/WJBrennan-Voting/blob/main/WJBrennan_voting.csv).\r\n",
        "\r\n",
        "Below, the first five entries of dataset are printed out.\r\n"
      ]
    },
    {
      "cell_type": "code",
      "metadata": {
        "colab": {
          "base_uri": "https://localhost:8080/",
          "height": 204
        },
        "id": "k4pk55jctNY4",
        "outputId": "7e2401aa-d9cd-49d1-f6ee-cfd1a393ac76"
      },
      "source": [
        "#hide_input\r\n",
        "import pandas as pd\r\n",
        "import seaborn as sns\r\n",
        "import matplotlib.pyplot as plt\r\n",
        "\r\n",
        "%matplotlib inline\r\n",
        "\r\n",
        "plt.style.use('bmh')\r\n",
        "\r\n",
        "dataset = 'https://raw.githubusercontent.com/litkm/WJBrennan-Voting/main/WJBrennan_voting.csv'\r\n",
        "dataset = pd.read_csv(dataset)\r\n",
        "\r\n",
        "dataset.head()"
      ],
      "execution_count": 2,
      "outputs": [
        {
          "output_type": "execute_result",
          "data": {
            "text/html": [
              "<div>\n",
              "<style scoped>\n",
              "    .dataframe tbody tr th:only-of-type {\n",
              "        vertical-align: middle;\n",
              "    }\n",
              "\n",
              "    .dataframe tbody tr th {\n",
              "        vertical-align: top;\n",
              "    }\n",
              "\n",
              "    .dataframe thead th {\n",
              "        text-align: right;\n",
              "    }\n",
              "</style>\n",
              "<table border=\"1\" class=\"dataframe\">\n",
              "  <thead>\n",
              "    <tr style=\"text-align: right;\">\n",
              "      <th></th>\n",
              "      <th>term</th>\n",
              "      <th>petitioner</th>\n",
              "      <th>respondent</th>\n",
              "      <th>jurisdiction</th>\n",
              "      <th>caseOrigin</th>\n",
              "      <th>caseSource</th>\n",
              "      <th>certReason</th>\n",
              "      <th>issue</th>\n",
              "      <th>issueArea</th>\n",
              "      <th>vote</th>\n",
              "    </tr>\n",
              "  </thead>\n",
              "  <tbody>\n",
              "    <tr>\n",
              "      <th>0</th>\n",
              "      <td>1956</td>\n",
              "      <td>113</td>\n",
              "      <td>102</td>\n",
              "      <td>1</td>\n",
              "      <td>111</td>\n",
              "      <td>23</td>\n",
              "      <td>10</td>\n",
              "      <td>100130</td>\n",
              "      <td>10</td>\n",
              "      <td>majority</td>\n",
              "    </tr>\n",
              "    <tr>\n",
              "      <th>1</th>\n",
              "      <td>1956</td>\n",
              "      <td>1</td>\n",
              "      <td>102</td>\n",
              "      <td>1</td>\n",
              "      <td>302</td>\n",
              "      <td>300</td>\n",
              "      <td>12</td>\n",
              "      <td>90310</td>\n",
              "      <td>9</td>\n",
              "      <td>majority</td>\n",
              "    </tr>\n",
              "    <tr>\n",
              "      <th>2</th>\n",
              "      <td>1956</td>\n",
              "      <td>184</td>\n",
              "      <td>27</td>\n",
              "      <td>2</td>\n",
              "      <td>104</td>\n",
              "      <td>104</td>\n",
              "      <td>1</td>\n",
              "      <td>80010</td>\n",
              "      <td>8</td>\n",
              "      <td>majority</td>\n",
              "    </tr>\n",
              "    <tr>\n",
              "      <th>3</th>\n",
              "      <td>1956</td>\n",
              "      <td>138</td>\n",
              "      <td>369</td>\n",
              "      <td>1</td>\n",
              "      <td>9</td>\n",
              "      <td>28</td>\n",
              "      <td>2</td>\n",
              "      <td>120020</td>\n",
              "      <td>12</td>\n",
              "      <td>majority</td>\n",
              "    </tr>\n",
              "    <tr>\n",
              "      <th>4</th>\n",
              "      <td>1956</td>\n",
              "      <td>195</td>\n",
              "      <td>3</td>\n",
              "      <td>2</td>\n",
              "      <td>300</td>\n",
              "      <td>300</td>\n",
              "      <td>1</td>\n",
              "      <td>40070</td>\n",
              "      <td>4</td>\n",
              "      <td>majority</td>\n",
              "    </tr>\n",
              "  </tbody>\n",
              "</table>\n",
              "</div>"
            ],
            "text/plain": [
              "   term  petitioner  respondent  ...   issue  issueArea      vote\n",
              "0  1956         113         102  ...  100130         10  majority\n",
              "1  1956           1         102  ...   90310          9  majority\n",
              "2  1956         184          27  ...   80010          8  majority\n",
              "3  1956         138         369  ...  120020         12  majority\n",
              "4  1956         195           3  ...   40070          4  majority\n",
              "\n",
              "[5 rows x 10 columns]"
            ]
          },
          "metadata": {
            "tags": []
          },
          "execution_count": 2
        }
      ]
    },
    {
      "cell_type": "markdown",
      "metadata": {
        "id": "vzFOknult0ST"
      },
      "source": [
        "Decoded, the first entry indicates:\r\n",
        "* The case was heard in 1956\r\n",
        "* The petitioner (appellant) was a \"bank, savings and loan, credit union, investment company\"\r\n",
        "* The respondent was an \"agent, fiduciary, trustee, or executor\"\r\n",
        "* The court assumed jurisdiction on the basis of a writ of certiorari\r\n",
        "* The case originated from the Pennsylvania Western U.S. District Court\r\n",
        "* The U.S. Court of Appeals, Third Circuit, was the source of the decision SCOTUS reviewed\r\n",
        "* SCOTUS granted the writ of certiorari in order to \"to resolve [an] important or significant question\"\r\n",
        "* The subject matter of the controversy related to \"cruel and unusual punishment, death penalty (cf. extra legal jury influence, death penalty)\"\r\n",
        "* The preceding variable was categorized as relating to federalism\r\n",
        "* Lastly, Justice Brennan voted with the majority\r\n",
        "\r\n",
        "Below, additional information from the dataset is set out.\r\n"
      ]
    },
    {
      "cell_type": "code",
      "metadata": {
        "colab": {
          "base_uri": "https://localhost:8080/"
        },
        "id": "kMVrrmRYLmbY",
        "outputId": "89496ed7-a800-47bc-9030-a382e9aa6e14"
      },
      "source": [
        "#hide_input\r\n",
        "dataset.info()"
      ],
      "execution_count": 3,
      "outputs": [
        {
          "output_type": "stream",
          "text": [
            "<class 'pandas.core.frame.DataFrame'>\n",
            "RangeIndex: 4746 entries, 0 to 4745\n",
            "Data columns (total 10 columns):\n",
            " #   Column        Non-Null Count  Dtype \n",
            "---  ------        --------------  ----- \n",
            " 0   term          4746 non-null   int64 \n",
            " 1   petitioner    4746 non-null   int64 \n",
            " 2   respondent    4746 non-null   int64 \n",
            " 3   jurisdiction  4746 non-null   int64 \n",
            " 4   caseOrigin    4746 non-null   int64 \n",
            " 5   caseSource    4746 non-null   int64 \n",
            " 6   certReason    4746 non-null   int64 \n",
            " 7   issue         4746 non-null   int64 \n",
            " 8   issueArea     4746 non-null   int64 \n",
            " 9   vote          4746 non-null   object\n",
            "dtypes: int64(9), object(1)\n",
            "memory usage: 370.9+ KB\n"
          ],
          "name": "stdout"
        }
      ]
    },
    {
      "cell_type": "markdown",
      "metadata": {
        "id": "Pn_A4fC8Lt6R"
      },
      "source": [
        "For present purposes, the most important information shown here is that the dataset contains 4746 entries, i.e. there is information regarding 4746 cases, including whether Justice Brennan voted with the majority or the minority of the SCOTUS panel.\r\n"
      ]
    },
    {
      "cell_type": "markdown",
      "metadata": {
        "id": "GRiiMwRBNZKb"
      },
      "source": [
        "# The Deep Learning Model\r\n",
        "\r\n",
        "Machine learning is a subfield of computer science wherein machines learn to perform tasks for which they were not explicitly programmed.{% fn 1 %}\r\n",
        "\r\n",
        "Deep learning is a subset of methods in the machine learning toolbox, using mainly artificial neural networks. Neural networks are a kind of algorithm somewhat modelled on neurons in the human brain.{% fn 2 %}\r\n",
        "\r\n",
        "\r\n",
        "\r\n",
        "{{ 'Grokking Deep Learning by Andrew Trask, p. 11' | fndetail: 1 }}\r\n",
        "{{ 'Ibid., p. 10' | fndetail: 2 }}\r\n"
      ]
    }
  ]
}