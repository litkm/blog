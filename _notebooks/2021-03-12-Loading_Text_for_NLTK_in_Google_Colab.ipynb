{
  "nbformat": 4,
  "nbformat_minor": 0,
  "metadata": {
    "colab": {
      "name": "2021-03-12-Loading Text for NLTK in Google Colab.ipynb",
      "provenance": [],
      "collapsed_sections": []
    },
    "kernelspec": {
      "name": "python3",
      "display_name": "Python 3"
    }
  },
  "cells": [
    {
      "cell_type": "markdown",
      "metadata": {
        "id": "FleAG2Cr7tsO"
      },
      "source": [
        "# How to Load Text Files as a Corpus for NLTK in Google Colab\r\n",
        "> \"Featuring two approaches: in Colab and from Google Drive\"\r\n",
        "\r\n",
        "- toc: true \r\n",
        "- badges: true\r\n",
        "- comments: true\r\n",
        "- image: images/social_logo.png\r\n",
        "- author: Charles Dobson\r\n",
        "- categories: [natural language processing, preprocessing text, nltk, nlp, google colab]"
      ]
    },
    {
      "cell_type": "markdown",
      "metadata": {
        "id": "J4gaw8MX8uil"
      },
      "source": [
        "# Introduction\r\n",
        "\r\n",
        "Most tutorials on NLTK presume you are working locally as opposed to in a cloud environment such as Google Colab. \r\n",
        "\r\n",
        "In this blog post, I address using Google Colab to load text files for use as a corpus from:\r\n",
        "1. within Google Colab; and\r\n",
        "2. Google Drive.\r\n",
        "\r\n",
        "When I looked on the web, I did not see any articles addressing this directly. Hence this brief post.\r\n",
        "\r\n",
        "# Loading from within Google Colab\r\n",
        "\r\n",
        "First, you must upload the text files into your Colab environment.\r\n",
        "\r\n",
        "Click on the file icon located on the left side of the screen. Navigate the file structure to where you wish to store the files.\r\n",
        "\r\n",
        "By default, your Colab environment will have a `/content` subfolder. For this post, I created a subfolder called `/content/textfiles`. This is where I then uploaded the text files for the corpus. To upload, right click on the folder where you wish the files to be placed.\r\n",
        "\r\n",
        "In the below screen shot, you see the file structure and the \"test\" text files I uploaded.\r\n",
        "\r\n",
        "![](my_icons/colabfiles.png)\r\n",
        "\r\n",
        "Now we are ready to load the text files as a corpus. From hereon, the process is essentially the same as if you were working locally.\r\n",
        "\r\n",
        "For the limited purposes of this tutorial, the below dependencies are required.\r\n",
        "\r\n",
        "\r\n",
        "\r\n"
      ]
    },
    {
      "cell_type": "code",
      "metadata": {
        "id": "4Idq633MQMD5"
      },
      "source": [
        "import nltk\r\n",
        "from nltk.corpus import PlaintextCorpusReader"
      ],
      "execution_count": 2,
      "outputs": []
    },
    {
      "cell_type": "markdown",
      "metadata": {
        "id": "rwxFuuFuQMYH"
      },
      "source": [
        "NLTK contains a class called `PlaintextCorpusReader()` for creating a corpus from text files. \r\n",
        "\r\n",
        "In the below example, we assign the directory where the files are located to a variable (`corpus_root`). \r\n",
        "\r\n",
        "We then instantiate an instance of `PlaintextCorpusReader()` and assign it to the variable `corpus`. The parameters indicate where to find the text files, and which files to include (in this example, all of them).\r\n",
        "\r\n",
        "Finally, to confirm the corpus has been constituted, we call the `fileids()` method to list the files contained within the corpus.\r\n",
        "\r\n"
      ]
    },
    {
      "cell_type": "code",
      "metadata": {
        "colab": {
          "base_uri": "https://localhost:8080/"
        },
        "id": "T_lROTS5Qjpm",
        "outputId": "a14f294f-fb8c-4417-c89b-c96bcd1c9b36"
      },
      "source": [
        "corpus_root = '/content/textfiles'\r\n",
        "corpus = PlaintextCorpusReader(corpus_root, '.*')\r\n",
        "corpus.fileids()\r\n"
      ],
      "execution_count": 3,
      "outputs": [
        {
          "output_type": "execute_result",
          "data": {
            "text/plain": [
              "['test_data_1.txt', 'test_data_2.txt', 'test_data_3.txt']"
            ]
          },
          "metadata": {
            "tags": []
          },
          "execution_count": 3
        }
      ]
    },
    {
      "cell_type": "markdown",
      "metadata": {
        "id": "_OVQR0yiQPwZ"
      },
      "source": [
        "If you are using a free Colab account, each time your disconnect from the runtime environment your files will be deleted. To avoid this, either upgrade your Colab account or use Google drive.\r\n",
        "\r\n",
        "# Loading from Google Drive\r\n",
        "\r\n",
        "The process for creating a corpus from text files located on your Google Drive is similar to the above. These instructions assume you are using the same Google account for both Colab and Google Drive.\r\n",
        "\r\n",
        "First, upload the text files into your Google Drive. Take note of the directory.\r\n",
        "\r\n",
        "In addition to the dependencies listed above, one more is required. This is to mount your Google Drive in your Colab environment. Then call the the mount method and follow the instructions that result.\r\n",
        "\r\n"
      ]
    },
    {
      "cell_type": "code",
      "metadata": {
        "colab": {
          "base_uri": "https://localhost:8080/"
        },
        "id": "gM2UBNZSfhmf",
        "outputId": "bb468cc3-60df-4218-b034-d1907ee96b0e"
      },
      "source": [
        "from google.colab import drive\r\n",
        "drive.mount('/content/drive')"
      ],
      "execution_count": 4,
      "outputs": [
        {
          "output_type": "stream",
          "text": [
            "Mounted at /content/drive\n"
          ],
          "name": "stdout"
        }
      ]
    },
    {
      "cell_type": "markdown",
      "metadata": {
        "id": "5gNeNxKcf36k"
      },
      "source": [
        "Now your Google Drive is mounted. The balance of the process is the same as above, i.e. as if you were working with the files directly in your Colab environment. Make sure to revise the file path as necessary. \r\n"
      ]
    },
    {
      "cell_type": "code",
      "metadata": {
        "colab": {
          "base_uri": "https://localhost:8080/"
        },
        "id": "C4CAy72jgKKU",
        "outputId": "1c760592-499b-4083-de75-46c5d93ed5b7"
      },
      "source": [
        "corpus_root = '/content/drive/MyDrive/Datasets'\r\n",
        "corpus = PlaintextCorpusReader(corpus_root, '.*')\r\n",
        "corpus.fileids()"
      ],
      "execution_count": 5,
      "outputs": [
        {
          "output_type": "execute_result",
          "data": {
            "text/plain": [
              "['test_data_1.txt', 'test_data_2.txt', 'test_data_3.txt']"
            ]
          },
          "metadata": {
            "tags": []
          },
          "execution_count": 5
        }
      ]
    },
    {
      "cell_type": "markdown",
      "metadata": {
        "id": "jn1nrFA5jCG0"
      },
      "source": [
        "Now you are ready to start processing your corpus!\r\n",
        "\r\n",
        "If you have any questions, please feel free to reach out."
      ]
    }
  ]
}